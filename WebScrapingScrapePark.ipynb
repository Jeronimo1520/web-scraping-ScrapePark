{
  "nbformat": 4,
  "nbformat_minor": 0,
  "metadata": {
    "colab": {
      "provenance": []
    },
    "kernelspec": {
      "name": "python3",
      "display_name": "Python 3"
    },
    "language_info": {
      "name": "python"
    }
  },
  "cells": [
    {
      "cell_type": "markdown",
      "source": [
        "# **Web scraping con Python**\n",
        "\n",
        "## *Material complementario del curso dictado por [Gustavo Juantorena](https://github.com/GEJ1) para **freeCodecamp** en español.*\n",
        "\n",
        "### **Link a la web de práctica: https://scrapepark.org/courses/spanish/**\n",
        "\n",
        "Práctica realizada por Jerónimo Bedoya"
      ],
      "metadata": {
        "id": "nyiItlD9OkLd"
      }
    },
    {
      "cell_type": "markdown",
      "source": [
        "# **Hoja de ruta**\n",
        "\n",
        "## 1. Pedidos HTTP con **Requests**\n",
        "## 2. Uso basico de **APIs**\n",
        "## 3. Web Scraping con **Beautiful Soup**\n",
        "\n",
        "\n"
      ],
      "metadata": {
        "id": "TlsL6lQ5O1Yk"
      }
    },
    {
      "cell_type": "markdown",
      "source": [
        "# **Pedidos HTTP con requests**\n"
      ],
      "metadata": {
        "id": "i1_y0iSPO4qd"
      }
    },
    {
      "cell_type": "code",
      "execution_count": 2,
      "metadata": {
        "id": "AHUaF3UPOIEO"
      },
      "outputs": [],
      "source": [
        "import requests\n",
        "import json"
      ]
    },
    {
      "cell_type": "code",
      "source": [
        "# Hacemos un pedido a la página de wikipedia\n",
        "URL = 'https://es.wikipedia.org/'\n",
        "\n",
        "# Guardamos el objeto que nos devuelve\n",
        "\n",
        "response = requests.get(URL)\n",
        "\n",
        "print(f'Tipo de Objeto: {type(response)} \\n')\n",
        "print(f'Código de estado: {response.status_code} \\n') #Exitoso\n",
        "print(f'Data: {response.text} \\n')"
      ],
      "metadata": {
        "colab": {
          "base_uri": "https://localhost:8080/"
        },
        "id": "SvKFA3zcPi7d",
        "outputId": "be4dbda7-2956-4277-f502-5700484549ad"
      },
      "execution_count": 3,
      "outputs": [
        {
          "output_type": "stream",
          "name": "stdout",
          "text": [
            "Tipo de Objeto: <class 'requests.models.Response'> \n",
            "\n",
            "Código de estado: 200 \n",
            "\n",
            "Data: <!DOCTYPE html>\n",
            "<html class=\"client-nojs vector-feature-language-in-header-enabled vector-feature-language-in-main-page-header-disabled vector-feature-sticky-header-disabled vector-feature-page-tools-pinned-disabled vector-feature-toc-pinned-clientpref-1 vector-feature-main-menu-pinned-disabled vector-feature-limited-width-clientpref-1 vector-feature-limited-width-content-enabled vector-feature-zebra-design-disabled vector-feature-custom-font-size-clientpref-0 vector-feature-client-preferences-disabled vector-feature-typography-survey-disabled vector-toc-not-available\" lang=\"es\" dir=\"ltr\">\n",
            "<head>\n",
            "<meta charset=\"UTF-8\">\n",
            "<title>Wikipedia, la enciclopedia libre</title>\n",
            "<script>(function(){var className=\"client-js vector-feature-language-in-header-enabled vector-feature-language-in-main-page-header-disabled vector-feature-sticky-header-disabled vector-feature-page-tools-pinned-disabled vector-feature-toc-pinned-clientpref-1 vector-feature-main-menu-pinned-disabled vector-feature-limited-width-clientpref-1 vector-feature-limited-width-content-enabled vector-feature-zebra-design-disabled vector-feature-custom-font-size-clientpref-0 vector-feature-client-preferences-disabled vector-feature-typography-survey-disabled vector-toc-not-available\";var cookie=document.cookie.match(/(?:^|; )eswikimwclientpreferences=([^;]+)/);if(cookie){cookie[1].split('%2C').forEach(function(pref){className=className.replace(new RegExp('(^| )'+pref.replace(/-clientpref-\\w+$|[^\\w-]+/g,'')+'-clientpref-\\\\w+( |$)'),'$1'+pref+'$2');});}document.documentElement.className=className;}());RLCONF={\"wgBreakFrames\":false,\"wgSeparatorTransformTable\":[\",\\t.\",\" \\t,\"],\"wgDigitTransformTable\":[\"\",\"\"]\n",
            ",\"wgDefaultDateFormat\":\"dmy\",\"wgMonthNames\":[\"\",\"enero\",\"febrero\",\"marzo\",\"abril\",\"mayo\",\"junio\",\"julio\",\"agosto\",\"septiembre\",\"octubre\",\"noviembre\",\"diciembre\"],\"wgRequestId\":\"fde5cfc8-6ce7-45b5-b8c0-e513b0d7ea98\",\"wgCanonicalNamespace\":\"Project\",\"wgCanonicalSpecialPageName\":false,\"wgNamespaceNumber\":4,\"wgPageName\":\"Wikipedia:Portada\",\"wgTitle\":\"Portada\",\"wgCurRevisionId\":149134229,\"wgRevisionId\":149134229,\"wgArticleId\":2271189,\"wgIsArticle\":true,\"wgIsRedirect\":false,\"wgAction\":\"view\",\"wgUserName\":null,\"wgUserGroups\":[\"*\"],\"wgCategories\":[],\"wgPageViewLanguage\":\"es\",\"wgPageContentLanguage\":\"es\",\"wgPageContentModel\":\"wikitext\",\"wgRelevantPageName\":\"Wikipedia:Portada\",\"wgRelevantArticleId\":2271189,\"wgIsProbablyEditable\":false,\"wgRelevantPageIsProbablyEditable\":false,\"wgRestrictionEdit\":[\"sysop\"],\"wgRestrictionMove\":[\"sysop\"],\"wgIsMainPage\":true,\"wgNoticeProject\":\"wikipedia\",\"wgMediaViewerOnClick\":true,\"wgMediaViewerEnabledByDefault\":true,\"wgPopupsFlags\":6,\"wgVisualEditor\":{\n",
            "\"pageLanguageCode\":\"es\",\"pageLanguageDir\":\"ltr\",\"pageVariantFallbacks\":\"es\"},\"wgMFDisplayWikibaseDescriptions\":{\"search\":true,\"watchlist\":true,\"tagline\":true,\"nearby\":true},\"wgWMESchemaEditAttemptStepOversample\":false,\"wgWMEPageLength\":3000,\"wgULSCurrentAutonym\":\"español\",\"wgCentralAuthMobileDomain\":false,\"wgEditSubmitButtonLabelPublish\":true,\"wgDiscussionToolsFeaturesEnabled\":{\"replytool\":true,\"newtopictool\":true,\"sourcemodetoolbar\":true,\"topicsubscription\":false,\"autotopicsub\":false,\"visualenhancements\":false,\"visualenhancements_reply\":false,\"visualenhancements_pageframe\":false},\"wgDiscussionToolsFallbackEditMode\":\"source\",\"wgULSPosition\":\"interlanguage\",\"wgULSisCompactLinksEnabled\":true,\"wgULSisLanguageSelectorEmpty\":false,\"wgWikibaseItemId\":\"Q5296\",\"wgCheckUserClientHintsHeadersJsApi\":[\"architecture\",\"bitness\",\"brands\",\"fullVersionList\",\"mobile\",\"model\",\"platform\",\"platformVersion\"],\"GEHomepageSuggestedEditsEnableTopics\":true,\"wgGETopicsMatchModeEnabled\":true,\n",
            "\"wgGEStructuredTaskRejectionReasonTextInputEnabled\":false,\"wgGELevelingUpEnabledForUser\":false};RLSTATE={\"skins.vector.user.styles\":\"ready\",\"ext.gadget.imagenesinfobox\":\"ready\",\"ext.globalCssJs.user.styles\":\"ready\",\"site.styles\":\"ready\",\"user.styles\":\"ready\",\"skins.vector.user\":\"ready\",\"ext.globalCssJs.user\":\"ready\",\"user\":\"ready\",\"user.options\":\"loading\",\"ext.discussionTools.init.styles\":\"ready\",\"oojs-ui-core.styles\":\"ready\",\"oojs-ui.styles.indicators\":\"ready\",\"mediawiki.widgets.styles\":\"ready\",\"oojs-ui-core.icons\":\"ready\",\"codex-search-styles\":\"ready\",\"skins.vector.styles\":\"ready\",\"skins.vector.icons\":\"ready\",\"jquery.makeCollapsible.styles\":\"ready\",\"mediawiki.ui.button\":\"ready\",\"ext.visualEditor.desktopArticleTarget.noscript\":\"ready\",\"ext.uls.interlanguage\":\"ready\",\"ext.wikimediaBadges\":\"ready\"};RLPAGEMODULES=[\"site\",\"mediawiki.page.ready\",\"jquery.makeCollapsible\",\"skins.vector.js\",\"ext.centralNotice.geoIP\",\"ext.centralNotice.startUp\",\"ext.gadget.a-commons-directo\",\n",
            "\"ext.gadget.ReferenceTooltips\",\"ext.gadget.refToolbar\",\"ext.gadget.switcher\",\"ext.urlShortener.toolbar\",\"ext.centralauth.centralautologin\",\"mmv.head\",\"mmv.bootstrap.autostart\",\"ext.popups\",\"ext.visualEditor.desktopArticleTarget.init\",\"ext.visualEditor.targetLoader\",\"ext.echo.centralauth\",\"ext.discussionTools.init\",\"ext.eventLogging\",\"ext.wikimediaEvents\",\"ext.navigationTiming\",\"ext.uls.interface\",\"ext.cx.eventlogging.campaigns\",\"wikibase.client.vector-2022\",\"ext.checkUser.clientHints\"];</script>\n",
            "<script>(RLQ=window.RLQ||[]).push(function(){mw.loader.impl(function(){return[\"user.options@12s5i\",function($,jQuery,require,module){mw.user.tokens.set({\"patrolToken\":\"+\\\\\",\"watchToken\":\"+\\\\\",\"csrfToken\":\"+\\\\\"});\n",
            "}];});});</script>\n",
            "<link rel=\"stylesheet\" href=\"/w/load.php?lang=es&amp;modules=codex-search-styles%7Cext.discussionTools.init.styles%7Cext.uls.interlanguage%7Cext.visualEditor.desktopArticleTarget.noscript%7Cext.wikimediaBadges%7Cjquery.makeCollapsible.styles%7Cmediawiki.ui.button%7Cmediawiki.widgets.styles%7Coojs-ui-core.icons%2Cstyles%7Coojs-ui.styles.indicators%7Cskins.vector.icons%2Cstyles&amp;only=styles&amp;skin=vector-2022\">\n",
            "<script async=\"\" src=\"/w/load.php?lang=es&amp;modules=startup&amp;only=scripts&amp;raw=1&amp;skin=vector-2022\"></script>\n",
            "<meta name=\"ResourceLoaderDynamicStyles\" content=\"\">\n",
            "<link rel=\"stylesheet\" href=\"/w/load.php?lang=es&amp;modules=ext.gadget.imagenesinfobox&amp;only=styles&amp;skin=vector-2022\">\n",
            "<link rel=\"stylesheet\" href=\"/w/load.php?lang=es&amp;modules=site.styles&amp;only=styles&amp;skin=vector-2022\">\n",
            "<noscript><link rel=\"stylesheet\" href=\"/w/load.php?lang=es&amp;modules=noscript&amp;only=styles&amp;skin=vector-2022\"></noscript>\n",
            "<meta name=\"generator\" content=\"MediaWiki 1.42.0-wmf.5\">\n",
            "<meta name=\"referrer\" content=\"origin\">\n",
            "<meta name=\"referrer\" content=\"origin-when-cross-origin\">\n",
            "<meta name=\"robots\" content=\"max-image-preview:standard\">\n",
            "<meta name=\"format-detection\" content=\"telephone=no\">\n",
            "<meta name=\"viewport\" content=\"width=1000\">\n",
            "<meta property=\"og:title\" content=\"Wikipedia, la enciclopedia libre\">\n",
            "<meta property=\"og:type\" content=\"website\">\n",
            "<link rel=\"preconnect\" href=\"//upload.wikimedia.org\">\n",
            "<link rel=\"alternate\" media=\"only screen and (max-width: 720px)\" href=\"//es.m.wikipedia.org/wiki/Wikipedia:Portada\">\n",
            "<link rel=\"apple-touch-icon\" href=\"/static/apple-touch/wikipedia.png\">\n",
            "<link rel=\"icon\" href=\"/static/favicon/wikipedia.ico\">\n",
            "<link rel=\"search\" type=\"application/opensearchdescription+xml\" href=\"/w/opensearch_desc.php\" title=\"Wikipedia (es)\">\n",
            "<link rel=\"EditURI\" type=\"application/rsd+xml\" href=\"//es.wikipedia.org/w/api.php?action=rsd\">\n",
            "<link rel=\"canonical\" href=\"https://es.wikipedia.org/wiki/Wikipedia:Portada\">\n",
            "<link rel=\"license\" href=\"https://creativecommons.org/licenses/by-sa/4.0/deed.es\">\n",
            "<link rel=\"alternate\" type=\"application/atom+xml\" title=\"Canal Atom de Wikipedia\" href=\"/w/index.php?title=Especial:CambiosRecientes&amp;feed=atom\">\n",
            "<link rel=\"dns-prefetch\" href=\"//meta.wikimedia.org\" />\n",
            "<link rel=\"dns-prefetch\" href=\"//login.wikimedia.org\">\n",
            "</head>\n",
            "<body class=\"ext-discussiontools-replytool-enabled ext-discussiontools-newtopictool-enabled ext-discussiontools-sourcemodetoolbar-enabled skin-vector skin-vector-search-vue mediawiki ltr sitedir-ltr mw-hide-empty-elt ns-4 ns-subject page-Wikipedia_Portada rootpage-Wikipedia_Portada skin-vector-2022 action-view\"><a class=\"mw-jump-link\" href=\"#bodyContent\">Ir al contenido</a>\n",
            "<div class=\"vector-header-container\">\n",
            "\t<header class=\"vector-header mw-header\">\n",
            "\t\t<div class=\"vector-header-start\">\n",
            "\t\t\t<nav class=\"vector-main-menu-landmark\" aria-label=\"Sitio\" role=\"navigation\">\n",
            "\t\t\t\t\n",
            "<div id=\"vector-main-menu-dropdown\" class=\"vector-dropdown vector-main-menu-dropdown vector-button-flush-left vector-button-flush-right\"  >\n",
            "\t<input type=\"checkbox\" id=\"vector-main-menu-dropdown-checkbox\" role=\"button\" aria-haspopup=\"true\" data-event-name=\"ui.dropdown-vector-main-menu-dropdown\" class=\"vector-dropdown-checkbox \"  aria-label=\"Menú principal\"  >\n",
            "\t<label id=\"vector-main-menu-dropdown-label\" for=\"vector-main-menu-dropdown-checkbox\" class=\"vector-dropdown-label cdx-button cdx-button--fake-button cdx-button--fake-button--enabled cdx-button--weight-quiet cdx-button--icon-only \" aria-hidden=\"true\"  ><span class=\"vector-icon mw-ui-icon-menu mw-ui-icon-wikimedia-menu\"></span>\n",
            "\n",
            "<span class=\"vector-dropdown-label-text\">Menú principal</span>\n",
            "\t</label>\n",
            "\t<div class=\"vector-dropdown-content\">\n",
            "\n",
            "\n",
            "\t\t\t\t<div id=\"vector-main-menu-unpinned-container\" class=\"vector-unpinned-container\">\n",
            "\t\t\n",
            "<div id=\"vector-main-menu\" class=\"vector-main-menu vector-pinnable-element\">\n",
            "\t<div\n",
            "\tclass=\"vector-pinnable-header vector-main-menu-pinnable-header vector-pinnable-header-unpinned\"\n",
            "\tdata-feature-name=\"main-menu-pinned\"\n",
            "\tdata-pinnable-element-id=\"vector-main-menu\"\n",
            "\tdata-pinned-container-id=\"vector-main-menu-pinned-container\"\n",
            "\tdata-unpinned-container-id=\"vector-main-menu-unpinned-container\"\n",
            ">\n",
            "\t<div class=\"vector-pinnable-header-label\">Menú principal</div>\n",
            "\t<button class=\"vector-pinnable-header-toggle-button vector-pinnable-header-pin-button\" data-event-name=\"pinnable-header.vector-main-menu.pin\">mover a la barra lateral</button>\n",
            "\t<button class=\"vector-pinnable-header-toggle-button vector-pinnable-header-unpin-button\" data-event-name=\"pinnable-header.vector-main-menu.unpin\">ocultar</button>\n",
            "</div>\n",
            "\n",
            "\t\n",
            "<div id=\"p-navigation\" class=\"vector-menu mw-portlet mw-portlet-navigation\"  >\n",
            "\t<div class=\"vector-menu-heading\">\n",
            "\t\tNavegación\n",
            "\t</div>\n",
            "\t<div class=\"vector-menu-content\">\n",
            "\t\t\n",
            "\t\t<ul class=\"vector-menu-content-list\">\n",
            "\t\t\t\n",
            "\t\t\t<li id=\"n-mainpage-description\" class=\"mw-list-item\"><a href=\"/wiki/Wikipedia:Portada\" title=\"Visitar la página principal [z]\" accesskey=\"z\"><span>Portada</span></a></li><li id=\"n-portal\" class=\"mw-list-item\"><a href=\"/wiki/Portal:Comunidad\" title=\"Acerca del proyecto, lo que puedes hacer, dónde encontrar información\"><span>Portal de la comunidad</span></a></li><li id=\"n-currentevents\" class=\"mw-list-item\"><a href=\"/wiki/Portal:Actualidad\" title=\"Encuentra información de contexto sobre acontecimientos actuales\"><span>Actualidad</span></a></li><li id=\"n-recentchanges\" class=\"mw-list-item\"><a href=\"/wiki/Especial:CambiosRecientes\" title=\"Lista de cambios recientes en la wiki [r]\" accesskey=\"r\"><span>Cambios recientes</span></a></li><li id=\"n-newpages\" class=\"mw-list-item\"><a href=\"/wiki/Especial:P%C3%A1ginasNuevas\"><span>Páginas nuevas</span></a></li><li id=\"n-randompage\" class=\"mw-list-item\"><a href=\"/wiki/Especial:Aleatoria\" title=\"Cargar una página al azar [x]\" accesskey=\"x\"><span>Página aleatoria</span></a></li><li id=\"n-help\" class=\"mw-list-item\"><a href=\"/wiki/Ayuda:Contenidos\" title=\"El lugar para aprender\"><span>Ayuda</span></a></li><li id=\"n-sitesupport\" class=\"mw-list-item\"><a href=\"//donate.wikimedia.org/wiki/Special:FundraiserRedirector?utm_source=donate&amp;utm_medium=sidebar&amp;utm_campaign=C13_es.wikipedia.org&amp;uselang=es\" title=\"Apóyanos\"><span>Donaciones</span></a></li><li id=\"n-bug_in_article\" class=\"mw-list-item\"><a href=\"/wiki/Wikipedia:Informes_de_error\"><span>Notificar un error</span></a></li>\n",
            "\t\t</ul>\n",
            "\t\t\n",
            "\t</div>\n",
            "</div>\n",
            "\n",
            "\t\n",
            "\t\n",
            "\t\n",
            "</div>\n",
            "\n",
            "\t\t\t\t</div>\n",
            "\n",
            "\t</div>\n",
            "</div>\n",
            "\n",
            "\t\t</nav>\n",
            "\t\t\t\n",
            "<a href=\"/wiki/Wikipedia:Portada\" class=\"mw-logo\">\n",
            "\t<img class=\"mw-logo-icon\" src=\"/static/images/icons/wikipedia.png\" alt=\"\" aria-hidden=\"true\" height=\"50\" width=\"50\">\n",
            "\t<span class=\"mw-logo-container\">\n",
            "\t\t<img class=\"mw-logo-wordmark\" alt=\"Wikipedia\" src=\"/static/images/mobile/copyright/wikipedia-wordmark-en.svg\" style=\"width: 7.5em; height: 1.125em;\">\n",
            "\t\t<img class=\"mw-logo-tagline\" alt=\"La enciclopedia libre\" src=\"/static/images/mobile/copyright/wikipedia-tagline-es.svg\" width=\"120\" height=\"13\" style=\"width: 7.5em; height: 0.8125em;\">\n",
            "\t</span>\n",
            "</a>\n",
            "\n",
            "\t\t</div>\n",
            "\t\t<div class=\"vector-header-end\">\n",
            "\t\t\t\n",
            "<div id=\"p-search\" role=\"search\" class=\"vector-search-box-vue  vector-search-box-collapses vector-search-box-show-thumbnail vector-search-box-auto-expand-width vector-search-box\">\n",
            "\t<a href=\"/wiki/Especial:Buscar\" class=\"cdx-button cdx-button--fake-button cdx-button--fake-button--enabled cdx-button--weight-quiet cdx-button--icon-only search-toggle\" id=\"\" title=\"Buscar en este wiki [f]\" accesskey=\"f\"><span class=\"vector-icon mw-ui-icon-search mw-ui-icon-wikimedia-search\"></span>\n",
            "\n",
            "<span>Buscar</span>\n",
            "\t</a>\n",
            "\t<div class=\"vector-typeahead-search-container\">\n",
            "\t\t<div class=\"cdx-typeahead-search cdx-typeahead-search--show-thumbnail cdx-typeahead-search--auto-expand-width\">\n",
            "\t\t\t<form action=\"/w/index.php\" id=\"searchform\" class=\"cdx-search-input cdx-search-input--has-end-button\">\n",
            "\t\t\t\t<div id=\"simpleSearch\" class=\"cdx-search-input__input-wrapper\"  data-search-loc=\"header-moved\">\n",
            "\t\t\t\t\t<div class=\"cdx-text-input cdx-text-input--has-start-icon\">\n",
            "\t\t\t\t\t\t<input\n",
            "\t\t\t\t\t\t\tclass=\"cdx-text-input__input\"\n",
            "\t\t\t\t\t\t\t type=\"search\" name=\"search\" placeholder=\"Buscar en Wikipedia\" aria-label=\"Buscar en Wikipedia\" autocapitalize=\"sentences\" title=\"Buscar en este wiki [f]\" accesskey=\"f\" id=\"searchInput\"\n",
            "\t\t\t\t\t\t\t>\n",
            "\t\t\t\t\t\t<span class=\"cdx-text-input__icon cdx-text-input__start-icon\"></span>\n",
            "\t\t\t\t\t</div>\n",
            "\t\t\t\t\t<input type=\"hidden\" name=\"title\" value=\"Especial:Buscar\">\n",
            "\t\t\t\t</div>\n",
            "\t\t\t\t<button class=\"cdx-button cdx-search-input__end-button\">Buscar</button>\n",
            "\t\t\t</form>\n",
            "\t\t</div>\n",
            "\t</div>\n",
            "</div>\n",
            "\n",
            "\t\t\t<nav class=\"vector-user-links vector-user-links-wide\" aria-label=\"Herramientas personales\" role=\"navigation\" >\n",
            "\t<div class=\"vector-user-links-main\">\n",
            "\t\n",
            "<div id=\"p-vector-user-menu-preferences\" class=\"vector-menu mw-portlet emptyPortlet\"  >\n",
            "\t<div class=\"vector-menu-content\">\n",
            "\t\t\n",
            "\t\t<ul class=\"vector-menu-content-list\">\n",
            "\t\t\t\n",
            "\t\t\t\n",
            "\t\t</ul>\n",
            "\t\t\n",
            "\t</div>\n",
            "</div>\n",
            "\n",
            "\t\n",
            "<div id=\"p-vector-user-menu-userpage\" class=\"vector-menu mw-portlet emptyPortlet\"  >\n",
            "\t<div class=\"vector-menu-content\">\n",
            "\t\t\n",
            "\t\t<ul class=\"vector-menu-content-list\">\n",
            "\t\t\t\n",
            "\t\t\t\n",
            "\t\t</ul>\n",
            "\t\t\n",
            "\t</div>\n",
            "</div>\n",
            "\n",
            "\t\n",
            "<div id=\"p-vector-user-menu-notifications\" class=\"vector-menu mw-portlet emptyPortlet\"  >\n",
            "\t<div class=\"vector-menu-content\">\n",
            "\t\t\n",
            "\t\t<ul class=\"vector-menu-content-list\">\n",
            "\t\t\t\n",
            "\t\t\t\n",
            "\t\t</ul>\n",
            "\t\t\n",
            "\t</div>\n",
            "</div>\n",
            "\n",
            "\t\n",
            "<div id=\"p-vector-user-menu-overflow\" class=\"vector-menu mw-portlet\"  >\n",
            "\t<div class=\"vector-menu-content\">\n",
            "\t\t\n",
            "\t\t<ul class=\"vector-menu-content-list\">\n",
            "\t\t\t<li id=\"pt-createaccount-2\" class=\"user-links-collapsible-item mw-list-item user-links-collapsible-item\"><a data-mw=\"interface\" href=\"/w/index.php?title=Especial:Crear_una_cuenta&amp;returnto=Wikipedia%3APortada\" title=\"Te recomendamos crear una cuenta e iniciar sesión; sin embargo, no es obligatorio\" class=\"\"><span>Crear una cuenta</span></a>\n",
            "</li>\n",
            "<li id=\"pt-login-2\" class=\"user-links-collapsible-item mw-list-item user-links-collapsible-item\"><a data-mw=\"interface\" href=\"/w/index.php?title=Especial:Entrar&amp;returnto=Wikipedia%3APortada\" title=\"Te recomendamos iniciar sesión, aunque no es obligatorio [o]\" accesskey=\"o\" class=\"\"><span>Acceder</span></a>\n",
            "</li>\n",
            "\n",
            "\t\t\t\n",
            "\t\t</ul>\n",
            "\t\t\n",
            "\t</div>\n",
            "</div>\n",
            "\n",
            "\t</div>\n",
            "\t\n",
            "<div id=\"vector-user-links-dropdown\" class=\"vector-dropdown vector-user-menu vector-button-flush-right vector-user-menu-logged-out\"  title=\"Más opciones\" >\n",
            "\t<input type=\"checkbox\" id=\"vector-user-links-dropdown-checkbox\" role=\"button\" aria-haspopup=\"true\" data-event-name=\"ui.dropdown-vector-user-links-dropdown\" class=\"vector-dropdown-checkbox \"  aria-label=\"Herramientas personales\"  >\n",
            "\t<label id=\"vector-user-links-dropdown-label\" for=\"vector-user-links-dropdown-checkbox\" class=\"vector-dropdown-label cdx-button cdx-button--fake-button cdx-button--fake-button--enabled cdx-button--weight-quiet cdx-button--icon-only \" aria-hidden=\"true\"  ><span class=\"vector-icon mw-ui-icon-ellipsis mw-ui-icon-wikimedia-ellipsis\"></span>\n",
            "\n",
            "<span class=\"vector-dropdown-label-text\">Herramientas personales</span>\n",
            "\t</label>\n",
            "\t<div class=\"vector-dropdown-content\">\n",
            "\n",
            "\n",
            "\t\t\n",
            "<div id=\"p-personal\" class=\"vector-menu mw-portlet mw-portlet-personal user-links-collapsible-item\"  title=\"Menú de usuario\" >\n",
            "\t<div class=\"vector-menu-content\">\n",
            "\t\t\n",
            "\t\t<ul class=\"vector-menu-content-list\">\n",
            "\t\t\t\n",
            "\t\t\t<li id=\"pt-createaccount\" class=\"user-links-collapsible-item mw-list-item\"><a href=\"/w/index.php?title=Especial:Crear_una_cuenta&amp;returnto=Wikipedia%3APortada\" title=\"Te recomendamos crear una cuenta e iniciar sesión; sin embargo, no es obligatorio\"><span class=\"vector-icon mw-ui-icon-userAdd mw-ui-icon-wikimedia-userAdd\"></span> <span>Crear una cuenta</span></a></li><li id=\"pt-login\" class=\"user-links-collapsible-item mw-list-item\"><a href=\"/w/index.php?title=Especial:Entrar&amp;returnto=Wikipedia%3APortada\" title=\"Te recomendamos iniciar sesión, aunque no es obligatorio [o]\" accesskey=\"o\"><span class=\"vector-icon mw-ui-icon-logIn mw-ui-icon-wikimedia-logIn\"></span> <span>Acceder</span></a></li>\n",
            "\t\t</ul>\n",
            "\t\t\n",
            "\t</div>\n",
            "</div>\n",
            "\n",
            "<div id=\"p-user-menu-anon-editor\" class=\"vector-menu mw-portlet mw-portlet-user-menu-anon-editor\"  >\n",
            "\t<div class=\"vector-menu-heading\">\n",
            "\t\tPáginas para editores desconectados <a href=\"/wiki/Ayuda:Introducci%C3%B3n\" aria-label=\"Obtenga más información sobre editar\"><span>más información</span></a>\n",
            "\t</div>\n",
            "\t<div class=\"vector-menu-content\">\n",
            "\t\t\n",
            "\t\t<ul class=\"vector-menu-content-list\">\n",
            "\t\t\t\n",
            "\t\t\t<li id=\"pt-anoncontribs\" class=\"mw-list-item\"><a href=\"/wiki/Especial:MisContribuciones\" title=\"Una lista de modificaciones hechas desde esta dirección IP [y]\" accesskey=\"y\"><span>Contribuciones</span></a></li><li id=\"pt-anontalk\" class=\"mw-list-item\"><a href=\"/wiki/Especial:MiDiscusi%C3%B3n\" title=\"Discusión sobre ediciones hechas desde esta dirección IP [n]\" accesskey=\"n\"><span>Discusión</span></a></li>\n",
            "\t\t</ul>\n",
            "\t\t\n",
            "\t</div>\n",
            "</div>\n",
            "\n",
            "\t\n",
            "\t</div>\n",
            "</div>\n",
            "\n",
            "</nav>\n",
            "\n",
            "\t\t</div>\n",
            "\t</header>\n",
            "</div>\n",
            "<div class=\"mw-page-container\">\n",
            "\t<div class=\"mw-page-container-inner\">\n",
            "\t\t<div class=\"vector-sitenotice-container\">\n",
            "\t\t\t<div id=\"siteNotice\"><!-- CentralNotice --></div>\n",
            "\t\t</div>\n",
            "\t\t\n",
            "\t\t\t<div class=\"vector-main-menu-container\">\n",
            "\t\t<div id=\"mw-navigation\">\n",
            "\t\t\t<nav id=\"mw-panel\" class=\"vector-main-menu-landmark\" aria-label=\"Sitio\" role=\"navigation\">\n",
            "\t\t\t\t<div id=\"vector-main-menu-pinned-container\" class=\"vector-pinned-container\">\n",
            "\t\t\t\t\n",
            "\t\t\t\t</div>\n",
            "\t\t</nav>\n",
            "\t\t</div>\n",
            "\t</div>\n",
            "\n",
            "\t\t<div class=\"mw-content-container\">\n",
            "\t\t\t<main id=\"content\" class=\"mw-body\" role=\"main\">\n",
            "\t\t\t\t<header class=\"mw-body-header vector-page-titlebar\">\n",
            "\t\t\t\t\t<h1 id=\"firstHeading\" class=\"firstHeading mw-first-heading\"><span class=\"mw-page-title-namespace\">Wikipedia</span><span class=\"mw-page-title-separator\">:</span><span class=\"mw-page-title-main\">Portada</span></h1>\n",
            "\t\t\t\t\t\t<div class=\"mw-indicators\">\n",
            "\t\t</div>\n",
            "</header>\n",
            "\t\t\t\t<div class=\"vector-page-toolbar\">\n",
            "\t\t\t\t\t<div class=\"vector-page-toolbar-container\">\n",
            "\t\t\t\t\t\t<div id=\"left-navigation\">\n",
            "\t\t\t\t\t\t\t<nav aria-label=\"Espacios de nombres\">\n",
            "\t\t\t\t\t\t\t\t\n",
            "<div id=\"p-associated-pages\" class=\"vector-menu vector-menu-tabs mw-portlet mw-portlet-associated-pages\"  >\n",
            "\t<div class=\"vector-menu-content\">\n",
            "\t\t\n",
            "\t\t<ul class=\"vector-menu-content-list\">\n",
            "\t\t\t\n",
            "\t\t\t<li id=\"ca-nstab-project\" class=\"selected vector-tab-noicon mw-list-item\"><a href=\"/wiki/Wikipedia:Portada\" title=\"Ver la página del proyecto [c]\" accesskey=\"c\"><span>Portada</span></a></li><li id=\"ca-talk\" class=\"vector-tab-noicon mw-list-item\"><a href=\"/wiki/Wikipedia_discusi%C3%B3n:Portada\" rel=\"discussion\" title=\"Discusión acerca de la página [t]\" accesskey=\"t\"><span>Discusión</span></a></li>\n",
            "\t\t</ul>\n",
            "\t\t\n",
            "\t</div>\n",
            "</div>\n",
            "\n",
            "\t\t\t\t\t\t\t\t\n",
            "<div id=\"p-variants\" class=\"vector-dropdown emptyPortlet\"  >\n",
            "\t<input type=\"checkbox\" id=\"p-variants-checkbox\" role=\"button\" aria-haspopup=\"true\" data-event-name=\"ui.dropdown-p-variants\" class=\"vector-dropdown-checkbox \" aria-label=\"Cambiar variante de idioma\"   >\n",
            "\t<label id=\"p-variants-label\" for=\"p-variants-checkbox\" class=\"vector-dropdown-label cdx-button cdx-button--fake-button cdx-button--fake-button--enabled cdx-button--weight-quiet\" aria-hidden=\"true\"  ><span class=\"vector-dropdown-label-text\">español</span>\n",
            "\t</label>\n",
            "\t<div class=\"vector-dropdown-content\">\n",
            "\n",
            "\n",
            "\t\t\t\t\t\n",
            "<div id=\"p-variants\" class=\"vector-menu mw-portlet mw-portlet-variants emptyPortlet\"  >\n",
            "\t<div class=\"vector-menu-content\">\n",
            "\t\t\n",
            "\t\t<ul class=\"vector-menu-content-list\">\n",
            "\t\t\t\n",
            "\t\t\t\n",
            "\t\t</ul>\n",
            "\t\t\n",
            "\t</div>\n",
            "</div>\n",
            "\n",
            "\t\t\t\t\n",
            "\t</div>\n",
            "</div>\n",
            "\n",
            "\t\t\t\t\t\t\t</nav>\n",
            "\t\t\t\t\t\t</div>\n",
            "\t\t\t\t\t\t<div id=\"right-navigation\" class=\"vector-collapsible\">\n",
            "\t\t\t\t\t\t\t<nav aria-label=\"Vistas\">\n",
            "\t\t\t\t\t\t\t\t\n",
            "<div id=\"p-views\" class=\"vector-menu vector-menu-tabs mw-portlet mw-portlet-views\"  >\n",
            "\t<div class=\"vector-menu-content\">\n",
            "\t\t\n",
            "\t\t<ul class=\"vector-menu-content-list\">\n",
            "\t\t\t\n",
            "\t\t\t<li id=\"ca-view\" class=\"selected vector-tab-noicon mw-list-item\"><a href=\"/wiki/Wikipedia:Portada\"><span>Leer</span></a></li><li id=\"ca-viewsource\" class=\"vector-tab-noicon mw-list-item\"><a href=\"/w/index.php?title=Wikipedia:Portada&amp;action=edit\" title=\"Esta página está protegida, pero puedes ver su código fuente [e]\" accesskey=\"e\"><span>Ver código fuente</span></a></li><li id=\"ca-history\" class=\"vector-tab-noicon mw-list-item\"><a href=\"/w/index.php?title=Wikipedia:Portada&amp;action=history\" title=\"Versiones anteriores de esta página [h]\" accesskey=\"h\"><span>Ver historial</span></a></li>\n",
            "\t\t</ul>\n",
            "\t\t\n",
            "\t</div>\n",
            "</div>\n",
            "\n",
            "\t\t\t\t\t\t\t</nav>\n",
            "\t\t\t\t\n",
            "\t\t\t\t\t\t\t<nav class=\"vector-page-tools-landmark\" aria-label=\"Page tools\">\n",
            "\t\t\t\t\t\t\t\t\n",
            "<div id=\"vector-page-tools-dropdown\" class=\"vector-dropdown vector-page-tools-dropdown\"  >\n",
            "\t<input type=\"checkbox\" id=\"vector-page-tools-dropdown-checkbox\" role=\"button\" aria-haspopup=\"true\" data-event-name=\"ui.dropdown-vector-page-tools-dropdown\" class=\"vector-dropdown-checkbox \"  aria-label=\"Herramientas\"  >\n",
            "\t<label id=\"vector-page-tools-dropdown-label\" for=\"vector-page-tools-dropdown-checkbox\" class=\"vector-dropdown-label cdx-button cdx-button--fake-button cdx-button--fake-button--enabled cdx-button--weight-quiet\" aria-hidden=\"true\"  ><span class=\"vector-dropdown-label-text\">Herramientas</span>\n",
            "\t</label>\n",
            "\t<div class=\"vector-dropdown-content\">\n",
            "\n",
            "\n",
            "\t\t\t\t\t\t\t\t\t<div id=\"vector-page-tools-unpinned-container\" class=\"vector-unpinned-container\">\n",
            "\t\t\t\t\t\t\n",
            "<div id=\"vector-page-tools\" class=\"vector-page-tools vector-pinnable-element\">\n",
            "\t<div\n",
            "\tclass=\"vector-pinnable-header vector-page-tools-pinnable-header vector-pinnable-header-unpinned\"\n",
            "\tdata-feature-name=\"page-tools-pinned\"\n",
            "\tdata-pinnable-element-id=\"vector-page-tools\"\n",
            "\tdata-pinned-container-id=\"vector-page-tools-pinned-container\"\n",
            "\tdata-unpinned-container-id=\"vector-page-tools-unpinned-container\"\n",
            ">\n",
            "\t<div class=\"vector-pinnable-header-label\">Herramientas</div>\n",
            "\t<button class=\"vector-pinnable-header-toggle-button vector-pinnable-header-pin-button\" data-event-name=\"pinnable-header.vector-page-tools.pin\">mover a la barra lateral</button>\n",
            "\t<button class=\"vector-pinnable-header-toggle-button vector-pinnable-header-unpin-button\" data-event-name=\"pinnable-header.vector-page-tools.unpin\">ocultar</button>\n",
            "</div>\n",
            "\n",
            "\t\n",
            "<div id=\"p-cactions\" class=\"vector-menu mw-portlet mw-portlet-cactions emptyPortlet vector-has-collapsible-items\"  title=\"Más opciones\" >\n",
            "\t<div class=\"vector-menu-heading\">\n",
            "\t\tAcciones\n",
            "\t</div>\n",
            "\t<div class=\"vector-menu-content\">\n",
            "\t\t\n",
            "\t\t<ul class=\"vector-menu-content-list\">\n",
            "\t\t\t\n",
            "\t\t\t<li id=\"ca-more-view\" class=\"selected vector-more-collapsible-item mw-list-item\"><a href=\"/wiki/Wikipedia:Portada\"><span>Leer</span></a></li><li id=\"ca-more-viewsource\" class=\"vector-more-collapsible-item mw-list-item\"><a href=\"/w/index.php?title=Wikipedia:Portada&amp;action=edit\"><span>Ver código fuente</span></a></li><li id=\"ca-more-history\" class=\"vector-more-collapsible-item mw-list-item\"><a href=\"/w/index.php?title=Wikipedia:Portada&amp;action=history\"><span>Ver historial</span></a></li>\n",
            "\t\t</ul>\n",
            "\t\t\n",
            "\t</div>\n",
            "</div>\n",
            "\n",
            "<div id=\"p-tb\" class=\"vector-menu mw-portlet mw-portlet-tb\"  >\n",
            "\t<div class=\"vector-menu-heading\">\n",
            "\t\tGeneral\n",
            "\t</div>\n",
            "\t<div class=\"vector-menu-content\">\n",
            "\t\t\n",
            "\t\t<ul class=\"vector-menu-content-list\">\n",
            "\t\t\t\n",
            "\t\t\t<li id=\"t-whatlinkshere\" class=\"mw-list-item\"><a href=\"/wiki/Especial:LoQueEnlazaAqu%C3%AD/Wikipedia:Portada\" title=\"Lista de todas las páginas de la wiki que enlazan aquí [j]\" accesskey=\"j\"><span>Lo que enlaza aquí</span></a></li><li id=\"t-recentchangeslinked\" class=\"mw-list-item\"><a href=\"/wiki/Especial:CambiosEnEnlazadas/Wikipedia:Portada\" rel=\"nofollow\" title=\"Cambios recientes en las páginas que enlazan con esta [k]\" accesskey=\"k\"><span>Cambios en enlazadas</span></a></li><li id=\"t-upload\" class=\"mw-list-item\"><a href=\"//commons.wikimedia.org/wiki/Special:UploadWizard?uselang=es\" title=\"Subir archivos [u]\" accesskey=\"u\"><span>Subir archivo</span></a></li><li id=\"t-specialpages\" class=\"mw-list-item\"><a href=\"/wiki/Especial:P%C3%A1ginasEspeciales\" title=\"Lista de todas las páginas especiales [q]\" accesskey=\"q\"><span>Páginas especiales</span></a></li><li id=\"t-permalink\" class=\"mw-list-item\"><a href=\"/w/index.php?title=Wikipedia:Portada&amp;oldid=149134229\" title=\"Enlace permanente a esta versión de la página\"><span>Enlace permanente</span></a></li><li id=\"t-info\" class=\"mw-list-item\"><a href=\"/w/index.php?title=Wikipedia:Portada&amp;action=info\" title=\"Más información sobre esta página\"><span>Información de la página</span></a></li><li id=\"t-urlshortener\" class=\"mw-list-item\"><a href=\"/w/index.php?title=Especial:Acortador_de_URL&amp;url=https%3A%2F%2Fes.wikipedia.org%2Fwiki%2FWikipedia%3APortada\"><span>Obtener URL acortado</span></a></li><li id=\"t-wikibase\" class=\"mw-list-item\"><a href=\"https://www.wikidata.org/wiki/Special:EntityPage/Q5296\" title=\"Enlace al elemento conectado del repositorio de datos [g]\" accesskey=\"g\"><span>Elemento de Wikidata</span></a></li>\n",
            "\t\t</ul>\n",
            "\t\t\n",
            "\t</div>\n",
            "</div>\n",
            "\n",
            "<div id=\"p-coll-print_export\" class=\"vector-menu mw-portlet mw-portlet-coll-print_export\"  >\n",
            "\t<div class=\"vector-menu-heading\">\n",
            "\t\tImprimir/exportar\n",
            "\t</div>\n",
            "\t<div class=\"vector-menu-content\">\n",
            "\t\t\n",
            "\t\t<ul class=\"vector-menu-content-list\">\n",
            "\t\t\t\n",
            "\t\t\t<li id=\"coll-create_a_book\" class=\"mw-list-item\"><a href=\"/w/index.php?title=Especial:Libro&amp;bookcmd=book_creator&amp;referer=Wikipedia%3APortada\"><span>Crear un libro</span></a></li><li id=\"coll-download-as-rl\" class=\"mw-list-item\"><a href=\"/w/index.php?title=Especial:DownloadAsPdf&amp;page=Wikipedia%3APortada&amp;action=show-download-screen\"><span>Descargar como PDF</span></a></li><li id=\"t-print\" class=\"mw-list-item\"><a href=\"/w/index.php?title=Wikipedia:Portada&amp;printable=yes\" title=\"Versión imprimible de esta página [p]\" accesskey=\"p\"><span>Versión para imprimir</span></a></li>\n",
            "\t\t</ul>\n",
            "\t\t\n",
            "\t</div>\n",
            "</div>\n",
            "\n",
            "<div id=\"p-wikibase-otherprojects\" class=\"vector-menu mw-portlet mw-portlet-wikibase-otherprojects\"  >\n",
            "\t<div class=\"vector-menu-heading\">\n",
            "\t\tEn otros proyectos\n",
            "\t</div>\n",
            "\t<div class=\"vector-menu-content\">\n",
            "\t\t\n",
            "\t\t<ul class=\"vector-menu-content-list\">\n",
            "\t\t\t\n",
            "\t\t\t<li class=\"wb-otherproject-link wb-otherproject-commons mw-list-item\"><a href=\"https://commons.wikimedia.org/wiki/Main_Page\" hreflang=\"en\"><span>Wikimedia Commons</span></a></li><li class=\"wb-otherproject-link wb-otherproject-foundation mw-list-item\"><a href=\"https://foundation.wikimedia.org/wiki/Home\" hreflang=\"en\"><span>Fundación Wikimedia</span></a></li><li class=\"wb-otherproject-link wb-otherproject-mediawiki mw-list-item\"><a href=\"https://www.mediawiki.org/wiki/MediaWiki\" hreflang=\"en\"><span>MediaWiki</span></a></li><li class=\"wb-otherproject-link wb-otherproject-meta mw-list-item\"><a href=\"https://meta.wikimedia.org/wiki/Main_Page\" hreflang=\"en\"><span>Meta-Wiki</span></a></li><li class=\"wb-otherproject-link wb-otherproject-outreach mw-list-item\"><a href=\"https://outreach.wikimedia.org/wiki/Main_Page\" hreflang=\"en\"><span>Wikimedia Outreach</span></a></li><li class=\"wb-otherproject-link wb-otherproject-sources mw-list-item\"><a href=\"https://wikisource.org/wiki/Main_Page\" hreflang=\"en\"><span>Wikisource multilingüe</span></a></li><li class=\"wb-otherproject-link wb-otherproject-species mw-list-item\"><a href=\"https://species.wikimedia.org/wiki/Main_Page\" hreflang=\"en\"><span>Wikiespecies</span></a></li><li class=\"wb-otherproject-link wb-otherproject-wikibooks mw-list-item\"><a href=\"https://es.wikibooks.org/wiki/Portada\" hreflang=\"es\"><span>Wikilibros</span></a></li><li class=\"wb-otherproject-link wb-otherproject-wikidata mw-list-item\"><a href=\"https://www.wikidata.org/wiki/Wikidata:Main_Page\" hreflang=\"en\"><span>Wikidata</span></a></li><li class=\"wb-otherproject-link wb-otherproject-wikifunctions mw-list-item\"><a href=\"https://www.wikifunctions.org/wiki/Wikifunctions:Main_Page\" hreflang=\"en\"><span>Wikifunciones</span></a></li><li class=\"wb-otherproject-link wb-otherproject-wikimania badge-Q70893996 mw-list-item\" title=\"\"><a href=\"https://wikimania.wikimedia.org/wiki/Wikimania\" hreflang=\"en\"><span>Wikimanía</span></a></li><li class=\"wb-otherproject-link wb-otherproject-wikinews mw-list-item\"><a href=\"https://es.wikinews.org/wiki/Portada\" hreflang=\"es\"><span>Wikinoticias</span></a></li><li class=\"wb-otherproject-link wb-otherproject-wikiquote mw-list-item\"><a href=\"https://es.wikiquote.org/wiki/Portada\" hreflang=\"es\"><span>Wikiquote</span></a></li><li class=\"wb-otherproject-link wb-otherproject-wikisource mw-list-item\"><a href=\"https://es.wikisource.org/wiki/Portada\" hreflang=\"es\"><span>Wikisource</span></a></li><li class=\"wb-otherproject-link wb-otherproject-wikiversity mw-list-item\"><a href=\"https://es.wikiversity.org/wiki/Portada\" hreflang=\"es\"><span>Wikiversidad</span></a></li><li class=\"wb-otherproject-link wb-otherproject-wikivoyage mw-list-item\"><a href=\"https://es.wikivoyage.org/wiki/P%C3%A1gina_principal\" hreflang=\"es\"><span>Wikiviajes</span></a></li><li class=\"wb-otherproject-link wb-otherproject-wiktionary mw-list-item\"><a href=\"https://es.wiktionary.org/wiki/Wikcionario:Portada\" hreflang=\"es\"><span>Wikcionario</span></a></li>\n",
            "\t\t</ul>\n",
            "\t\t\n",
            "\t</div>\n",
            "</div>\n",
            "\n",
            "</div>\n",
            "\n",
            "\t\t\t\t\t\t\t\t\t</div>\n",
            "\t\t\t\t\n",
            "\t</div>\n",
            "</div>\n",
            "\n",
            "\t\t\t\t\t\t\t</nav>\n",
            "\t\t\t\t\t\t</div>\n",
            "\t\t\t\t\t</div>\n",
            "\t\t\t\t</div>\n",
            "\t\t\t\t<div class=\"vector-column-end\">\n",
            "\t\t\t\t\t<nav class=\"vector-page-tools-landmark vector-sticky-pinned-container\" aria-label=\"Page tools\">\n",
            "\t\t\t\t\t\t<div id=\"vector-page-tools-pinned-container\" class=\"vector-pinned-container\">\n",
            "\t\t\t\n",
            "\t\t\t\t\t\t</div>\n",
            "\t</nav>\n",
            "\t\t\t\t</div>\n",
            "\t\t\t\t<div id=\"bodyContent\" class=\"vector-body\" aria-labelledby=\"firstHeading\" data-mw-ve-target-container>\n",
            "\t\t\t\t\t<div class=\"vector-body-before-content\">\n",
            "\t\t\t\t\t\n",
            "\t\t\t\t\t\t<div id=\"siteSub\" class=\"noprint\">De Wikipedia, la enciclopedia libre</div>\n",
            "\t\t\t\t\t</div>\n",
            "\t\t\t\t\t<div id=\"contentSub\"><div id=\"mw-content-subtitle\"></div></div>\n",
            "\t\t\t\t\t\n",
            "\t\t\t\t\t\n",
            "\t\t\t\t\t<div id=\"mw-content-text\" class=\"mw-body-content\"><div class=\"mw-content-ltr mw-parser-output\" lang=\"es\" dir=\"ltr\"><style data-mw-deduplicate=\"TemplateStyles:r144107000\">.mw-parser-output .main-header{border-bottom-color:transparent;margin-bottom:0.25em;margin-top:0;padding-bottom:0;padding-top:0}.mw-parser-output .main-plainlist>ul{list-style:none;margin:0;padding:0}.mw-parser-output .main-plainlist li{margin-bottom:0}.mw-parser-output .main-top-right .mw-ui-quiet:hover,.mw-parser-output .main-top-right .mw-ui-quiet:focus,.mw-parser-output .main-footer .mw-ui-quiet:hover,.mw-parser-output .main-footer .mw-ui-quiet:focus{color:#0645ad}.mw-parser-output .mw-headline-number{display:none}@media(min-width:720px){.mw-parser-output .main-wikimedia{padding-top:1rem;padding-left:1rem;padding-right:1rem}}@media(min-width:1000px){.mw-parser-output .main-wrapper{display:flex;margin:0 -0.5rem}.mw-parser-output .main-wrapper-column{flex:1;margin:0 0.5rem}.mw-parser-output .main-wikimedia{padding-top:1rem;padding-left:1rem;padding-right:1rem}}@media(min-width:1000px){.mw-parser-output .main-wrapper-column{width:55%}.mw-parser-output .main-wrapper-column+.main-wrapper-column{width:45%}.mw-parser-output .main-wrapper-column{flex:inherit}}.mw-parser-output .main-box-image-only div{width:auto!important}body.skin-timeless .mw-parser-output .main-box-header:after,body.skin-timeless .mw-parser-output .main-top-header:after{border-bottom:0 solid transparent}</style>\n",
            "<style data-mw-deduplicate=\"TemplateStyles:r144107009\">.mw-parser-output .main-top{font-size:1rem;margin-top:1rem;padding-bottom:1.5rem}.mw-parser-output .main-top-left>p{font-size:0.875em;margin:0}.mw-parser-output .main-top-right{font-size:0.875em;margin-top:0.5em}.mw-parser-output .main-top-right>ul{display:none;margin-top:0.5rem}.mw-parser-output .main-top-right .mw-ui-button.mw-ui-quiet{padding-right:0}.mw-parser-output .main-top-header{border-bottom:0;margin-bottom:0;margin-top:0}.mw-parser-output .main-top-articleCount{margin-bottom:0}body.skin-minerva .mw-parser-output .main-top-articleCount{display:none}.mw-parser-output .main-top-mobileSearch{display:none;margin-top:1rem}body.skin-minerva .mw-parser-output .main-top-mobileSearch{display:block}.mw-parser-output .main-top-mobileSearchButton{background:#fff;border:none;box-shadow:0 2px 2px 0 rgba(0,0,0,0.25);color:#72777d;font-weight:normal;max-width:none;text-align:left;width:100%}@media(min-width:720px){.mw-parser-output .main-top{background-color:#f8f9fa;border:1px solid #c8ccd1;border-radius:2px;box-shadow:0 1px 1px rgba(0,0,0,.15);margin-bottom:1rem;padding:1rem}.mw-parser-output .main-top-right>ul{display:flex;flex-wrap:wrap}.mw-parser-output .main-top-articleCount{margin-bottom:0.5rem}body.skin-minerva .mw-parser-output .main-top-articleCount{display:block}body.skin-minerva .mw-parser-output .main-top-mobileSearch{display:none}}@media(min-width:1000px){.mw-parser-output .main-top{align-items:center;background-image:url(\"https://upload.wikimedia.org/wikipedia/commons/e/e3/Wikipedia_logo_letters_banner.svg\");background-position:right;background-repeat:no-repeat;display:flex;margin-bottom:1rem;margin-top:0.5rem;padding:0 1.5rem 0 0}.mw-parser-output .main-top-left{background-image:linear-gradient(to right,#f8f9fa 0%,#f8f9fa 70%,rgba(248,249,250,0)100%);flex:2;padding:2rem 0 2rem 1.5rem}.mw-parser-output .main-top-right{flex:3;margin-top:0;text-align:right}.mw-parser-output .main-top-right>ul{align-items:center;flex-direction:row-reverse;margin-top:0;text-align:left}.mw-parser-output .main-top-createArticle+li .mw-ui-button.mw-ui-quiet{padding-right:1em}}body.skin-modern .mw-parser-output .main-top-header{line-height:1.8rem;font-size:1.8rem}</style>\n",
            "<div class=\"main-top\">\n",
            "<div class=\"main-top-left\">\n",
            "<h1 class=\"main-top-header\"><span id=\"Bienvenidos_a_Wikipedia.2C\"></span><span class=\"mw-headline\" id=\"Bienvenidos_a_Wikipedia,\" data-mw-thread-id=\"h-Bienvenidos_a_Wikipedia,\"><span data-mw-comment-start=\"\" id=\"h-Bienvenidos_a_Wikipedia,\"></span><a href=\"/wiki/Wikipedia:Bienvenidos\" title=\"Wikipedia:Bienvenidos\">Bienvenidos</a> a Wikipedia,<span data-mw-comment-end=\"h-Bienvenidos_a_Wikipedia,\"></span></span></h1>\n",
            "<p>la enciclopedia de contenido libre<br/>que <a href=\"/wiki/Ayuda:Introducci%C3%B3n\" title=\"Ayuda:Introducción\">todos pueden editar</a>.\n",
            "</p>\n",
            "<div class=\"main-top-mobileSearch\"><a href=\"/wiki/Especial:Buscar\" title=\"Especial:Buscar\"><span class=\"mw-ui-button main-top-mobileSearchButton skin-minerva-search-trigger\">Buscar en 1 908 847 artículos</span></a></div>\n",
            "</div>\n",
            "<div class=\"main-top-right main-plainlist\">\n",
            "<p class=\"main-top-articleCount\"><b><a href=\"/wiki/Especial:Estad%C3%ADsticas\" title=\"Especial:Estadísticas\">1 908 847</a></b> artículos <a href=\"/wiki/Wikipedia_en_espa%C3%B1ol\" title=\"Wikipedia en español\">en español</a>.</p>\n",
            "<ul>\n",
            "<li><a href=\"/wiki/Wikipedia:Caf%C3%A9\" title=\"Wikipedia:Café\"><span class=\"mw-ui-button mw-ui-quiet\">Café</span></a></li>\n",
            "<li><a href=\"/wiki/Ayuda:C%C3%B3mo_puedes_colaborar\" title=\"Ayuda:Cómo puedes colaborar\"><span class=\"mw-ui-button mw-ui-quiet\">¿Cómo colaborar?</span></a></li>\n",
            "<li><a href=\"/wiki/Ayuda:Introducci%C3%B3n\" title=\"Ayuda:Introducción\"><span class=\"mw-ui-button mw-ui-quiet\">Primeros pasos</span></a></li>\n",
            "<li><a href=\"/wiki/Ayuda:Contenidos\" title=\"Ayuda:Contenidos\"><span class=\"mw-ui-button mw-ui-quiet\">Ayuda</span></a></li>\n",
            "<li><a href=\"/wiki/Wikipedia:Contacto\" title=\"Wikipedia:Contacto\"><span class=\"mw-ui-button mw-ui-quiet\">Contacto</span></a></li>\n",
            "</ul>\n",
            "</div>\n",
            "</div>\n",
            "<div class=\"main-wrapper\">\n",
            "<div class=\"main-wrapper-column\">\n",
            "<style data-mw-deduplicate=\"TemplateStyles:r144107018\">.mw-parser-output .main-box{background:#fff;border:solid #c8ccd1;border-width:1px 0;box-shadow:0 1px 1px rgba(0,0,0,0.15);margin:0 -1rem 1rem;padding:1rem}.mw-parser-output .main-box>p:last-child{margin-bottom:0}.mw-parser-output .main-box-image-only>.main-box-content{margin:0.5rem -1rem 0;text-align:center}.mw-parser-output .main-box-image-only>.main-box-content img{height:auto;max-width:100%}.mw-parser-output .main-box-imageCaption{text-align:center}.mw-parser-output .main-box-imageCaption>p{display:inline-block;margin-bottom:0;text-align:left}.mw-parser-output .main-box-section{color:#72777d;line-height:1.25;margin-top:-.125em}.mw-parser-output .main-box-header{margin-top:-.15em}.mw-parser-output .main-box-header a{color:inherit}.mw-parser-output .main-box-section+.main-box-header{margin-top:0}.mw-parser-output .main-box-header a:focus,.mw-parser-output .main-box:hover .main-box-header a,.mw-parser-output .main-box:hover .main-featuredLists-item>a{color:#0645ad}.mw-parser-output .main-footer{display:flex;justify-content:flex-end;margin-top:1rem;position:relative}.mw-parser-output .main-footer:empty{display:none}.mw-parser-output .main-footer-actions{flex:1}.mw-parser-output .main-footer-actions>ul{align-items:center;display:flex}.mw-parser-output .main-footer-menu{align-items:stretch;display:flex}.mw-parser-output .main-footer-menuToggle{align-items:center;display:flex;float:none;height:100%;opacity:0.87}.mw-parser-output .main-footer-menuToggle:hover{opacity:0.51}.mw-parser-output .main-footer-menuDropdown{background:#fff;border:1px solid #a2a9b1;border-radius:2px;box-shadow:0 2px 2px 0 rgba(0,0,0,0.25);max-width:15em;position:absolute;right:0;top:100%;z-index:100}.mw-parser-output .main-footer-menuDropdown .mw-ui-button{text-align:left;width:100%}@media(max-width:719px){.mw-parser-output .main-box-responsive-image>.floatleft,.mw-parser-output .main-box-responsive-image>.floatright{float:none;margin-left:-1rem;margin-right:-1rem;text-align:center}.mw-parser-output .main-box-responsive-image>.floatleft>a,.mw-parser-output .main-box-responsive-image>.floatright>a{display:block}}@media(min-width:720px){.mw-parser-output .main-box{border-radius:2px;border-width:1px;margin-bottom:1rem;margin-left:0;margin-right:0}}@media(min-width:1000px){.mw-parser-output .main-box{margin-bottom:1rem;padding:1rem}.mw-parser-output .main-box-image-only>.main-box-content{margin-left:-1rem;margin-right:-1rem}}</style>\n",
            "<div id=\"main-tfa\" class=\"main-box main-box-responsive-image\"><div id=\"Artículo_destacado\" class=\"main-box-section\">Artículo destacado</div><div class=\"mw-heading mw-heading2 ext-discussiontools-init-section\"><h2 class=\"main-header main-box-header\"><span id=\"Tibur.C3.B3n\"></span><span class=\"mw-headline\" id=\"Tiburón\" data-mw-thread-id=\"h-Tiburón-Bienvenidos_a_Wikipedia,\"><span data-mw-comment-start=\"\" id=\"h-Tiburón-Bienvenidos_a_Wikipedia,\"></span><a href=\"/wiki/Tibur%C3%B3n_(pel%C3%ADcula)\" title=\"Tiburón (película)\">Tiburón</a><span data-mw-comment-end=\"h-Tiburón-Bienvenidos_a_Wikipedia,\"></span></span></h2><!--__DTELLIPSISBUTTON__{\"threadItem\":{\"headingLevel\":2,\"name\":\"h-\",\"type\":\"heading\",\"level\":0,\"id\":\"h-Tibur\\u00f3n-Bienvenidos_a_Wikipedia,\",\"replies\":[],\"uneditableSection\":true}}--></div>\n",
            "<figure class=\"mw-halign-right\" typeof=\"mw:File\"><a href=\"/wiki/Archivo:JAWS_logo.svg\" class=\"mw-file-description\" title=\"Tiburón\"><img alt=\"Tiburón\" src=\"//upload.wikimedia.org/wikipedia/commons/thumb/3/3e/JAWS_logo.svg/200px-JAWS_logo.svg.png\" decoding=\"async\" width=\"200\" height=\"73\" class=\"mw-file-element\" srcset=\"//upload.wikimedia.org/wikipedia/commons/thumb/3/3e/JAWS_logo.svg/300px-JAWS_logo.svg.png 1.5x, //upload.wikimedia.org/wikipedia/commons/thumb/3/3e/JAWS_logo.svg/400px-JAWS_logo.svg.png 2x\" data-file-width=\"236\" data-file-height=\"86\"/></a><figcaption>Tiburón</figcaption></figure>\n",
            "<p><i><b>Tiburón</b></i> (título original: <i><b>Jaws</b></i>) es una película <a href=\"/wiki/Estados_Unidos\" title=\"Estados Unidos\">estadounidense</a> de <a href=\"/wiki/Cine_de_terror\" title=\"Cine de terror\">terror</a>, <a href=\"/wiki/Suspense\" class=\"mw-redirect\" title=\"Suspense\">suspense</a> y <a href=\"/wiki/Cine_de_aventuras\" title=\"Cine de aventuras\">aventuras</a> de 1975, dirigida por <a href=\"/wiki/Steven_Spielberg\" title=\"Steven Spielberg\">Steven Spielberg</a> y basada en la <a href=\"/wiki/Tibur%C3%B3n_(novela)\" title=\"Tiburón (novela)\">novela homónima</a> de <a href=\"/wiki/Peter_Benchley\" title=\"Peter Benchley\">Peter Benchley</a>. En la historia, un enorme <a href=\"/wiki/Carcharodon_carcharias\" title=\"Carcharodon carcharias\">tiburón blanco</a> <a href=\"/wiki/Devorador_de_hombres\" title=\"Devorador de hombres\">devorador de hombres</a> ataca a los bañistas en las playas de Amity Island, lo cual lleva al jefe de la policía local a emprender la caza del escualo junto a un <a href=\"/wiki/Biolog%C3%ADa_marina\" title=\"Biología marina\">biólogo marino</a> y un cazatiburones profesional. El actor <a href=\"/wiki/Roy_Scheider\" title=\"Roy Scheider\">Roy Scheider</a> interpreta al jefe de policía Martin Brody, <a href=\"/wiki/Richard_Dreyfuss\" title=\"Richard Dreyfuss\">Richard Dreyfuss</a> al oceanógrafo Matt Hooper, <a href=\"/wiki/Robert_Shaw_(actor)\" title=\"Robert Shaw (actor)\">Robert Shaw</a> al cazatiburones Quint, <a href=\"/wiki/Murray_Hamilton\" title=\"Murray Hamilton\">Murray Hamilton</a> al alcalde de Amity Island y <a href=\"/wiki/Lorraine_Gary\" title=\"Lorraine Gary\">Lorraine Gary</a> a Ellen, esposa de Brody. El <a href=\"/wiki/Guion_cinematogr%C3%A1fico\" title=\"Guion cinematográfico\">guion</a> está acreditado tanto al propio Benchley, que elaboró los borradores iniciales, como al actor y guionista <a href=\"/wiki/Carl_Gottlieb\" title=\"Carl Gottlieb\">Carl Gottlieb</a>, que lo reescribió durante el rodaje.\n",
            "</p><p>La mayor parte de la película se filmó en la isla de <a href=\"/wiki/Martha%27s_Vineyard\" title=\"Martha's Vineyard\">Martha's Vineyard</a> (<a href=\"/wiki/Massachusetts\" title=\"Massachusetts\">Massachusetts</a>). Fue un rodaje accidentado que sobrepasó el presupuesto inicial y el calendario previsto. Hubo problemas con la réplica mecánica del tiburón y el director Spielberg se vio obligado en muchas de las escenas a sugerir la presencia del escualo en lugar de mostrarlo, apoyado para ello en un tema musical minimalista e inquietante creado por el compositor <a href=\"/wiki/John_Williams_(compositor)\" title=\"John Williams (compositor)\">John Williams</a> que indica las inminentes apariciones del depredador. Muchos, incluso el propio director de la película, han comparado este enfoque sugestivo con el de los clásicos filmes de suspense del director <a href=\"/wiki/Alfred_Hitchcock\" title=\"Alfred Hitchcock\">Alfred Hitchcock</a>. <a href=\"/wiki/Universal_Pictures\" title=\"Universal Pictures\">Universal Pictures</a> estrenó la película en una cantidad de salas de cine excepcionalmente alta para la época, más de 450 en Norteamérica, y la acompañó de una enorme y efectiva campaña publicitaria con un gran énfasis en anuncios de televisión y mercancía asociada.\n",
            "</p>\n",
            "<div style=\"clear: both;\"></div>\n",
            "<div class=\"main-footer\"><div class=\"main-footer-actions main-plainlist nomobile\">\n",
            "<ul><li><a href=\"/wiki/Tibur%C3%B3n_(pel%C3%ADcula)\" title=\"Tiburón (película)\"><span class=\"mw-ui-button\"> Leer </span></a></li>\n",
            "<li><span class=\"nomobile\"><a href=\"/wiki/Wikipedia:Art%C3%ADculos_destacados/%C3%8Dndice\" title=\"Wikipedia:Artículos destacados/Índice\"><span class=\"mw-ui-button mw-ui-quiet\"> Todos los artículos destacados </span></a></span></li></ul>\n",
            "</div><div id=\"mw-customcollapsible-tfa\" class=\"main-footer-menu mw-collapsible mw-collapsed nomobile\">\n",
            "<div class=\"main-footer-menuToggle mw-collapsible-toggle mw-customtoggle-main-tfa\"><span typeof=\"mw:File\"><span title=\"Acciones adicionales\"><img alt=\"Acciones adicionales\" src=\"//upload.wikimedia.org/wikipedia/commons/thumb/b/b3/OOjs_UI_icon_ellipsis.svg/20px-OOjs_UI_icon_ellipsis.svg.png\" decoding=\"async\" width=\"20\" height=\"20\" class=\"mw-file-element\" srcset=\"//upload.wikimedia.org/wikipedia/commons/thumb/b/b3/OOjs_UI_icon_ellipsis.svg/30px-OOjs_UI_icon_ellipsis.svg.png 1.5x, //upload.wikimedia.org/wikipedia/commons/thumb/b/b3/OOjs_UI_icon_ellipsis.svg/40px-OOjs_UI_icon_ellipsis.svg.png 2x\" data-file-width=\"20\" data-file-height=\"20\"/></span></span></div>\n",
            "<div class=\"main-footer-menuDropdown mw-collapsible-content main-plainlist\">\n",
            "<ul><li><a href=\"/wiki/Wikipedia:Candidatos_a_art%C3%ADculos_destacados\" title=\"Wikipedia:Candidatos a artículos destacados\"><span class=\"mw-ui-button mw-ui-quiet\"> Candidatos </span></a></li></ul>\n",
            "<dl><dd><i>Anteriores:</i></dd></dl>\n",
            "<ul><li><a href=\"/wiki/Lady_Gaga\" title=\"Lady Gaga\"><span class=\"mw-ui-button mw-ui-quiet\"> Lady Gaga </span></a></li>\n",
            "<li><a href=\"/wiki/Club_Balonmano_Cantabria\" title=\"Club Balonmano Cantabria\"><span class=\"mw-ui-button mw-ui-quiet\"> Club Balonmano Cantabria </span></a></li>\n",
            "<li><a href=\"/wiki/John_Neal_(escritor)\" title=\"John Neal (escritor)\"><span class=\"mw-ui-button mw-ui-quiet\"> John Neal </span></a></li></ul>\n",
            "</div></div></div>\n",
            "</div>\n",
            "<link rel=\"mw-deduplicated-inline-style\" href=\"mw-data:TemplateStyles:r144107018\">\n",
            "<div id=\"main-tga\" class=\"main-box main-box-responsive-image\"><div id=\"Artículo_bueno\" class=\"main-box-section\">Artículo bueno</div><div class=\"mw-heading mw-heading2 ext-discussiontools-init-section\"><h2 class=\"main-header main-box-header\"><span class=\"mw-headline\" id=\"Paparazzi\" data-mw-thread-id=\"h-Paparazzi-Bienvenidos_a_Wikipedia,\"><span data-mw-comment-start=\"\" id=\"h-Paparazzi-Bienvenidos_a_Wikipedia,\"></span><a href=\"/wiki/Paparazzi_(canci%C3%B3n)\" title=\"Paparazzi (canción)\">Paparazzi</a><span data-mw-comment-end=\"h-Paparazzi-Bienvenidos_a_Wikipedia,\"></span></span></h2><!--__DTELLIPSISBUTTON__{\"threadItem\":{\"headingLevel\":2,\"name\":\"h-\",\"type\":\"heading\",\"level\":0,\"id\":\"h-Paparazzi-Bienvenidos_a_Wikipedia,\",\"replies\":[],\"uneditableSection\":true}}--></div>\n",
            "<p>«<b>Paparazzi</b>» es una <a href=\"/wiki/Canci%C3%B3n\" title=\"Canción\">canción</a> interpretada por la cantante y compositora estadounidense <a href=\"/wiki/Lady_Gaga\" title=\"Lady Gaga\">Lady Gaga</a>, incluida en su primer <a href=\"/wiki/%C3%81lbum_de_estudio\" title=\"Álbum de estudio\">álbum de estudio</a>, <i><a href=\"/wiki/The_Fame\" title=\"The Fame\">The Fame</a></i>, de 2008. Gaga y <a href=\"/wiki/Rob_Fusari\" title=\"Rob Fusari\">Rob Fusari</a> la <a href=\"/wiki/Composici%C3%B3n_musical\" title=\"Composición musical\">compusieron</a>, mientras que este último se encargó de su producción musical. Es una canción <i><a href=\"/wiki/Dance_pop\" title=\"Dance pop\">dance pop</a></i>, que habla sobre «las trampas de la fama». Obtuvo buenos comentarios por parte de los críticos y algunos de ellos la nombraron una de las mejores canciones de 2009.\n",
            "</p>\n",
            "<div style=\"clear: both;\"></div>\n",
            "<div class=\"main-footer\"><div class=\"main-footer-actions main-plainlist nomobile\">\n",
            "<ul><li><a href=\"/wiki/Paparazzi_(canci%C3%B3n)\" title=\"Paparazzi (canción)\"><span class=\"mw-ui-button\"> Leer </span></a></li>\n",
            "<li><span class=\"nomobile\"><a href=\"/wiki/Wikipedia:Art%C3%ADculos_buenos/%C3%8Dndice\" title=\"Wikipedia:Artículos buenos/Índice\"><span class=\"mw-ui-button mw-ui-quiet\"> Todos los artículos buenos </span></a></span></li></ul>\n",
            "</div><div id=\"mw-customcollapsible-tga\" class=\"main-footer-menu mw-collapsible mw-collapsed nomobile\">\n",
            "<div class=\"main-footer-menuToggle mw-collapsible-toggle mw-customtoggle-main-tga\"><span typeof=\"mw:File\"><span title=\"Acciones adicionales\"><img alt=\"Acciones adicionales\" src=\"//upload.wikimedia.org/wikipedia/commons/thumb/b/b3/OOjs_UI_icon_ellipsis.svg/20px-OOjs_UI_icon_ellipsis.svg.png\" decoding=\"async\" width=\"20\" height=\"20\" class=\"mw-file-element\" srcset=\"//upload.wikimedia.org/wikipedia/commons/thumb/b/b3/OOjs_UI_icon_ellipsis.svg/30px-OOjs_UI_icon_ellipsis.svg.png 1.5x, //upload.wikimedia.org/wikipedia/commons/thumb/b/b3/OOjs_UI_icon_ellipsis.svg/40px-OOjs_UI_icon_ellipsis.svg.png 2x\" data-file-width=\"20\" data-file-height=\"20\"/></span></span></div>\n",
            "<div class=\"main-footer-menuDropdown mw-collapsible-content main-plainlist\">\n",
            "<ul><li><a href=\"/wiki/Wikipedia:Selecci%C3%B3n_de_art%C3%ADculos_buenos/nominaciones\" title=\"Wikipedia:Selección de artículos buenos/nominaciones\"><span class=\"mw-ui-button mw-ui-quiet\"> Candidatos </span></a></li></ul>\n",
            "<dl><dd><i>Anteriores:</i></dd></dl>\n",
            "<ul><li><a href=\"/wiki/Urmetazoo\" title=\"Urmetazoo\"><span class=\"mw-ui-button mw-ui-quiet\"> Urmetazoo </span></a></li>\n",
            "<li><a href=\"/wiki/Vojtech_Tuka\" title=\"Vojtech Tuka\"><span class=\"mw-ui-button mw-ui-quiet\"> Vojtech Tuka </span></a></li>\n",
            "<li><a href=\"/wiki/Anexo:Finalistas_de_la_Recopa_de_Europa_de_la_UEFA\" title=\"Anexo:Finalistas de la Recopa de Europa de la UEFA\"><span class=\"mw-ui-button mw-ui-quiet\"> Anexo:Finalistas de la Recopa de Europa de la UEFA </span></a></li></ul>\n",
            "</div></div></div>\n",
            "</div>\n",
            "<link rel=\"mw-deduplicated-inline-style\" href=\"mw-data:TemplateStyles:r144107018\">\n",
            "<div id=\"main-potd\" class=\"main-box main-box-image-only\"><div class=\"mw-heading mw-heading2 ext-discussiontools-init-section\"><h2 class=\"main-header main-box-header\"><span id=\"Recurso_del_d.C3.ADa\"></span><span class=\"mw-headline\" id=\"Recurso_del_día\" data-mw-thread-id=\"h-Recurso_del_día-Bienvenidos_a_Wikipedia,\"><span data-mw-comment-start=\"\" id=\"h-Recurso_del_día-Bienvenidos_a_Wikipedia,\"></span><a href=\"/wiki/Wikipedia:Recurso_del_d%C3%ADa\" title=\"Wikipedia:Recurso del día\">Recurso del día</a><span data-mw-comment-end=\"h-Recurso_del_día-Bienvenidos_a_Wikipedia,\"></span></span></h2><!--__DTELLIPSISBUTTON__{\"threadItem\":{\"headingLevel\":2,\"name\":\"h-\",\"type\":\"heading\",\"level\":0,\"id\":\"h-Recurso_del_d\\u00eda-Bienvenidos_a_Wikipedia,\",\"replies\":[],\"uneditableSection\":true}}--></div>\n",
            "<div class=\"main-box-content\"><figure class=\"mw-halign-center\" typeof=\"mw:File\"><a href=\"/wiki/Archivo:KatrinaNewOrleansFlooded_edit2.jpg\" class=\"mw-file-description\" title=\"Desbordamiento del río Misisipi a su paso por Nueva Orleans\"><img alt=\"Desbordamiento del río Misisipi a su paso por Nueva Orleans\" src=\"//upload.wikimedia.org/wikipedia/commons/thumb/3/3d/KatrinaNewOrleansFlooded_edit2.jpg/381px-KatrinaNewOrleansFlooded_edit2.jpg\" decoding=\"async\" width=\"381\" height=\"500\" class=\"mw-file-element\" srcset=\"//upload.wikimedia.org/wikipedia/commons/thumb/3/3d/KatrinaNewOrleansFlooded_edit2.jpg/571px-KatrinaNewOrleansFlooded_edit2.jpg 1.5x, //upload.wikimedia.org/wikipedia/commons/thumb/3/3d/KatrinaNewOrleansFlooded_edit2.jpg/761px-KatrinaNewOrleansFlooded_edit2.jpg 2x\" data-file-width=\"1153\" data-file-height=\"1514\"/></a><figcaption>Desbordamiento del río Misisipi a su paso por Nueva Orleans</figcaption></figure></div>\n",
            "<div class=\"main-box-imageCaption\">\n",
            "<p>Desbordamiento del río Misisipi a su paso por Nueva Orleans\n",
            "</p>\n",
            "</div>\n",
            "<p><b><a href=\"/wiki/Nueva_Orleans\" title=\"Nueva Orleans\">Nueva Orleans</a></b> inundada después del paso del <a href=\"/wiki/Hurac%C3%A1n_Katrina\" title=\"Huracán Katrina\">huracán Katrina</a> a finales de agosto de 2005. La inundación se provocó por una brecha en el dique de contención durante el paso del huracán.\n",
            "</p>\n",
            "<div style=\"clear: both;\"></div>\n",
            "<div class=\"main-footer\"><div class=\"main-footer-actions main-plainlist nomobile\">\n",
            "<ul><li><a href=\"/wiki/Wikipedia:Recurso_del_d%C3%ADa\" title=\"Wikipedia:Recurso del día\"><span class=\"mw-ui-button mw-ui-quiet\"> Archivo </span></a></li></ul>\n",
            "</div></div>\n",
            "</div>\n",
            "<link rel=\"mw-deduplicated-inline-style\" href=\"mw-data:TemplateStyles:r144107018\">\n",
            "<div id=\"main-port\" class=\"main-box\"><div class=\"mw-heading mw-heading2 ext-discussiontools-init-section\"><h2 class=\"main-header main-box-header\"><span class=\"mw-headline\" id=\"Portales\" data-mw-thread-id=\"h-Portales-Bienvenidos_a_Wikipedia,\"><span data-mw-comment-start=\"\" id=\"h-Portales-Bienvenidos_a_Wikipedia,\"></span><a href=\"/wiki/Wikipedia:Portal\" title=\"Wikipedia:Portal\">Portales</a><span data-mw-comment-end=\"h-Portales-Bienvenidos_a_Wikipedia,\"></span></span></h2><!--__DTELLIPSISBUTTON__{\"threadItem\":{\"headingLevel\":2,\"name\":\"h-\",\"type\":\"heading\",\"level\":0,\"id\":\"h-Portales-Bienvenidos_a_Wikipedia,\",\"replies\":[],\"uneditableSection\":true}}--></div>\n",
            "<div style=\"font-size: 89%; padding-bottom:.2em; padding-top:.2em;\">\n",
            "<figure class=\"mw-halign-right noviewer\" typeof=\"mw:File\"><a href=\"/wiki/Archivo:Nuvola_apps_package_graphics.svg\" class=\"mw-file-description\" title=\"Artes\"><img alt=\"Artes\" src=\"//upload.wikimedia.org/wikipedia/commons/thumb/c/c3/Nuvola_apps_package_graphics.svg/20px-Nuvola_apps_package_graphics.svg.png\" decoding=\"async\" width=\"20\" height=\"20\" class=\"mw-file-element\" srcset=\"//upload.wikimedia.org/wikipedia/commons/thumb/c/c3/Nuvola_apps_package_graphics.svg/30px-Nuvola_apps_package_graphics.svg.png 1.5x, //upload.wikimedia.org/wikipedia/commons/thumb/c/c3/Nuvola_apps_package_graphics.svg/40px-Nuvola_apps_package_graphics.svg.png 2x\" data-file-width=\"128\" data-file-height=\"128\"/></a><figcaption>Artes</figcaption></figure>\n",
            "<p><b><a href=\"/wiki/Portal:Arte\" title=\"Portal:Arte\">Artes</a></b>: \n",
            "<a href=\"/wiki/Portal:Arquitectura\" title=\"Portal:Arquitectura\">Arquitectura</a> – \n",
            "<a href=\"/wiki/Portal:Cine\" title=\"Portal:Cine\">Cine</a> – \n",
            "<a href=\"/wiki/Portal:Danza\" title=\"Portal:Danza\">Danza</a> –\n",
            "<a href=\"/wiki/Portal:Literatura\" title=\"Portal:Literatura\">Literatura</a> – \n",
            "<a href=\"/wiki/Portal:M%C3%BAsica\" title=\"Portal:Música\">Música</a> – \n",
            "<a href=\"/wiki/Portal:M%C3%BAsica_cl%C3%A1sica\" title=\"Portal:Música clásica\">Música clásica</a> – \n",
            "<a href=\"/wiki/Portal:Pintura\" title=\"Portal:Pintura\">Pintura</a> – \n",
            "<a href=\"/wiki/Portal:Teatro\" title=\"Portal:Teatro\">Teatro</a>\n",
            "</p>\n",
            "</div>\n",
            "<div style=\"border-top: 1px dotted #c088fe; font-size: 89%; padding-bottom:.2em; padding-top:.2em;\">\n",
            "<figure class=\"mw-halign-right noviewer\" typeof=\"mw:File\"><a href=\"/wiki/Archivo:Sciences_humaines.svg\" class=\"mw-file-description\" title=\"Ciencias sociales\"><img alt=\"Ciencias sociales\" src=\"//upload.wikimedia.org/wikipedia/commons/thumb/3/3f/Sciences_humaines.svg/20px-Sciences_humaines.svg.png\" decoding=\"async\" width=\"20\" height=\"20\" class=\"mw-file-element\" srcset=\"//upload.wikimedia.org/wikipedia/commons/thumb/3/3f/Sciences_humaines.svg/30px-Sciences_humaines.svg.png 1.5x, //upload.wikimedia.org/wikipedia/commons/thumb/3/3f/Sciences_humaines.svg/40px-Sciences_humaines.svg.png 2x\" data-file-width=\"256\" data-file-height=\"256\"/></a><figcaption>Ciencias sociales</figcaption></figure>\n",
            "<p><b><a href=\"/wiki/Portal:Ciencias_humanas_y_sociales\" title=\"Portal:Ciencias humanas y sociales\">Ciencias sociales</a></b>:\n",
            "<a href=\"/wiki/Portal:Comunicaci%C3%B3n\" title=\"Portal:Comunicación\">Comunicación</a> –\n",
            "<a href=\"/wiki/Portal:Deporte\" title=\"Portal:Deporte\">Deporte</a> –\n",
            "<a href=\"/wiki/Portal:Derecho\" title=\"Portal:Derecho\">Derecho</a> – \n",
            "<a href=\"/wiki/Portal:Econom%C3%ADa\" title=\"Portal:Economía\">Economía</a> –\n",
            "<a href=\"/wiki/Portal:Filosof%C3%ADa\" title=\"Portal:Filosofía\">Filosofía</a> – \n",
            "<a href=\"/wiki/Portal:Ling%C3%BC%C3%ADstica\" title=\"Portal:Lingüística\">Lingüística</a> – \n",
            "<a href=\"/wiki/Portal:Psicolog%C3%ADa\" title=\"Portal:Psicología\">Psicología</a> – \n",
            "<a href=\"/wiki/Portal:Sociolog%C3%ADa\" title=\"Portal:Sociología\">Sociología</a> \n",
            "</p>\n",
            "</div>\n",
            "<div style=\"border-top: 1px dotted #c088fe; font-size: 89%; padding-bottom:.2em; padding-top:.2em;\">\n",
            "<figure class=\"mw-halign-right noviewer\" typeof=\"mw:File\"><a href=\"/wiki/Archivo:Science-symbol-2.svg\" class=\"mw-file-description\" title=\"Ciencias naturales\"><img alt=\"Ciencias naturales\" src=\"//upload.wikimedia.org/wikipedia/commons/thumb/7/75/Science-symbol-2.svg/20px-Science-symbol-2.svg.png\" decoding=\"async\" width=\"20\" height=\"20\" class=\"mw-file-element\" srcset=\"//upload.wikimedia.org/wikipedia/commons/thumb/7/75/Science-symbol-2.svg/30px-Science-symbol-2.svg.png 1.5x, //upload.wikimedia.org/wikipedia/commons/thumb/7/75/Science-symbol-2.svg/40px-Science-symbol-2.svg.png 2x\" data-file-width=\"87\" data-file-height=\"87\"/></a><figcaption>Ciencias naturales</figcaption></figure>\n",
            "<p><b><a href=\"/wiki/Portal:Ciencias_naturales\" title=\"Portal:Ciencias naturales\">Ciencias naturales</a></b>: \n",
            "<a href=\"/wiki/Portal:Astronom%C3%ADa\" title=\"Portal:Astronomía\">Astronomía</a> – \n",
            "<a href=\"/wiki/Portal:Biolog%C3%ADa\" title=\"Portal:Biología\">Biología</a> – \n",
            "<a href=\"/wiki/Portal:Bot%C3%A1nica\" title=\"Portal:Botánica\">Botánica</a> – \n",
            "<a href=\"/wiki/Portal:F%C3%ADsica\" title=\"Portal:Física\">Física</a> – \n",
            "<a href=\"/wiki/Portal:Medicina\" title=\"Portal:Medicina\">Medicina</a> – \n",
            "<a href=\"/wiki/Portal:Matem%C3%A1tica\" title=\"Portal:Matemática\">Matemática</a> – \n",
            "<a href=\"/wiki/Portal:Qu%C3%ADmica\" title=\"Portal:Química\">Química</a> \n",
            "</p>\n",
            "</div>\n",
            "<div style=\"border-top: 1px dotted #c088fe; font-size: 89%; padding-bottom:.2em; padding-top:.2em;\">\n",
            "<figure class=\"mw-halign-right noviewer\" typeof=\"mw:File\"><a href=\"/wiki/Archivo:Ambox_globe.svg\" class=\"mw-file-description\" title=\"Geografía\"><img alt=\"Geografía\" src=\"//upload.wikimedia.org/wikipedia/commons/thumb/e/e2/Ambox_globe.svg/20px-Ambox_globe.svg.png\" decoding=\"async\" width=\"20\" height=\"20\" class=\"mw-file-element\" srcset=\"//upload.wikimedia.org/wikipedia/commons/thumb/e/e2/Ambox_globe.svg/30px-Ambox_globe.svg.png 1.5x, //upload.wikimedia.org/wikipedia/commons/thumb/e/e2/Ambox_globe.svg/40px-Ambox_globe.svg.png 2x\" data-file-width=\"512\" data-file-height=\"512\"/></a><figcaption>Geografía</figcaption></figure>\n",
            "<p><b><a href=\"/wiki/Portal:Geograf%C3%ADa\" title=\"Portal:Geografía\">Geografía</a></b>: \n",
            "<a href=\"/wiki/Portal:%C3%81frica\" title=\"Portal:África\">África</a> – \n",
            "<a href=\"/wiki/Portal:Am%C3%A9rica\" title=\"Portal:América\">América</a> – \n",
            "<a href=\"/wiki/Portal:Ant%C3%A1rtida\" title=\"Portal:Antártida\">Antártida</a> –\n",
            "<a href=\"/wiki/Portal:Asia\" title=\"Portal:Asia\">Asia</a> – \n",
            "<a href=\"/wiki/Portal:Europa\" title=\"Portal:Europa\">Europa</a> – \n",
            "<a href=\"/wiki/Portal:Ocean%C3%ADa\" title=\"Portal:Oceanía\">Oceanía</a> – \n",
            "<a href=\"/wiki/Portal:Pa%C3%ADses\" title=\"Portal:Países\">Países</a>\n",
            "</p>\n",
            "</div>\n",
            "<div style=\"border-top: 1px dotted #c088fe; font-size: 89%; padding-bottom:.2em; padding-top:.2em;\">\n",
            "<figure class=\"mw-halign-right noviewer\" typeof=\"mw:File\"><a href=\"/wiki/Archivo:History2.svg\" class=\"mw-file-description\" title=\"Historia\"><img alt=\"Historia\" src=\"//upload.wikimedia.org/wikipedia/commons/thumb/2/29/History2.svg/20px-History2.svg.png\" decoding=\"async\" width=\"20\" height=\"22\" class=\"mw-file-element\" srcset=\"//upload.wikimedia.org/wikipedia/commons/thumb/2/29/History2.svg/30px-History2.svg.png 1.5x, //upload.wikimedia.org/wikipedia/commons/thumb/2/29/History2.svg/40px-History2.svg.png 2x\" data-file-width=\"30\" data-file-height=\"33\"/></a><figcaption>Historia</figcaption></figure>\n",
            "<p><b><a href=\"/wiki/Portal:Historia\" title=\"Portal:Historia\">Historia</a></b>: \n",
            "<a href=\"/wiki/Portal:Prehistoria\" title=\"Portal:Prehistoria\">Prehistoria</a> – \n",
            "<a href=\"/wiki/Portal:Edad_Antigua\" title=\"Portal:Edad Antigua\">Edad Antigua</a> – \n",
            "<a href=\"/wiki/Portal:Edad_Media\" title=\"Portal:Edad Media\">Edad Media</a> – \n",
            "<a href=\"/wiki/Portal:Edad_Moderna\" title=\"Portal:Edad Moderna\">Edad Moderna</a> – \n",
            "<a href=\"/wiki/Portal:Edad_Contempor%C3%A1nea\" title=\"Portal:Edad Contemporánea\">Edad Contemporánea</a>\n",
            "</p>\n",
            "</div>\n",
            "<div style=\"border-top: 1px dotted #c088fe; font-size: 89%; padding-bottom:.2em; padding-top:.2em;\">\n",
            "<figure class=\"mw-halign-right noviewer\" typeof=\"mw:File\"><a href=\"/wiki/Archivo:Vote3_final.png\" class=\"mw-file-description\" title=\"Política\"><img alt=\"Política\" src=\"//upload.wikimedia.org/wikipedia/commons/thumb/9/94/Vote3_final.png/20px-Vote3_final.png\" decoding=\"async\" width=\"20\" height=\"20\" class=\"mw-file-element\" srcset=\"//upload.wikimedia.org/wikipedia/commons/thumb/9/94/Vote3_final.png/30px-Vote3_final.png 1.5x, //upload.wikimedia.org/wikipedia/commons/thumb/9/94/Vote3_final.png/40px-Vote3_final.png 2x\" data-file-width=\"146\" data-file-height=\"146\"/></a><figcaption>Política</figcaption></figure>\n",
            "<p><b><a href=\"/wiki/Portal:Pol%C3%ADtica\" title=\"Portal:Política\">Política</a></b>:\n",
            "<a href=\"/wiki/Portal:Feminismo\" class=\"mw-disambig\" title=\"Portal:Feminismo\">Feminismo</a> – \n",
            "<a href=\"/wiki/Portal:LGBT\" title=\"Portal:LGBT\">LGBT</a> – \n",
            "<a href=\"/wiki/Portal:Marxismo\" title=\"Portal:Marxismo\">Marxismo</a>  – \n",
            "<a href=\"/wiki/Portal:Nacionalismo\" title=\"Portal:Nacionalismo\">Nacionalismo</a> –\n",
            "<a href=\"/wiki/Portal:Socialismo\" title=\"Portal:Socialismo\">Socialismo</a> – \n",
            "<a href=\"/wiki/Portal:Terrorismo\" title=\"Portal:Terrorismo\">Terrorismo</a> \n",
            "</p>\n",
            "</div>\n",
            "<div style=\"border-top: 1px dotted #c088fe; font-size: 89%; padding-bottom:.2em; padding-top:.2em;\">\n",
            "<figure class=\"mw-halign-right noviewer\" typeof=\"mw:File\"><a href=\"/wiki/Archivo:P_religion_world.svg\" class=\"mw-file-description\" title=\"Religión\"><img alt=\"Religión\" src=\"//upload.wikimedia.org/wikipedia/commons/thumb/2/28/P_religion_world.svg/20px-P_religion_world.svg.png\" decoding=\"async\" width=\"20\" height=\"18\" class=\"mw-file-element\" srcset=\"//upload.wikimedia.org/wikipedia/commons/thumb/2/28/P_religion_world.svg/30px-P_religion_world.svg.png 1.5x, //upload.wikimedia.org/wikipedia/commons/thumb/2/28/P_religion_world.svg/40px-P_religion_world.svg.png 2x\" data-file-width=\"400\" data-file-height=\"360\"/></a><figcaption>Religión</figcaption></figure>\n",
            "<p><b><a href=\"/wiki/Portal:Religi%C3%B3n\" title=\"Portal:Religión\">Religión</a></b>:\n",
            "<a href=\"/wiki/Portal:Ate%C3%ADsmo\" title=\"Portal:Ateísmo\">Ateísmo</a> – \n",
            "<a href=\"/wiki/Portal:Budismo\" title=\"Portal:Budismo\">Budismo</a> – \n",
            "<a href=\"/wiki/Portal:Cristianismo\" title=\"Portal:Cristianismo\">Cristianismo</a>  – \n",
            "<a href=\"/wiki/Portal:Iglesia_cat%C3%B3lica\" title=\"Portal:Iglesia católica\">Iglesia católica</a> –\n",
            "<a href=\"/wiki/Portal:Islam\" title=\"Portal:Islam\">Islam</a> – \n",
            "<a href=\"/wiki/Portal:Juda%C3%ADsmo\" title=\"Portal:Judaísmo\">Judaísmo</a> –\n",
            "<a href=\"/wiki/Portal:Mitolog%C3%ADa\" title=\"Portal:Mitología\">Mitología</a>\n",
            "</p>\n",
            "</div>\n",
            "<div style=\"border-top: 1px dotted #c088fe; font-size: 89%; padding-bottom:.2em; padding-top:.2em;\">\n",
            "<figure class=\"mw-halign-right noviewer\" typeof=\"mw:File\"><a href=\"/wiki/Archivo:Tecno-rueda.svg\" class=\"mw-file-description\" title=\"Tecnologías\"><img alt=\"Tecnologías\" src=\"//upload.wikimedia.org/wikipedia/commons/thumb/1/1f/Tecno-rueda.svg/20px-Tecno-rueda.svg.png\" decoding=\"async\" width=\"20\" height=\"20\" class=\"mw-file-element\" srcset=\"//upload.wikimedia.org/wikipedia/commons/thumb/1/1f/Tecno-rueda.svg/30px-Tecno-rueda.svg.png 1.5x, //upload.wikimedia.org/wikipedia/commons/thumb/1/1f/Tecno-rueda.svg/40px-Tecno-rueda.svg.png 2x\" data-file-width=\"48\" data-file-height=\"48\"/></a><figcaption>Tecnologías</figcaption></figure>\n",
            "<p><b><a href=\"/wiki/Portal:Tecnolog%C3%ADa\" title=\"Portal:Tecnología\">Tecnologías</a></b>: \n",
            "<a href=\"/wiki/Portal:Biotecnolog%C3%ADa\" title=\"Portal:Biotecnología\">Biotecnología</a> – \n",
            "<a href=\"/wiki/Portal:Exploraci%C3%B3n_espacial\" title=\"Portal:Exploración espacial\">Exploración espacial</a> – \n",
            "<a href=\"/wiki/Portal:Inform%C3%A1tica\" title=\"Portal:Informática\">Informática</a> – \n",
            "<a href=\"/wiki/Portal:Ingenier%C3%ADa\" title=\"Portal:Ingeniería\">Ingeniería</a> – \n",
            "<a href=\"/wiki/Portal:Software_libre\" title=\"Portal:Software libre\">Software libre</a> – \n",
            "<a href=\"/wiki/Portal:Videojuegos\" title=\"Portal:Videojuegos\">Videojuegos</a>\n",
            "</p>\n",
            "</div>\n",
            "<div style=\"clear: both;\"></div>\n",
            "</div>\n",
            "</div>\n",
            "<div class=\"main-wrapper-column\">\n",
            "<link rel=\"mw-deduplicated-inline-style\" href=\"mw-data:TemplateStyles:r144107018\">\n",
            "<div id=\"main-cur\" class=\"main-box\"><div class=\"mw-heading mw-heading2 ext-discussiontools-init-section\"><h2 class=\"main-header main-box-header\"><span class=\"mw-headline\" id=\"Actualidad\" data-mw-thread-id=\"h-Actualidad-Bienvenidos_a_Wikipedia,\"><span data-mw-comment-start=\"\" id=\"h-Actualidad-Bienvenidos_a_Wikipedia,\"></span><a href=\"/wiki/Portal:Actualidad\" title=\"Portal:Actualidad\">Actualidad</a><span data-mw-comment-end=\"h-Actualidad-Bienvenidos_a_Wikipedia,\"></span></span></h2><!--__DTELLIPSISBUTTON__{\"threadItem\":{\"headingLevel\":2,\"name\":\"h-\",\"type\":\"heading\",\"level\":0,\"id\":\"h-Actualidad-Bienvenidos_a_Wikipedia,\",\"replies\":[],\"uneditableSection\":true}}--></div>\n",
            "<ul><li><a href=\"/wiki/Invasi%C3%B3n_rusa_de_Ucrania\" title=\"Invasión rusa de Ucrania\">Invasión rusa de Ucrania</a></li>\n",
            "<li><a href=\"/wiki/Guerra_Israel-Gaza_de_2023\" title=\"Guerra Israel-Gaza de 2023\">Guerra Israel-Gaza</a></li>\n",
            "<li><a href=\"/wiki/Protestas_contra_la_amnist%C3%ADa_de_2023\" title=\"Protestas contra la amnistía de 2023\">Protestas en España</a></li>\n",
            "<li><a href=\"/wiki/Crisis_de_N%C3%ADger_de_2023\" title=\"Crisis de Níger de 2023\">Crisis de Níger</a></li>\n",
            "<li>25 de noviembre: <a href=\"/wiki/Survivor_Series:_WarGames_(2023)\" title=\"Survivor Series: WarGames (2023)\">Survivor Series: WarGames</a></li>\n",
            "<li>17-26 de noviembre: <a href=\"/wiki/Juegos_Parapanamericanos_de_2023\" title=\"Juegos Parapanamericanos de 2023\">Juegos Parapanamericanos</a></li>\n",
            "<li>10 de noviembre-2 de diciembre: <a href=\"/wiki/Copa_Mundial_de_F%C3%BAtbol_Sub-17_de_2023\" title=\"Copa Mundial de Fútbol Sub-17 de 2023\">Copa Mundial de Fútbol Sub-17</a></li></ul>\n",
            "<div style=\"margin-top: .9em; margin-bottom: .9em;\">\n",
            "<dl><dt><a href=\"/wiki/Anexo:Fallecidos_en_2023\" class=\"mw-redirect\" title=\"Anexo:Fallecidos en 2023\">Fallecimientos</a></dt></dl>\n",
            "<ul><li>23 de noviembre: <a href=\"/wiki/Francisco_Luna_Kan\" title=\"Francisco Luna Kan\">Francisco Luna Kan</a>, político mexicano (97)</li></ul>\n",
            "<figure class=\"mw-halign-right\" typeof=\"mw:File\"><a href=\"/wiki/Archivo:Manif_pour_tous_Paris_2013-01-13_n22.jpg\" class=\"mw-file-description\" title=\"La actriz y música francorumana Rona Hartner\"><img alt=\"La actriz y música francorumana Rona Hartner\" src=\"//upload.wikimedia.org/wikipedia/commons/thumb/8/8b/Manif_pour_tous_Paris_2013-01-13_n22.jpg/120px-Manif_pour_tous_Paris_2013-01-13_n22.jpg\" decoding=\"async\" width=\"120\" height=\"180\" class=\"mw-file-element\" srcset=\"//upload.wikimedia.org/wikipedia/commons/thumb/8/8b/Manif_pour_tous_Paris_2013-01-13_n22.jpg/180px-Manif_pour_tous_Paris_2013-01-13_n22.jpg 1.5x, //upload.wikimedia.org/wikipedia/commons/thumb/8/8b/Manif_pour_tous_Paris_2013-01-13_n22.jpg/240px-Manif_pour_tous_Paris_2013-01-13_n22.jpg 2x\" data-file-width=\"1001\" data-file-height=\"1500\"/></a><figcaption>La actriz y música francorumana Rona Hartner</figcaption></figure>\n",
            "<ul><li>23 de noviembre: <a href=\"/wiki/Rona_Hartner\" title=\"Rona Hartner\">Rona Hartner</a>, actriz y música francorrumana (50; <i>en la imagen superior</i>)</li></ul>\n",
            "<figure class=\"mw-halign-right\" typeof=\"mw:File\"><a href=\"/wiki/Archivo:AnchelConte.jpg\" class=\"mw-file-description\" title=\"El escritor e historiador español Ánchel Conte\"><img alt=\"El escritor e historiador español Ánchel Conte\" src=\"//upload.wikimedia.org/wikipedia/commons/thumb/4/45/AnchelConte.jpg/120px-AnchelConte.jpg\" decoding=\"async\" width=\"120\" height=\"120\" class=\"mw-file-element\" srcset=\"//upload.wikimedia.org/wikipedia/commons/thumb/4/45/AnchelConte.jpg/180px-AnchelConte.jpg 1.5x, //upload.wikimedia.org/wikipedia/commons/thumb/4/45/AnchelConte.jpg/240px-AnchelConte.jpg 2x\" data-file-width=\"300\" data-file-height=\"300\"/></a><figcaption>El escritor e historiador español Ánchel Conte</figcaption></figure>\n",
            "<ul><li>23 de noviembre: <a href=\"/wiki/%C3%81nchel_Conte\" title=\"Ánchel Conte\">Ánchel Conte</a>, escritor e historiador español (81; <i>en la imagen inferior</i>)</li>\n",
            "<li>22 de noviembre: <a href=\"/wiki/Sead_Jesenkovi%C4%87\" title=\"Sead Jesenković\">Sead Jesenković</a>, jugador y entrenador de fútbol bosnioherzegovino (80)</li>\n",
            "<li>22 de noviembre: <a href=\"/wiki/Emmanuel_Le_Roy_Ladurie\" title=\"Emmanuel Le Roy Ladurie\">Emmanuel Le Roy Ladurie</a>, historiador francés (94)</li>\n",
            "<li>22 de noviembre: <a href=\"/wiki/Santi_Guti%C3%A9rrez_Calle\" title=\"Santi Gutiérrez Calle\">Santi Gutiérrez Calle</a>, jugador y entrenador de fútbol español (78)</li>\n",
            "<li>21 de noviembre: <a href=\"/wiki/Dave_Young\" title=\"Dave Young\">Dave Young</a>, jugador de fútbol americano estadounidense (64)</li>\n",
            "<li>21 de noviembre: <a href=\"/wiki/Lothar_Buchmann\" title=\"Lothar Buchmann\">Lothar Buchmann</a>, jugador y entrenador de fútbol alemán (87)</li>\n",
            "<li>21 de noviembre: <a href=\"/wiki/Anne_Michel\" title=\"Anne Michel\">Anne Michel</a>, atleta belga (64)</li>\n",
            "<li>21 de noviembre: <a href=\"/wiki/Jer%C3%B3nimo_Saavedra\" title=\"Jerónimo Saavedra\">Jerónimo Saavedra</a>, político español (87)</li>\n",
            "<li>20 de noviembre: <a href=\"/wiki/Willie_Hern%C3%A1ndez\" title=\"Willie Hernández\">Willie Hernández</a>, beisbolista puertorriqueño (69)</li>\n",
            "<li>20 de noviembre: <a href=\"/wiki/Annabel_Giles\" title=\"Annabel Giles\">Annabel Giles</a>, presentadora, actriz y modelo británica (64)</li>\n",
            "<li>20 de noviembre: <a href=\"/wiki/Horacio_Malvicino\" title=\"Horacio Malvicino\">Horacio Malvicino</a>, músico argentino (94)</li></ul>\n",
            "</div>\n",
            "<dl><dt>Conmemoraciones y fiestas</dt></dl>\n",
            "<ul><li>25 de noviembre: <a href=\"/wiki/D%C3%ADa_Internacional_de_la_Eliminaci%C3%B3n_de_la_Violencia_contra_la_Mujer\" title=\"Día Internacional de la Eliminación de la Violencia contra la Mujer\">Día Internacional de la Eliminación de la Violencia contra la Mujer</a></li>\n",
            "<li>25 de noviembre: Día Nacional de <a href=\"/wiki/Surinam\" title=\"Surinam\">Surinam</a></li></ul>\n",
            "<p><br/>\n",
            "<b>Véase también:</b> <a href=\"/wiki/Categor%C3%ADa:Actualidad\" title=\"Categoría:Actualidad\">Categoría:Actualidad</a>, <a href=\"/wiki/2023\" title=\"2023\">2023</a>, <a href=\"/wiki/Categor%C3%ADa:2023\" title=\"Categoría:2023\">Categoría:2023</a>\n",
            "</p>\n",
            "<div style=\"clear: both;\"></div>\n",
            "<div class=\"main-footer\"><div class=\"main-footer-actions main-plainlist nomobile\">\n",
            "<ul><li><a href=\"/wiki/Portal:Actualidad\" title=\"Portal:Actualidad\"><span class=\"mw-ui-button\"> Otros eventos actuales </span></a></li></ul>\n",
            "</div><div id=\"mw-customcollapsible-cur\" class=\"main-footer-menu mw-collapsible mw-collapsed nomobile\">\n",
            "<div class=\"main-footer-menuToggle mw-collapsible-toggle mw-customtoggle-main-cur\"><span typeof=\"mw:File\"><span title=\"Acciones adicionales\"><img alt=\"Acciones adicionales\" src=\"//upload.wikimedia.org/wikipedia/commons/thumb/b/b3/OOjs_UI_icon_ellipsis.svg/20px-OOjs_UI_icon_ellipsis.svg.png\" decoding=\"async\" width=\"20\" height=\"20\" class=\"mw-file-element\" srcset=\"//upload.wikimedia.org/wikipedia/commons/thumb/b/b3/OOjs_UI_icon_ellipsis.svg/30px-OOjs_UI_icon_ellipsis.svg.png 1.5x, //upload.wikimedia.org/wikipedia/commons/thumb/b/b3/OOjs_UI_icon_ellipsis.svg/40px-OOjs_UI_icon_ellipsis.svg.png 2x\" data-file-width=\"20\" data-file-height=\"20\"/></span></span></div>\n",
            "<div class=\"main-footer-menuDropdown mw-collapsible-content main-plainlist\">\n",
            "<ul><li><a href=\"/wiki/Categor%C3%ADa:Actualidad\" title=\"Categoría:Actualidad\"><span class=\"mw-ui-button mw-ui-quiet\"> Categoría de actualidad </span></a></li>\n",
            "<li><a href=\"/wiki/2023\" title=\"2023\"><span class=\"mw-ui-button mw-ui-quiet\"> Año 2023 </span></a></li>\n",
            "<li><a href=\"/wiki/Categor%C3%ADa:2023\" title=\"Categoría:2023\"><span class=\"mw-ui-button mw-ui-quiet\"> Categoría 2023 </span></a></li>\n",
            "<li><a href=\"/wiki/Plantilla:Portada:Actualidad\" title=\"Plantilla:Portada:Actualidad\"><span class=\"mw-ui-button mw-ui-quiet\"> Plantilla </span></a></li></ul>\n",
            "</div></div></div>\n",
            "</div>\n",
            "<link rel=\"mw-deduplicated-inline-style\" href=\"mw-data:TemplateStyles:r144107018\">\n",
            "<div id=\"main-itd\" class=\"main-box\"><div id=\"Efemérides\" class=\"main-box-section\">Efemérides</div><div class=\"mw-heading mw-heading2 ext-discussiontools-init-section\"><h2 class=\"main-header main-box-header\"><span class=\"mw-headline\" id=\"24_de_noviembre\" data-mw-thread-id=\"h-24_de_noviembre-Bienvenidos_a_Wikipedia,\"><span data-mw-comment-start=\"\" id=\"h-24_de_noviembre-Bienvenidos_a_Wikipedia,\"></span><a href=\"/wiki/24_de_noviembre\" title=\"24 de noviembre\">24 de noviembre</a><span data-mw-comment-end=\"h-24_de_noviembre-Bienvenidos_a_Wikipedia,\"></span></span></h2><!--__DTELLIPSISBUTTON__{\"threadItem\":{\"headingLevel\":2,\"name\":\"h-\",\"type\":\"heading\",\"level\":0,\"id\":\"h-24_de_noviembre-Bienvenidos_a_Wikipedia,\",\"replies\":[],\"uneditableSection\":true}}--></div>\n",
            "<figure class=\"mw-halign-right\" typeof=\"mw:File\"><a href=\"/wiki/Archivo:Wikisource-logo.svg\" class=\"mw-file-description\"><img src=\"//upload.wikimedia.org/wikipedia/commons/thumb/4/4c/Wikisource-logo.svg/120px-Wikisource-logo.svg.png\" decoding=\"async\" width=\"120\" height=\"126\" class=\"mw-file-element\" srcset=\"//upload.wikimedia.org/wikipedia/commons/thumb/4/4c/Wikisource-logo.svg/180px-Wikisource-logo.svg.png 1.5x, //upload.wikimedia.org/wikipedia/commons/thumb/4/4c/Wikisource-logo.svg/240px-Wikisource-logo.svg.png 2x\" data-file-width=\"410\" data-file-height=\"430\"/></a><figcaption></figcaption></figure>\n",
            "<ul><li><b><a href=\"/wiki/1923\" title=\"1923\">1923</a></b> <i>(hace 100 años)</i>: Nace <b><a href=\"/wiki/Octavio_Lepage\" title=\"Octavio Lepage\">Octavio Lepage</a></b>, político venezolano (f. 2017).</li>\n",
            "<li><b><a href=\"/wiki/1973\" title=\"1973\">1973</a></b> <i>(hace 50 años)</i>: Fallece <b><a href=\"/wiki/Nikol%C3%A1i_K%C3%A1mov\" title=\"Nikolái Kámov\">Nikolái Kámov</a></b>, ingeniero aeronáutico ruso (n. 1902).</li>\n",
            "<li><b><a href=\"/wiki/1998\" title=\"1998\">1998</a></b> <i>(hace 25 años)</i>: En la Franja de Gaza, se inaugura el <b><a href=\"/wiki/Aeropuerto_Internacional_Yasser_Arafat\" title=\"Aeropuerto Internacional Yasser Arafat\">Aeropuerto Internacional Yasser Arafat</a></b>.</li>\n",
            "<li><b><a href=\"/wiki/1998\" title=\"1998\">1998</a></b> <i>(hace 25 años)</i>: Nace <b><a href=\"/wiki/Peyton_Meyer\" title=\"Peyton Meyer\">Peyton Meyer</a></b>, actor estadounidense.</li>\n",
            "<li><b><a href=\"/wiki/2003\" title=\"2003\">2003</a></b> <i>(hace 20 años)</i>: La Fundación Wikimedia lanza la biblioteca libre <b><a href=\"/wiki/Wikisource\" title=\"Wikisource\">Wikisource</a></b> <i>(logotipo en la imagen)</i>.</li></ul>\n",
            "<div style=\"clear: both;\"></div>\n",
            "<div class=\"main-footer\"><div class=\"main-footer-actions main-plainlist nomobile\">\n",
            "<ul><li><a href=\"/wiki/23_de_noviembre\" title=\"23 de noviembre\"><span class=\"mw-ui-button mw-ui-quiet\"> 23 de noviembre </span></a></li>\n",
            "<li><a href=\"/wiki/24_de_noviembre\" title=\"24 de noviembre\"><span class=\"mw-ui-button\"> 24 de noviembre </span></a></li>\n",
            "<li><a href=\"/wiki/25_de_noviembre\" title=\"25 de noviembre\"><span class=\"mw-ui-button mw-ui-quiet\"> 25 de noviembre </span></a></li></ul>\n",
            "</div><div id=\"mw-customcollapsible-itd\" class=\"main-footer-menu mw-collapsible mw-collapsed nomobile\">\n",
            "<div class=\"main-footer-menuToggle mw-collapsible-toggle mw-customtoggle-main-itd\"><span typeof=\"mw:File\"><span title=\"Acciones adicionales\"><img alt=\"Acciones adicionales\" src=\"//upload.wikimedia.org/wikipedia/commons/thumb/b/b3/OOjs_UI_icon_ellipsis.svg/20px-OOjs_UI_icon_ellipsis.svg.png\" decoding=\"async\" width=\"20\" height=\"20\" class=\"mw-file-element\" srcset=\"//upload.wikimedia.org/wikipedia/commons/thumb/b/b3/OOjs_UI_icon_ellipsis.svg/30px-OOjs_UI_icon_ellipsis.svg.png 1.5x, //upload.wikimedia.org/wikipedia/commons/thumb/b/b3/OOjs_UI_icon_ellipsis.svg/40px-OOjs_UI_icon_ellipsis.svg.png 2x\" data-file-width=\"20\" data-file-height=\"20\"/></span></span></div>\n",
            "<div class=\"main-footer-menuDropdown mw-collapsible-content main-plainlist\">\n",
            "<ul><li><a href=\"/wiki/Plantilla:Efem%C3%A9rides\" title=\"Plantilla:Efemérides\"><span class=\"mw-ui-button mw-ui-quiet\"> Plantilla </span></a></li></ul>\n",
            "</div></div></div>\n",
            "</div>\n",
            "<link rel=\"mw-deduplicated-inline-style\" href=\"mw-data:TemplateStyles:r144107018\">\n",
            "<div id=\"main-wmfsp\" class=\"main-box\"><div class=\"mw-heading mw-heading2 ext-discussiontools-init-section\"><h2 class=\"main-header main-box-header\"><span id=\"Otros_proyectos_de_la_Fundaci.C3.B3n_Wikimedia\"></span><span class=\"mw-headline\" id=\"Otros_proyectos_de_la_Fundación_Wikimedia\" data-mw-thread-id=\"h-Otros_proyectos_de_la_Fundación_Wikimedia-Bienvenidos_a_Wikipedia,\"><span data-mw-comment-start=\"\" id=\"h-Otros_proyectos_de_la_Fundación_Wikimedia-Bienvenidos_a_Wikipedia,\"></span><a href=\"https://meta.wikimedia.org/wiki/Special:MyLanguage/Wikimedia_projects\" class=\"extiw\" title=\"meta:Special:MyLanguage/Wikimedia projects\">Otros proyectos</a> de la <a href=\"/wiki/Fundaci%C3%B3n_Wikimedia\" title=\"Fundación Wikimedia\">Fundación Wikimedia</a><span data-mw-comment-end=\"h-Otros_proyectos_de_la_Fundación_Wikimedia-Bienvenidos_a_Wikipedia,\"></span></span></h2><!--__DTELLIPSISBUTTON__{\"threadItem\":{\"headingLevel\":2,\"name\":\"h-\",\"type\":\"heading\",\"level\":0,\"id\":\"h-Otros_proyectos_de_la_Fundaci\\u00f3n_Wikimedia-Bienvenidos_a_Wikipedia,\",\"replies\":[],\"uneditableSection\":true}}--></div>\n",
            "<table style=\"background:transparent; margin: 0 auto;\">\n",
            "\n",
            "<tbody><tr>\n",
            "<td style=\"padding: 8px;\"><figure class=\"mw-halign-center\" typeof=\"mw:File\"><a href=\"https://commons.wikimedia.org/wiki/Portada\" title=\"Wikimedia Commons\"><img alt=\"Wikimedia Commons\" src=\"//upload.wikimedia.org/wikipedia/commons/thumb/7/76/Notification-icon-Commons-logo.svg/30px-Notification-icon-Commons-logo.svg.png\" decoding=\"async\" width=\"30\" height=\"30\" class=\"mw-file-element\" srcset=\"//upload.wikimedia.org/wikipedia/commons/thumb/7/76/Notification-icon-Commons-logo.svg/45px-Notification-icon-Commons-logo.svg.png 1.5x, //upload.wikimedia.org/wikipedia/commons/thumb/7/76/Notification-icon-Commons-logo.svg/60px-Notification-icon-Commons-logo.svg.png 2x\" data-file-width=\"30\" data-file-height=\"30\"/></a><figcaption>Wikimedia Commons</figcaption></figure>\n",
            "</td>\n",
            "<td><b><a href=\"https://commons.wikimedia.org/wiki/Portada\" class=\"extiw\" title=\"commons:Portada\">Commons</a></b><br/><div style=\"font-size: 90%\">Imágenes y multimedia</div>\n",
            "</td>\n",
            "<td>\n",
            "</td>\n",
            "<td style=\"padding: 8px;\"><figure class=\"mw-halign-center\" typeof=\"mw:File\"><a href=\"https://es.wiktionary.org/wiki/Wikcionario:Portada\" title=\"Wikcionario\"><img alt=\"Wikcionario\" src=\"//upload.wikimedia.org/wikipedia/commons/thumb/a/ac/Notification-icon-Wiktionary-logo.svg/30px-Notification-icon-Wiktionary-logo.svg.png\" decoding=\"async\" width=\"30\" height=\"30\" class=\"mw-file-element\" srcset=\"//upload.wikimedia.org/wikipedia/commons/thumb/a/ac/Notification-icon-Wiktionary-logo.svg/45px-Notification-icon-Wiktionary-logo.svg.png 1.5x, //upload.wikimedia.org/wikipedia/commons/thumb/a/ac/Notification-icon-Wiktionary-logo.svg/60px-Notification-icon-Wiktionary-logo.svg.png 2x\" data-file-width=\"30\" data-file-height=\"30\"/></a><figcaption>Wikcionario</figcaption></figure>\n",
            "</td>\n",
            "<td><b><a href=\"https://es.wiktionary.org/wiki/Wikcionario:Portada\" class=\"extiw\" title=\"wikt:Wikcionario:Portada\">Wikcionario</a></b><br/><div style=\"font-size: 90%\">Diccionario libre</div>\n",
            "</td></tr>\n",
            "<tr>\n",
            "<td style=\"padding: 8px;\"><figure class=\"mw-halign-center\" typeof=\"mw:File\"><a href=\"https://www.wikidata.org/wiki/Wikidata:Portada\" title=\"Wikidata\"><img alt=\"Wikidata\" src=\"//upload.wikimedia.org/wikipedia/commons/thumb/6/67/Notification-icon-Wikidata-logo.svg/30px-Notification-icon-Wikidata-logo.svg.png\" decoding=\"async\" width=\"30\" height=\"30\" class=\"mw-file-element\" srcset=\"//upload.wikimedia.org/wikipedia/commons/thumb/6/67/Notification-icon-Wikidata-logo.svg/45px-Notification-icon-Wikidata-logo.svg.png 1.5x, //upload.wikimedia.org/wikipedia/commons/thumb/6/67/Notification-icon-Wikidata-logo.svg/60px-Notification-icon-Wikidata-logo.svg.png 2x\" data-file-width=\"30\" data-file-height=\"30\"/></a><figcaption>Wikidata</figcaption></figure>\n",
            "</td>\n",
            "<td><b><a href=\"https://www.wikidata.org/wiki/Wikidata:Portada\" class=\"extiw\" title=\"wikidata:Wikidata:Portada\">Wikidata</a></b><br/><div style=\"font-size: 90%\">Base de datos libre</div>\n",
            "</td>\n",
            "<td>\n",
            "</td>\n",
            "<td style=\"padding: 8px;\"><figure class=\"mw-halign-center\" typeof=\"mw:File\"><a href=\"https://es.wikibooks.org/wiki/Portada\" title=\"Wikilibros\"><img alt=\"Wikilibros\" src=\"//upload.wikimedia.org/wikipedia/commons/thumb/e/e0/Notification-icon-Wikibooks-logo.svg/30px-Notification-icon-Wikibooks-logo.svg.png\" decoding=\"async\" width=\"30\" height=\"30\" class=\"mw-file-element\" srcset=\"//upload.wikimedia.org/wikipedia/commons/thumb/e/e0/Notification-icon-Wikibooks-logo.svg/45px-Notification-icon-Wikibooks-logo.svg.png 1.5x, //upload.wikimedia.org/wikipedia/commons/thumb/e/e0/Notification-icon-Wikibooks-logo.svg/60px-Notification-icon-Wikibooks-logo.svg.png 2x\" data-file-width=\"30\" data-file-height=\"30\"/></a><figcaption>Wikilibros</figcaption></figure>\n",
            "</td>\n",
            "<td><b><a href=\"https://es.wikibooks.org/wiki/Portada\" class=\"extiw\" title=\"b:Portada\">Wikilibros</a></b><br/><div style=\"font-size: 90%\">Libros de texto y manuales</div>\n",
            "</td></tr>\n",
            "<tr>\n",
            "<td style=\"padding: 8px;\"><figure class=\"mw-halign-center\" typeof=\"mw:File\"><a href=\"https://es.wikinews.org/wiki/Portada\" title=\"Wikinoticias\"><img alt=\"Wikinoticias\" src=\"//upload.wikimedia.org/wikipedia/commons/thumb/5/57/Notification-icon-Wikinews-logo.svg/30px-Notification-icon-Wikinews-logo.svg.png\" decoding=\"async\" width=\"30\" height=\"30\" class=\"mw-file-element\" srcset=\"//upload.wikimedia.org/wikipedia/commons/thumb/5/57/Notification-icon-Wikinews-logo.svg/45px-Notification-icon-Wikinews-logo.svg.png 1.5x, //upload.wikimedia.org/wikipedia/commons/thumb/5/57/Notification-icon-Wikinews-logo.svg/60px-Notification-icon-Wikinews-logo.svg.png 2x\" data-file-width=\"30\" data-file-height=\"30\"/></a><figcaption>Wikinoticias</figcaption></figure>\n",
            "</td>\n",
            "<td><b><a href=\"https://es.wikinews.org/wiki/Portada\" class=\"extiw\" title=\"n:Portada\">Wikinoticias</a></b><br/><div style=\"font-size: 90%\">Noticias libres</div>\n",
            "</td>\n",
            "<td>\n",
            "</td>\n",
            "<td style=\"padding: 8px;\"><figure class=\"mw-halign-center\" typeof=\"mw:File\"><a href=\"https://es.wikiquote.org/wiki/Portada\" title=\"Wikiquote\"><img alt=\"Wikiquote\" src=\"//upload.wikimedia.org/wikipedia/commons/thumb/5/5a/Notification-icon-Wikiquote.svg/30px-Notification-icon-Wikiquote.svg.png\" decoding=\"async\" width=\"30\" height=\"30\" class=\"mw-file-element\" srcset=\"//upload.wikimedia.org/wikipedia/commons/thumb/5/5a/Notification-icon-Wikiquote.svg/45px-Notification-icon-Wikiquote.svg.png 1.5x, //upload.wikimedia.org/wikipedia/commons/thumb/5/5a/Notification-icon-Wikiquote.svg/60px-Notification-icon-Wikiquote.svg.png 2x\" data-file-width=\"30\" data-file-height=\"30\"/></a><figcaption>Wikiquote</figcaption></figure>\n",
            "</td>\n",
            "<td><b><a href=\"https://es.wikiquote.org/wiki/Portada\" class=\"extiw\" title=\"q:Portada\">Wikiquote</a></b><br/><div style=\"font-size: 90%\">Colección de citas</div>\n",
            "</td></tr>\n",
            "<tr>\n",
            "<td style=\"padding: 8px;\"><figure class=\"mw-halign-center\" typeof=\"mw:File\"><a href=\"https://es.wikisource.org/wiki/Portada\" title=\"Wikisource\"><img alt=\"Wikisource\" src=\"//upload.wikimedia.org/wikipedia/commons/thumb/5/5a/Notification-icon-Wikisource-logo.svg/30px-Notification-icon-Wikisource-logo.svg.png\" decoding=\"async\" width=\"30\" height=\"30\" class=\"mw-file-element\" srcset=\"//upload.wikimedia.org/wikipedia/commons/thumb/5/5a/Notification-icon-Wikisource-logo.svg/45px-Notification-icon-Wikisource-logo.svg.png 1.5x, //upload.wikimedia.org/wikipedia/commons/thumb/5/5a/Notification-icon-Wikisource-logo.svg/60px-Notification-icon-Wikisource-logo.svg.png 2x\" data-file-width=\"30\" data-file-height=\"30\"/></a><figcaption>Wikisource</figcaption></figure>\n",
            "</td>\n",
            "<td><b><a href=\"https://es.wikisource.org/wiki/Portada\" class=\"extiw\" title=\"s:Portada\">Wikisource</a></b><br/><div style=\"font-size: 90%\">Biblioteca libre</div>\n",
            "</td>\n",
            "<td>\n",
            "</td>\n",
            "<td style=\"padding: 8px;\"><figure class=\"mw-halign-center\" typeof=\"mw:File\"><a href=\"https://species.wikimedia.org/wiki/Portada\" title=\"Wikispecies\"><img alt=\"Wikispecies\" src=\"//upload.wikimedia.org/wikipedia/commons/thumb/0/08/Notification-icon-Wikispecies-logo.svg/30px-Notification-icon-Wikispecies-logo.svg.png\" decoding=\"async\" width=\"30\" height=\"30\" class=\"mw-file-element\" srcset=\"//upload.wikimedia.org/wikipedia/commons/thumb/0/08/Notification-icon-Wikispecies-logo.svg/45px-Notification-icon-Wikispecies-logo.svg.png 1.5x, //upload.wikimedia.org/wikipedia/commons/thumb/0/08/Notification-icon-Wikispecies-logo.svg/60px-Notification-icon-Wikispecies-logo.svg.png 2x\" data-file-width=\"30\" data-file-height=\"30\"/></a><figcaption>Wikispecies</figcaption></figure>\n",
            "</td>\n",
            "<td><b><a href=\"https://species.wikimedia.org/wiki/Portada\" class=\"extiw\" title=\"wikispecies:Portada\">Wikispecies</a></b><br/><div style=\"font-size: 90%\">Directorio de especies</div>\n",
            "</td></tr>\n",
            "<tr>\n",
            "<td style=\"padding: 8px;\"><figure class=\"mw-halign-center\" typeof=\"mw:File\"><a href=\"https://es.wikiversity.org/wiki/Portada\" title=\"Wikiversidad\"><img alt=\"Wikiversidad\" src=\"//upload.wikimedia.org/wikipedia/commons/thumb/0/01/Notification-icon-Wikiversity-logo.svg/30px-Notification-icon-Wikiversity-logo.svg.png\" decoding=\"async\" width=\"30\" height=\"30\" class=\"mw-file-element\" srcset=\"//upload.wikimedia.org/wikipedia/commons/thumb/0/01/Notification-icon-Wikiversity-logo.svg/45px-Notification-icon-Wikiversity-logo.svg.png 1.5x, //upload.wikimedia.org/wikipedia/commons/thumb/0/01/Notification-icon-Wikiversity-logo.svg/60px-Notification-icon-Wikiversity-logo.svg.png 2x\" data-file-width=\"30\" data-file-height=\"30\"/></a><figcaption>Wikiversidad</figcaption></figure>\n",
            "</td>\n",
            "<td><b><a href=\"https://es.wikiversity.org/wiki/Portada\" class=\"extiw\" title=\"v:Portada\">Wikiversidad</a></b><br/><div style=\"font-size: 90%\">Recursos de aprendizaje</div>\n",
            "</td>\n",
            "<td>\n",
            "</td>\n",
            "<td style=\"padding: 8px;\"><figure class=\"mw-halign-center\" typeof=\"mw:File\"><a href=\"https://es.wikivoyage.org/wiki/es:P%C3%A1gina_principal\" title=\"Wikiviajes\"><img alt=\"Wikiviajes\" src=\"//upload.wikimedia.org/wikipedia/commons/thumb/4/47/Notification-icon-Wikivoyage-logo.svg/30px-Notification-icon-Wikivoyage-logo.svg.png\" decoding=\"async\" width=\"30\" height=\"30\" class=\"mw-file-element\" srcset=\"//upload.wikimedia.org/wikipedia/commons/thumb/4/47/Notification-icon-Wikivoyage-logo.svg/45px-Notification-icon-Wikivoyage-logo.svg.png 1.5x, //upload.wikimedia.org/wikipedia/commons/thumb/4/47/Notification-icon-Wikivoyage-logo.svg/60px-Notification-icon-Wikivoyage-logo.svg.png 2x\" data-file-width=\"30\" data-file-height=\"30\"/></a><figcaption>Wikiviajes</figcaption></figure>\n",
            "</td>\n",
            "<td><b><a href=\"https://es.wikivoyage.org/wiki/es:P%C3%A1gina_principal\" class=\"extiw\" title=\"voy:es:Página principal\">Wikiviajes</a></b><br/><div style=\"font-size: 90%\">Guía de viajes</div>\n",
            "</td></tr>\n",
            "<tr>\n",
            "<td colspan=\"5\" style=\"padding: 8px; text-align: center;\"><span typeof=\"mw:File\"><a href=\"https://meta.wikimedia.org/wiki/Portada/Es\" title=\"Meta-Wiki\"><img alt=\"Meta-Wiki\" src=\"//upload.wikimedia.org/wikipedia/commons/thumb/8/86/Notification-icon-Meta-logo.svg/30px-Notification-icon-Meta-logo.svg.png\" decoding=\"async\" width=\"30\" height=\"30\" class=\"mw-file-element\" srcset=\"//upload.wikimedia.org/wikipedia/commons/thumb/8/86/Notification-icon-Meta-logo.svg/45px-Notification-icon-Meta-logo.svg.png 1.5x, //upload.wikimedia.org/wikipedia/commons/thumb/8/86/Notification-icon-Meta-logo.svg/60px-Notification-icon-Meta-logo.svg.png 2x\" data-file-width=\"30\" data-file-height=\"30\"/></a></span><span style=\"padding-left: 8px;\"><b><a href=\"https://meta.wikimedia.org/wiki/Portada/es\" class=\"extiw\" title=\"m:Portada/es\">Meta-Wiki</a></b> – <span style=\"font-size: 90%\">Coordinación de proyectos</span></span>\n",
            "</td></tr></tbody></table>\n",
            "<div style=\"clear: both;\"></div>\n",
            "</div>\n",
            "</div>\n",
            "</div>\n",
            "<!-- \n",
            "NewPP limit report\n",
            "Parsed by mw1368\n",
            "Cached time: 20231124151720\n",
            "Cache expiry: 3600\n",
            "Reduced expiry: true\n",
            "Complications: [no‐toc]\n",
            "DiscussionTools time usage: 0.023 seconds\n",
            "CPU time usage: 0.219 seconds\n",
            "Real time usage: 0.292 seconds\n",
            "Preprocessor visited node count: 4802/1000000\n",
            "Post‐expand include size: 67540/2097152 bytes\n",
            "Template argument size: 26962/2097152 bytes\n",
            "Highest expansion depth: 21/100\n",
            "Expensive parser function count: 0/500\n",
            "Unstrip recursion depth: 0/20\n",
            "Unstrip post‐expand size: 21451/5000000 bytes\n",
            "Lua time usage: 0.009/10.000 seconds\n",
            "Lua memory usage: 1252435/52428800 bytes\n",
            "Number of Wikibase entities loaded: 0/400\n",
            "-->\n",
            "<!--\n",
            "Transclusion expansion time report (%,ms,calls,template)\n",
            "100.00%  166.708      1 -total\n",
            " 86.23%  143.749      7 Plantilla:Portada:Sección\n",
            " 23.17%   38.620      4 Plantilla:Portada:Destacado\n",
            " 15.55%   25.928      5 Plantilla:Portada:Destacado/B\n",
            " 13.99%   23.329      5 Plantilla:Portada:Resumen\n",
            " 13.86%   23.107     15 Plantilla:Título_sin_coletilla\n",
            " 12.42%   20.712      1 Plantilla:Portada:Encabezado/OOUI\n",
            " 11.18%   18.639      5 Plantilla:ABDD\n",
            " 11.15%   18.586      1 Plantilla:Portada:Portales_II\n",
            " 10.23%   17.050      6 Plantilla:RDD\n",
            "-->\n",
            "\n",
            "<!-- Saved in parser cache with key eswiki:pcache:idhash:2271189-0!canonical and timestamp 20231124151719 and revision id 149134229. Rendering was triggered because: page-view\n",
            " -->\n",
            "</div><!--esi <esi:include src=\"/esitest-fa8a495983347898/content\" /> --><noscript><img src=\"https://login.wikimedia.org/wiki/Special:CentralAutoLogin/start?type=1x1\" alt=\"\" width=\"1\" height=\"1\" style=\"border: none; position: absolute;\"></noscript>\n",
            "<div class=\"printfooter\" data-nosnippet=\"\">Obtenido de «<a dir=\"ltr\" href=\"https://es.wikipedia.org/w/index.php?title=Wikipedia:Portada&amp;oldid=149134229\">https://es.wikipedia.org/w/index.php?title=Wikipedia:Portada&amp;oldid=149134229</a>»</div></div>\n",
            "\t\t\t\t\t<div id=\"catlinks\" class=\"catlinks catlinks-allhidden\" data-mw=\"interface\"></div>\n",
            "\t\t\t\t\t\t\n",
            "<div id=\"p-lang-btn\" class=\"vector-dropdown mw-portlet mw-portlet-lang\"  >\n",
            "\t<input type=\"checkbox\" id=\"p-lang-btn-checkbox\" role=\"button\" aria-haspopup=\"true\" data-event-name=\"ui.dropdown-p-lang-btn\" class=\"vector-dropdown-checkbox mw-interlanguage-selector\" aria-label=\"Ir a un artículo en otro idioma. Disponible en 62 idiomas\"   >\n",
            "\t<label id=\"p-lang-btn-label\" for=\"p-lang-btn-checkbox\" class=\"vector-dropdown-label cdx-button cdx-button--fake-button cdx-button--fake-button--enabled cdx-button--weight-quiet cdx-button--action-progressive mw-portlet-lang-heading-62\" aria-hidden=\"true\"  ><span class=\"vector-icon mw-ui-icon-language-progressive mw-ui-icon-wikimedia-language-progressive\"></span>\n",
            "\n",
            "<span class=\"vector-dropdown-label-text\">62 idiomas</span>\n",
            "\t</label>\n",
            "\t<div class=\"vector-dropdown-content\">\n",
            "\n",
            "\t\t<div class=\"vector-menu-content\">\n",
            "\t\t\t\n",
            "\t\t\t<ul class=\"vector-menu-content-list\">\n",
            "\t\t\t\t\n",
            "\t\t\t\t<li class=\"interlanguage-link interwiki-an mw-list-item\"><a href=\"https://an.wikipedia.org/wiki/\" title=\"aragonés\" lang=\"an\" hreflang=\"an\" class=\"interlanguage-link-target\"><span>Aragonés</span></a></li><li class=\"interlanguage-link interwiki-ar mw-list-item\"><a href=\"https://ar.wikipedia.org/wiki/\" title=\"árabe\" lang=\"ar\" hreflang=\"ar\" class=\"interlanguage-link-target\"><span>العربية</span></a></li><li class=\"interlanguage-link interwiki-ast mw-list-item\"><a href=\"https://ast.wikipedia.org/wiki/\" title=\"asturiano\" lang=\"ast\" hreflang=\"ast\" class=\"interlanguage-link-target\"><span>Asturianu</span></a></li><li class=\"interlanguage-link interwiki-ay mw-list-item\"><a href=\"https://ay.wikipedia.org/wiki/\" title=\"aimara\" lang=\"ay\" hreflang=\"ay\" class=\"interlanguage-link-target\"><span>Aymar aru</span></a></li><li class=\"interlanguage-link interwiki-bg mw-list-item\"><a href=\"https://bg.wikipedia.org/wiki/\" title=\"búlgaro\" lang=\"bg\" hreflang=\"bg\" class=\"interlanguage-link-target\"><span>Български</span></a></li><li class=\"interlanguage-link interwiki-bpy mw-list-item\"><a href=\"https://bpy.wikipedia.org/wiki/\" title=\"Bishnupriya\" lang=\"bpy\" hreflang=\"bpy\" class=\"interlanguage-link-target\"><span>বিষ্ণুপ্রিয়া মণিপুরী</span></a></li><li class=\"interlanguage-link interwiki-bs mw-list-item\"><a href=\"https://bs.wikipedia.org/wiki/\" title=\"bosnio\" lang=\"bs\" hreflang=\"bs\" class=\"interlanguage-link-target\"><span>Bosanski</span></a></li><li class=\"interlanguage-link interwiki-ca mw-list-item\"><a href=\"https://ca.wikipedia.org/wiki/\" title=\"catalán\" lang=\"ca\" hreflang=\"ca\" class=\"interlanguage-link-target\"><span>Català</span></a></li><li class=\"interlanguage-link interwiki-cbk-zam mw-list-item\"><a href=\"https://cbk-zam.wikipedia.org/wiki/\" title=\"Chavacano\" lang=\"cbk\" hreflang=\"cbk\" class=\"interlanguage-link-target\"><span>Chavacano de Zamboanga</span></a></li><li class=\"interlanguage-link interwiki-ceb mw-list-item\"><a href=\"https://ceb.wikipedia.org/wiki/\" title=\"cebuano\" lang=\"ceb\" hreflang=\"ceb\" class=\"interlanguage-link-target\"><span>Cebuano</span></a></li><li class=\"interlanguage-link interwiki-ch mw-list-item\"><a href=\"https://ch.wikipedia.org/wiki/\" title=\"chamorro\" lang=\"ch\" hreflang=\"ch\" class=\"interlanguage-link-target\"><span>Chamoru</span></a></li><li class=\"interlanguage-link interwiki-cs mw-list-item\"><a href=\"https://cs.wikipedia.org/wiki/\" title=\"checo\" lang=\"cs\" hreflang=\"cs\" class=\"interlanguage-link-target\"><span>Čeština</span></a></li><li class=\"interlanguage-link interwiki-da mw-list-item\"><a href=\"https://da.wikipedia.org/wiki/\" title=\"danés\" lang=\"da\" hreflang=\"da\" class=\"interlanguage-link-target\"><span>Dansk</span></a></li><li class=\"interlanguage-link interwiki-de mw-list-item\"><a href=\"https://de.wikipedia.org/wiki/\" title=\"alemán\" lang=\"de\" hreflang=\"de\" class=\"interlanguage-link-target\"><span>Deutsch</span></a></li><li class=\"interlanguage-link interwiki-el mw-list-item\"><a href=\"https://el.wikipedia.org/wiki/\" title=\"griego\" lang=\"el\" hreflang=\"el\" class=\"interlanguage-link-target\"><span>Ελληνικά</span></a></li><li class=\"interlanguage-link interwiki-en mw-list-item\"><a href=\"https://en.wikipedia.org/wiki/\" title=\"inglés\" lang=\"en\" hreflang=\"en\" class=\"interlanguage-link-target\"><span>English</span></a></li><li class=\"interlanguage-link interwiki-eo mw-list-item\"><a href=\"https://eo.wikipedia.org/wiki/\" title=\"esperanto\" lang=\"eo\" hreflang=\"eo\" class=\"interlanguage-link-target\"><span>Esperanto</span></a></li><li class=\"interlanguage-link interwiki-et mw-list-item\"><a href=\"https://et.wikipedia.org/wiki/\" title=\"estonio\" lang=\"et\" hreflang=\"et\" class=\"interlanguage-link-target\"><span>Eesti</span></a></li><li class=\"interlanguage-link interwiki-eu mw-list-item\"><a href=\"https://eu.wikipedia.org/wiki/\" title=\"euskera\" lang=\"eu\" hreflang=\"eu\" class=\"interlanguage-link-target\"><span>Euskara</span></a></li><li class=\"interlanguage-link interwiki-ext mw-list-item\"><a href=\"https://ext.wikipedia.org/wiki/\" title=\"Extremaduran\" lang=\"ext\" hreflang=\"ext\" class=\"interlanguage-link-target\"><span>Estremeñu</span></a></li><li class=\"interlanguage-link interwiki-fa mw-list-item\"><a href=\"https://fa.wikipedia.org/wiki/\" title=\"persa\" lang=\"fa\" hreflang=\"fa\" class=\"interlanguage-link-target\"><span>فارسی</span></a></li><li class=\"interlanguage-link interwiki-fi mw-list-item\"><a href=\"https://fi.wikipedia.org/wiki/\" title=\"finés\" lang=\"fi\" hreflang=\"fi\" class=\"interlanguage-link-target\"><span>Suomi</span></a></li><li class=\"interlanguage-link interwiki-fr mw-list-item\"><a href=\"https://fr.wikipedia.org/wiki/\" title=\"francés\" lang=\"fr\" hreflang=\"fr\" class=\"interlanguage-link-target\"><span>Français</span></a></li><li class=\"interlanguage-link interwiki-gl mw-list-item\"><a href=\"https://gl.wikipedia.org/wiki/\" title=\"gallego\" lang=\"gl\" hreflang=\"gl\" class=\"interlanguage-link-target\"><span>Galego</span></a></li><li class=\"interlanguage-link interwiki-gn mw-list-item\"><a href=\"https://gn.wikipedia.org/wiki/\" title=\"guaraní\" lang=\"gn\" hreflang=\"gn\" class=\"interlanguage-link-target\"><span>Avañe'ẽ</span></a></li><li class=\"interlanguage-link interwiki-he mw-list-item\"><a href=\"https://he.wikipedia.org/wiki/\" title=\"hebreo\" lang=\"he\" hreflang=\"he\" class=\"interlanguage-link-target\"><span>עברית</span></a></li><li class=\"interlanguage-link interwiki-hr mw-list-item\"><a href=\"https://hr.wikipedia.org/wiki/\" title=\"croata\" lang=\"hr\" hreflang=\"hr\" class=\"interlanguage-link-target\"><span>Hrvatski</span></a></li><li class=\"interlanguage-link interwiki-hu mw-list-item\"><a href=\"https://hu.wikipedia.org/wiki/\" title=\"húngaro\" lang=\"hu\" hreflang=\"hu\" class=\"interlanguage-link-target\"><span>Magyar</span></a></li><li class=\"interlanguage-link interwiki-id mw-list-item\"><a href=\"https://id.wikipedia.org/wiki/\" title=\"indonesio\" lang=\"id\" hreflang=\"id\" class=\"interlanguage-link-target\"><span>Bahasa Indonesia</span></a></li><li class=\"interlanguage-link interwiki-it mw-list-item\"><a href=\"https://it.wikipedia.org/wiki/\" title=\"italiano\" lang=\"it\" hreflang=\"it\" class=\"interlanguage-link-target\"><span>Italiano</span></a></li><li class=\"interlanguage-link interwiki-ja mw-list-item\"><a href=\"https://ja.wikipedia.org/wiki/\" title=\"japonés\" lang=\"ja\" hreflang=\"ja\" class=\"interlanguage-link-target\"><span>日本語</span></a></li><li class=\"interlanguage-link interwiki-ko mw-list-item\"><a href=\"https://ko.wikipedia.org/wiki/\" title=\"coreano\" lang=\"ko\" hreflang=\"ko\" class=\"interlanguage-link-target\"><span>한국어</span></a></li><li class=\"interlanguage-link interwiki-la mw-list-item\"><a href=\"https://la.wikipedia.org/wiki/\" title=\"latín\" lang=\"la\" hreflang=\"la\" class=\"interlanguage-link-target\"><span>Latina</span></a></li><li class=\"interlanguage-link interwiki-lad mw-list-item\"><a href=\"https://lad.wikipedia.org/wiki/\" title=\"ladino\" lang=\"lad\" hreflang=\"lad\" class=\"interlanguage-link-target\"><span>Ladino</span></a></li><li class=\"interlanguage-link interwiki-lmo mw-list-item\"><a href=\"https://lmo.wikipedia.org/wiki/\" title=\"lombardo\" lang=\"lmo\" hreflang=\"lmo\" class=\"interlanguage-link-target\"><span>Lombard</span></a></li><li class=\"interlanguage-link interwiki-lt mw-list-item\"><a href=\"https://lt.wikipedia.org/wiki/\" title=\"lituano\" lang=\"lt\" hreflang=\"lt\" class=\"interlanguage-link-target\"><span>Lietuvių</span></a></li><li class=\"interlanguage-link interwiki-ms mw-list-item\"><a href=\"https://ms.wikipedia.org/wiki/\" title=\"malayo\" lang=\"ms\" hreflang=\"ms\" class=\"interlanguage-link-target\"><span>Bahasa Melayu</span></a></li><li class=\"interlanguage-link interwiki-mwl mw-list-item\"><a href=\"https://mwl.wikipedia.org/wiki/\" title=\"mirandés\" lang=\"mwl\" hreflang=\"mwl\" class=\"interlanguage-link-target\"><span>Mirandés</span></a></li><li class=\"interlanguage-link interwiki-nah mw-list-item\"><a href=\"https://nah.wikipedia.org/wiki/\" title=\"Nāhuatl\" lang=\"nah\" hreflang=\"nah\" class=\"interlanguage-link-target\"><span>Nāhuatl</span></a></li><li class=\"interlanguage-link interwiki-new mw-list-item\"><a href=\"https://new.wikipedia.org/wiki/\" title=\"nevarí\" lang=\"new\" hreflang=\"new\" class=\"interlanguage-link-target\"><span>नेपाल भाषा</span></a></li><li class=\"interlanguage-link interwiki-nl mw-list-item\"><a href=\"https://nl.wikipedia.org/wiki/\" title=\"neerlandés\" lang=\"nl\" hreflang=\"nl\" class=\"interlanguage-link-target\"><span>Nederlands</span></a></li><li class=\"interlanguage-link interwiki-nn mw-list-item\"><a href=\"https://nn.wikipedia.org/wiki/\" title=\"noruego nynorsk\" lang=\"nn\" hreflang=\"nn\" class=\"interlanguage-link-target\"><span>Norsk nynorsk</span></a></li><li class=\"interlanguage-link interwiki-no mw-list-item\"><a href=\"https://no.wikipedia.org/wiki/\" title=\"noruego bokmal\" lang=\"nb\" hreflang=\"nb\" class=\"interlanguage-link-target\"><span>Norsk bokmål</span></a></li><li class=\"interlanguage-link interwiki-oc mw-list-item\"><a href=\"https://oc.wikipedia.org/wiki/\" title=\"occitano\" lang=\"oc\" hreflang=\"oc\" class=\"interlanguage-link-target\"><span>Occitan</span></a></li><li class=\"interlanguage-link interwiki-pap mw-list-item\"><a href=\"https://pap.wikipedia.org/wiki/\" title=\"papiamento\" lang=\"pap\" hreflang=\"pap\" class=\"interlanguage-link-target\"><span>Papiamentu</span></a></li><li class=\"interlanguage-link interwiki-pl mw-list-item\"><a href=\"https://pl.wikipedia.org/wiki/\" title=\"polaco\" lang=\"pl\" hreflang=\"pl\" class=\"interlanguage-link-target\"><span>Polski</span></a></li><li class=\"interlanguage-link interwiki-pt mw-list-item\"><a href=\"https://pt.wikipedia.org/wiki/\" title=\"portugués\" lang=\"pt\" hreflang=\"pt\" class=\"interlanguage-link-target\"><span>Português</span></a></li><li class=\"interlanguage-link interwiki-qu mw-list-item\"><a href=\"https://qu.wikipedia.org/wiki/\" title=\"quechua\" lang=\"qu\" hreflang=\"qu\" class=\"interlanguage-link-target\"><span>Runa Simi</span></a></li><li class=\"interlanguage-link interwiki-ro mw-list-item\"><a href=\"https://ro.wikipedia.org/wiki/\" title=\"rumano\" lang=\"ro\" hreflang=\"ro\" class=\"interlanguage-link-target\"><span>Română</span></a></li><li class=\"interlanguage-link interwiki-ru mw-list-item\"><a href=\"https://ru.wikipedia.org/wiki/\" title=\"ruso\" lang=\"ru\" hreflang=\"ru\" class=\"interlanguage-link-target\"><span>Русский</span></a></li><li class=\"interlanguage-link interwiki-simple mw-list-item\"><a href=\"https://simple.wikipedia.org/wiki/\" title=\"Simple English\" lang=\"en-simple\" hreflang=\"en-simple\" class=\"interlanguage-link-target\"><span>Simple English</span></a></li><li class=\"interlanguage-link interwiki-sk mw-list-item\"><a href=\"https://sk.wikipedia.org/wiki/\" title=\"eslovaco\" lang=\"sk\" hreflang=\"sk\" class=\"interlanguage-link-target\"><span>Slovenčina</span></a></li><li class=\"interlanguage-link interwiki-sl mw-list-item\"><a href=\"https://sl.wikipedia.org/wiki/\" title=\"esloveno\" lang=\"sl\" hreflang=\"sl\" class=\"interlanguage-link-target\"><span>Slovenščina</span></a></li><li class=\"interlanguage-link interwiki-sr mw-list-item\"><a href=\"https://sr.wikipedia.org/wiki/\" title=\"serbio\" lang=\"sr\" hreflang=\"sr\" class=\"interlanguage-link-target\"><span>Српски / srpski</span></a></li><li class=\"interlanguage-link interwiki-sv mw-list-item\"><a href=\"https://sv.wikipedia.org/wiki/\" title=\"sueco\" lang=\"sv\" hreflang=\"sv\" class=\"interlanguage-link-target\"><span>Svenska</span></a></li><li class=\"interlanguage-link interwiki-te mw-list-item\"><a href=\"https://te.wikipedia.org/wiki/\" title=\"telugu\" lang=\"te\" hreflang=\"te\" class=\"interlanguage-link-target\"><span>తెలుగు</span></a></li><li class=\"interlanguage-link interwiki-th mw-list-item\"><a href=\"https://th.wikipedia.org/wiki/\" title=\"tailandés\" lang=\"th\" hreflang=\"th\" class=\"interlanguage-link-target\"><span>ไทย</span></a></li><li class=\"interlanguage-link interwiki-tl mw-list-item\"><a href=\"https://tl.wikipedia.org/wiki/\" title=\"tagalo\" lang=\"tl\" hreflang=\"tl\" class=\"interlanguage-link-target\"><span>Tagalog</span></a></li><li class=\"interlanguage-link interwiki-tr mw-list-item\"><a href=\"https://tr.wikipedia.org/wiki/\" title=\"turco\" lang=\"tr\" hreflang=\"tr\" class=\"interlanguage-link-target\"><span>Türkçe</span></a></li><li class=\"interlanguage-link interwiki-uk mw-list-item\"><a href=\"https://uk.wikipedia.org/wiki/\" title=\"ucraniano\" lang=\"uk\" hreflang=\"uk\" class=\"interlanguage-link-target\"><span>Українська</span></a></li><li class=\"interlanguage-link interwiki-vi mw-list-item\"><a href=\"https://vi.wikipedia.org/wiki/\" title=\"vietnamita\" lang=\"vi\" hreflang=\"vi\" class=\"interlanguage-link-target\"><span>Tiếng Việt</span></a></li><li class=\"interlanguage-link interwiki-zh mw-list-item\"><a href=\"https://zh.wikipedia.org/wiki/\" title=\"chino\" lang=\"zh\" hreflang=\"zh\" class=\"interlanguage-link-target\"><span>中文</span></a></li>\n",
            "\t\t\t</ul>\n",
            "\t\t\t\n",
            "\t\t</div>\n",
            "\n",
            "\t</div>\n",
            "</div>\n",
            "\n",
            "\t\t\t\t</div>\n",
            "\t\t\t</main>\n",
            "\t\t\t\n",
            "\t\t</div>\n",
            "\t\t<div class=\"mw-footer-container\">\n",
            "\t\t\t\n",
            "<footer id=\"footer\" class=\"mw-footer\" role=\"contentinfo\" >\n",
            "\t<ul id=\"footer-info\">\n",
            "\t<li id=\"footer-info-lastmod\"> Esta página se editó por última vez el 8 feb 2023 a las 00:22.</li>\n",
            "\t<li id=\"footer-info-copyright\">El texto está disponible bajo la <a rel=\"license\" href=\"https://es.wikipedia.org/wiki/Wikipedia:Texto_de_la_Licencia_Creative_Commons_Atribuci%C3%B3n-CompartirIgual_4.0_Internacional\">Licencia Creative Commons Atribución-CompartirIgual 4.0</a><a rel=\"license\" href=\"https://creativecommons.org/licenses/by-sa/4.0/deed.es\" style=\"display:none;\"></a>; pueden aplicarse cláusulas adicionales. Al usar este sitio aceptas nuestros <a href=\"https://foundation.wikimedia.org/wiki/Policy:Terms_of_Use/es\">términos de uso</a> y nuestra <a href=\"https://foundation.wikimedia.org/wiki/Policy:Privacy_policy/es\">política de privacidad</a>.<br/>Wikipedia&reg; es una marca registrada de la <a href=\"https://wikimediafoundation.org/es/\">Fundación Wikimedia</a>, una organización sin ánimo de lucro.</li>\n",
            "</ul>\n",
            "\n",
            "\t<ul id=\"footer-places\">\n",
            "\t<li id=\"footer-places-privacy\"><a href=\"https://foundation.wikimedia.org/wiki/Special:MyLanguage/Policy:Privacy_policy/es\">Política de privacidad</a></li>\n",
            "\t<li id=\"footer-places-about\"><a href=\"/wiki/Wikipedia:Acerca_de\">Acerca de Wikipedia</a></li>\n",
            "\t<li id=\"footer-places-disclaimers\"><a href=\"/wiki/Wikipedia:Limitaci%C3%B3n_general_de_responsabilidad\">Limitación de responsabilidad</a></li>\n",
            "\t<li id=\"footer-places-wm-codeofconduct\"><a href=\"https://foundation.wikimedia.org/wiki/Special:MyLanguage/Policy:Universal_Code_of_Conduct\">Código de conducta</a></li>\n",
            "\t<li id=\"footer-places-developers\"><a href=\"https://developer.wikimedia.org\">Desarrolladores</a></li>\n",
            "\t<li id=\"footer-places-statslink\"><a href=\"https://stats.wikimedia.org/#/es.wikipedia.org\">Estadísticas</a></li>\n",
            "\t<li id=\"footer-places-cookiestatement\"><a href=\"https://foundation.wikimedia.org/wiki/Special:MyLanguage/Policy:Cookie_statement/es\">Declaración de cookies</a></li>\n",
            "\t<li id=\"footer-places-mobileview\"><a href=\"//es.m.wikipedia.org/w/index.php?title=Wikipedia:Portada&amp;mobileaction=toggle_view_mobile\" class=\"noprint stopMobileRedirectToggle\">Versión para móviles</a></li>\n",
            "</ul>\n",
            "\n",
            "\t<ul id=\"footer-icons\" class=\"noprint\">\n",
            "\t<li id=\"footer-copyrightico\"><a href=\"https://wikimediafoundation.org/\"><img src=\"/static/images/footer/wikimedia-button.png\" srcset=\"/static/images/footer/wikimedia-button-1.5x.png 1.5x, /static/images/footer/wikimedia-button-2x.png 2x\" width=\"88\" height=\"31\" alt=\"Wikimedia Foundation\" loading=\"lazy\" /></a></li>\n",
            "\t<li id=\"footer-poweredbyico\"><a href=\"https://www.mediawiki.org/\"><img src=\"/static/images/footer/poweredby_mediawiki_88x31.png\" alt=\"Powered by MediaWiki\" srcset=\"/static/images/footer/poweredby_mediawiki_132x47.png 1.5x, /static/images/footer/poweredby_mediawiki_176x62.png 2x\" width=\"88\" height=\"31\" loading=\"lazy\"></a></li>\n",
            "</ul>\n",
            "\n",
            "</footer>\n",
            "\n",
            "\t\t</div>\n",
            "\t</div> \n",
            "</div> \n",
            "<div class=\"vector-settings\" id=\"p-dock-bottom\">\n",
            "\t<ul>\n",
            "\t\t<li>\n",
            "\t\t\n",
            "\t\t<button class=\"cdx-button cdx-button--icon-only vector-limited-width-toggle\" id=\"\"><span class=\"vector-icon mw-ui-icon-fullScreen mw-ui-icon-wikimedia-fullScreen\"></span>\n",
            "\n",
            "<span>Activar o desactivar el límite de anchura del contenido</span>\n",
            "</button>\n",
            "</li>\n",
            "\t</ul>\n",
            "</div>\n",
            "<script>(RLQ=window.RLQ||[]).push(function(){mw.log.warn(\"This page is using the deprecated ResourceLoader module \\\"mediawiki.ui.button\\\".\\n[1.41] Please use Codex. See migration guidelines: https://w.wiki/7TAh\");mw.config.set({\"wgHostname\":\"mw1368\",\"wgBackendResponseTime\":125,\"wgDiscussionToolsPageThreads\":[{\"headingLevel\":1,\"name\":\"h-\",\"type\":\"heading\",\"level\":0,\"id\":\"h-Bienvenidos_a_Wikipedia,\",\"replies\":[{\"headingLevel\":2,\"name\":\"h-\",\"type\":\"heading\",\"level\":0,\"id\":\"h-Tiburón-Bienvenidos_a_Wikipedia,\",\"replies\":[],\"uneditableSection\":true},{\"headingLevel\":2,\"name\":\"h-\",\"type\":\"heading\",\"level\":0,\"id\":\"h-Paparazzi-Bienvenidos_a_Wikipedia,\",\"replies\":[],\"uneditableSection\":true},{\"headingLevel\":2,\"name\":\"h-\",\"type\":\"heading\",\"level\":0,\"id\":\"h-Recurso_del_día-Bienvenidos_a_Wikipedia,\",\"replies\":[],\"uneditableSection\":true},{\"headingLevel\":2,\"name\":\"h-\",\"type\":\"heading\",\"level\":0,\"id\":\"h-Portales-Bienvenidos_a_Wikipedia,\",\"replies\":[],\"uneditableSection\":true},{\"headingLevel\":2,\"name\":\"h-\",\"type\":\"heading\",\"level\":0,\"id\":\"h-Actualidad-Bienvenidos_a_Wikipedia,\",\"replies\":[],\"uneditableSection\":true},{\"headingLevel\":2,\"name\":\"h-\",\"type\":\"heading\",\"level\":0,\"id\":\"h-24_de_noviembre-Bienvenidos_a_Wikipedia,\",\"replies\":[],\"uneditableSection\":true},{\"headingLevel\":2,\"name\":\"h-\",\"type\":\"heading\",\"level\":0,\"id\":\"h-Otros_proyectos_de_la_Fundación_Wikimedia-Bienvenidos_a_Wikipedia,\",\"replies\":[],\"uneditableSection\":true}]}],\"wgPageParseReport\":{\"discussiontools\":{\"limitreport-timeusage\":\"0.023\"},\"limitreport\":{\"cputime\":\"0.219\",\"walltime\":\"0.292\",\"ppvisitednodes\":{\"value\":4802,\"limit\":1000000},\"postexpandincludesize\":{\"value\":67540,\"limit\":2097152},\"templateargumentsize\":{\"value\":26962,\"limit\":2097152},\"expansiondepth\":{\"value\":21,\"limit\":100},\"expensivefunctioncount\":{\"value\":0,\"limit\":500},\"unstrip-depth\":{\"value\":0,\"limit\":20},\"unstrip-size\":{\"value\":21451,\"limit\":5000000},\"entityaccesscount\":{\"value\":0,\"limit\":400},\"timingprofile\":[\"100.00%  166.708      1 -total\",\" 86.23%  143.749      7 Plantilla:Portada:Sección\",\" 23.17%   38.620      4 Plantilla:Portada:Destacado\",\" 15.55%   25.928      5 Plantilla:Portada:Destacado/B\",\" 13.99%   23.329      5 Plantilla:Portada:Resumen\",\" 13.86%   23.107     15 Plantilla:Título_sin_coletilla\",\" 12.42%   20.712      1 Plantilla:Portada:Encabezado/OOUI\",\" 11.18%   18.639      5 Plantilla:ABDD\",\" 11.15%   18.586      1 Plantilla:Portada:Portales_II\",\" 10.23%   17.050      6 Plantilla:RDD\"]},\"scribunto\":{\"limitreport-timeusage\":{\"value\":\"0.009\",\"limit\":\"10.000\"},\"limitreport-memusage\":{\"value\":1252435,\"limit\":52428800}},\"cachereport\":{\"origin\":\"mw1368\",\"timestamp\":\"20231124151720\",\"ttl\":3600,\"transientcontent\":true}}});});</script>\n",
            "</body>\n",
            "</html> \n",
            "\n"
          ]
        }
      ]
    },
    {
      "cell_type": "markdown",
      "source": [
        "# **Uso basico de APIs con Python**"
      ],
      "metadata": {
        "id": "xWJhqCkHQKDO"
      }
    },
    {
      "cell_type": "markdown",
      "source": [
        "### Uso de API de manera directa"
      ],
      "metadata": {
        "id": "0k_mJa1nQPbO"
      }
    },
    {
      "cell_type": "markdown",
      "source": [
        "[Sunset and sunrise times API](https://sunrise-sunset.org/api)\n",
        "\n",
        "**Sirve para obtener la hora del amanecer y el ocaso de un determinado día**\n",
        "\n",
        "*Parámetros:*\n",
        "\n",
        "\n",
        "*  **lat** (float): Latitud en grados decimales(Obligatorio)\n",
        "*  **lng** (float): Longitud en grados decimales (obligatorio)\n",
        "*  **date** (string): Fecha en formato AAAA-MM-DD (opcional, por defecto usa el día actual)\n",
        "\n",
        "*Estructura de la query:*\n",
        "\n",
        "`https://api.sunrise-sunset.org/json?`\n",
        "\n",
        "`lat=36.7201600`\n",
        "\n",
        "`&`\n",
        "\n",
        "`lng=-4.4203400`\n",
        "\n",
        "`&`\n",
        "\n",
        "`date=2023-11-22`"
      ],
      "metadata": {
        "id": "o5sQHD9aQRWW"
      }
    },
    {
      "cell_type": "code",
      "source": [
        "# Definimos los parametros de nuestra query\n",
        "latitud = -34.6\n",
        "longitud = -58.4\n",
        "fecha = '2023-11-22' # AAAA-MM-DD"
      ],
      "metadata": {
        "id": "-g5YWn0wQHTL"
      },
      "execution_count": 4,
      "outputs": []
    },
    {
      "cell_type": "code",
      "source": [
        "# Hacemos el pedido y guardamos la respuesta en una nueva variable\n",
        "response_sunset = requests.get(f'https://api.sunrise-sunset.org/json?lat={latitud}%lng={longitud}%date={fecha}')"
      ],
      "metadata": {
        "id": "3Ipt_mABQc99"
      },
      "execution_count": 5,
      "outputs": []
    },
    {
      "cell_type": "code",
      "source": [
        "print(f'Tipo de Objeto: {type(response_sunset)} \\n')\n",
        "print(f'Código de estado: {response_sunset.status_code} \\n') #Exitoso"
      ],
      "metadata": {
        "colab": {
          "base_uri": "https://localhost:8080/"
        },
        "id": "SSOhEgP4QtqU",
        "outputId": "70cb4a69-ccea-418c-a3d0-e557d0750dc3"
      },
      "execution_count": 6,
      "outputs": [
        {
          "output_type": "stream",
          "name": "stdout",
          "text": [
            "Tipo de Objeto: <class 'requests.models.Response'> \n",
            "\n",
            "Código de estado: 200 \n",
            "\n"
          ]
        }
      ]
    },
    {
      "cell_type": "code",
      "source": [
        "# Para des-serializar el objeto (que era tipo 'HTTPResponse') y cargarlo como json\n",
        "datos_sunset = response_sunset.json()\n",
        "print(datos_sunset)"
      ],
      "metadata": {
        "colab": {
          "base_uri": "https://localhost:8080/"
        },
        "id": "bIYLmLHvQ2TH",
        "outputId": "36ed93c2-dc4a-4dcb-9a9b-e878c25f438d"
      },
      "execution_count": 7,
      "outputs": [
        {
          "output_type": "stream",
          "name": "stdout",
          "text": [
            "{'results': {'sunrise': '4:40:42 AM', 'sunset': '6:52:29 PM', 'solar_noon': '11:46:36 AM', 'day_length': '14:11:47', 'civil_twilight_begin': '4:13:44 AM', 'civil_twilight_end': '7:19:27 PM', 'nautical_twilight_begin': '3:39:01 AM', 'nautical_twilight_end': '7:54:10 PM', 'astronomical_twilight_begin': '3:01:33 AM', 'astronomical_twilight_end': '8:31:38 PM'}, 'status': 'OK'}\n"
          ]
        }
      ]
    },
    {
      "cell_type": "code",
      "source": [
        "print(type(datos_sunset))\n",
        "datos_sunset.keys()"
      ],
      "metadata": {
        "colab": {
          "base_uri": "https://localhost:8080/"
        },
        "id": "JBGjIR0XRHuV",
        "outputId": "a83ca679-16be-4914-e641-28795bd55a86"
      },
      "execution_count": 8,
      "outputs": [
        {
          "output_type": "stream",
          "name": "stdout",
          "text": [
            "<class 'dict'>\n"
          ]
        },
        {
          "output_type": "execute_result",
          "data": {
            "text/plain": [
              "dict_keys(['results', 'status'])"
            ]
          },
          "metadata": {},
          "execution_count": 8
        }
      ]
    },
    {
      "cell_type": "code",
      "source": [
        "# Evaluamos el status del pedido\n",
        "sunset_status = datos_sunset['status']\n",
        "print(f'Status: {sunset_status}')"
      ],
      "metadata": {
        "colab": {
          "base_uri": "https://localhost:8080/"
        },
        "id": "Sxs3kTI-RPjU",
        "outputId": "5b7bd3d4-6c89-4e2f-fe2f-7786da233489"
      },
      "execution_count": 9,
      "outputs": [
        {
          "output_type": "stream",
          "name": "stdout",
          "text": [
            "Status: OK\n"
          ]
        }
      ]
    },
    {
      "cell_type": "code",
      "source": [
        "datos_sunset['results']['sunset']"
      ],
      "metadata": {
        "colab": {
          "base_uri": "https://localhost:8080/",
          "height": 36
        },
        "id": "Rwcujq2cRLFG",
        "outputId": "b324387c-5cb1-4f42-c793-976a8b2570dd"
      },
      "execution_count": 10,
      "outputs": [
        {
          "output_type": "execute_result",
          "data": {
            "text/plain": [
              "'6:52:29 PM'"
            ],
            "application/vnd.google.colaboratory.intrinsic+json": {
              "type": "string"
            }
          },
          "metadata": {},
          "execution_count": 10
        }
      ]
    },
    {
      "cell_type": "code",
      "source": [
        "# Podemos ver su contenido ya que  son diccionarios anidados:\n",
        "sunset = datos_sunset['results']['sunset']\n",
        "print(f'El {fecha} el sol se ocultó a las {sunset} (UTC)')"
      ],
      "metadata": {
        "colab": {
          "base_uri": "https://localhost:8080/"
        },
        "id": "ToRpavQ_RW9G",
        "outputId": "de4378c7-88db-4443-dd12-a2ca281578a6"
      },
      "execution_count": 11,
      "outputs": [
        {
          "output_type": "stream",
          "name": "stdout",
          "text": [
            "El 2023-11-22 el sol se ocultó a las 6:52:29 PM (UTC)\n"
          ]
        }
      ]
    },
    {
      "cell_type": "code",
      "source": [
        "# tambien podriamos iterar sobre sus claves\n",
        "print(\"Iterando data_sunset['results']:\")\n",
        "for elemento in datos_sunset['results']:\n",
        "  print(elemento)"
      ],
      "metadata": {
        "colab": {
          "base_uri": "https://localhost:8080/"
        },
        "id": "3x7b7wBxRedT",
        "outputId": "af240300-e1c4-4c96-ec82-d1d6fbd5e4b1"
      },
      "execution_count": 12,
      "outputs": [
        {
          "output_type": "stream",
          "name": "stdout",
          "text": [
            "Iterando data_sunset['results']:\n",
            "sunrise\n",
            "sunset\n",
            "solar_noon\n",
            "day_length\n",
            "civil_twilight_begin\n",
            "civil_twilight_end\n",
            "nautical_twilight_begin\n",
            "nautical_twilight_end\n",
            "astronomical_twilight_begin\n",
            "astronomical_twilight_end\n"
          ]
        }
      ]
    },
    {
      "cell_type": "markdown",
      "source": [
        "### **Uso de API por medio de una librería: Wikipedia**\n",
        "\n",
        "Wikipedia-API es un *wrapper* de Python fácil de usar para la API de Wikipedia. Admite la extracción de textos, secciones, enlaces, categorías, traducciones, etc.\n",
        "\n",
        "Repositorio: https://github.com/martin-majlis/Wikipedia-API\n",
        "\n",
        "Documentación: https://wikipedia-api.readthedocs.io/en/latest/README.html\n",
        "\n",
        "\n",
        "\n",
        "\n"
      ],
      "metadata": {
        "id": "WGJOPc1qTAIO"
      }
    },
    {
      "cell_type": "code",
      "source": [
        "# Instalamos el paquete porque no viene con Colab\n",
        "!pip3 install --force-reinstall -v  \"wikipedia-api==0.5.8\""
      ],
      "metadata": {
        "id": "yDZdav-lTFCs",
        "colab": {
          "base_uri": "https://localhost:8080/",
          "height": 1000
        },
        "outputId": "34606a3a-4659-4834-fe17-cce880aa8053"
      },
      "execution_count": 13,
      "outputs": [
        {
          "output_type": "stream",
          "name": "stdout",
          "text": [
            "Using pip 23.1.2 from /usr/local/lib/python3.10/dist-packages/pip (python 3.10)\n",
            "Collecting wikipedia-api==0.5.8\n",
            "  Downloading Wikipedia_API-0.5.8-py3-none-any.whl (13 kB)\n",
            "Collecting requests (from wikipedia-api==0.5.8)\n",
            "  Downloading requests-2.31.0-py3-none-any.whl (62 kB)\n",
            "\u001b[2K     \u001b[90m━━━━━━━━━━━━━━━━━━━━━━━━━━━━━━━━━━━━━━━━\u001b[0m \u001b[32m62.6/62.6 kB\u001b[0m \u001b[31m2.0 MB/s\u001b[0m eta \u001b[36m0:00:00\u001b[0m\n",
            "\u001b[?25hCollecting charset-normalizer<4,>=2 (from requests->wikipedia-api==0.5.8)\n",
            "  Downloading charset_normalizer-3.3.2-cp310-cp310-manylinux_2_17_x86_64.manylinux2014_x86_64.whl (142 kB)\n",
            "\u001b[2K     \u001b[90m━━━━━━━━━━━━━━━━━━━━━━━━━━━━━━━━━━━━━━━━\u001b[0m \u001b[32m142.1/142.1 kB\u001b[0m \u001b[31m4.5 MB/s\u001b[0m eta \u001b[36m0:00:00\u001b[0m\n",
            "\u001b[?25hCollecting idna<4,>=2.5 (from requests->wikipedia-api==0.5.8)\n",
            "  Downloading idna-3.5-py3-none-any.whl (61 kB)\n",
            "\u001b[2K     \u001b[90m━━━━━━━━━━━━━━━━━━━━━━━━━━━━━━━━━━━━━━━━\u001b[0m \u001b[32m61.6/61.6 kB\u001b[0m \u001b[31m6.6 MB/s\u001b[0m eta \u001b[36m0:00:00\u001b[0m\n",
            "\u001b[?25hCollecting urllib3<3,>=1.21.1 (from requests->wikipedia-api==0.5.8)\n",
            "  Downloading urllib3-2.1.0-py3-none-any.whl (104 kB)\n",
            "\u001b[2K     \u001b[90m━━━━━━━━━━━━━━━━━━━━━━━━━━━━━━━━━━━━━━━━\u001b[0m \u001b[32m104.6/104.6 kB\u001b[0m \u001b[31m5.1 MB/s\u001b[0m eta \u001b[36m0:00:00\u001b[0m\n",
            "\u001b[?25hCollecting certifi>=2017.4.17 (from requests->wikipedia-api==0.5.8)\n",
            "  Downloading certifi-2023.11.17-py3-none-any.whl (162 kB)\n",
            "\u001b[2K     \u001b[90m━━━━━━━━━━━━━━━━━━━━━━━━━━━━━━━━━━━━━━━━\u001b[0m \u001b[32m162.5/162.5 kB\u001b[0m \u001b[31m5.9 MB/s\u001b[0m eta \u001b[36m0:00:00\u001b[0m\n",
            "\u001b[?25hInstalling collected packages: urllib3, idna, charset-normalizer, certifi, requests, wikipedia-api\n",
            "  Attempting uninstall: urllib3\n",
            "    Found existing installation: urllib3 2.0.7\n",
            "    Uninstalling urllib3-2.0.7:\n",
            "      Removing file or directory /usr/local/lib/python3.10/dist-packages/urllib3-2.0.7.dist-info/\n",
            "      Removing file or directory /usr/local/lib/python3.10/dist-packages/urllib3/\n",
            "      Successfully uninstalled urllib3-2.0.7\n",
            "  Attempting uninstall: idna\n",
            "    Found existing installation: idna 3.4\n",
            "    Uninstalling idna-3.4:\n",
            "      Removing file or directory /usr/local/lib/python3.10/dist-packages/idna-3.4.dist-info/\n",
            "      Removing file or directory /usr/local/lib/python3.10/dist-packages/idna/\n",
            "      Successfully uninstalled idna-3.4\n",
            "  Attempting uninstall: charset-normalizer\n",
            "    Found existing installation: charset-normalizer 3.3.2\n",
            "    Uninstalling charset-normalizer-3.3.2:\n",
            "      Removing file or directory /usr/local/bin/normalizer\n",
            "      Removing file or directory /usr/local/lib/python3.10/dist-packages/charset_normalizer-3.3.2.dist-info/\n",
            "      Removing file or directory /usr/local/lib/python3.10/dist-packages/charset_normalizer/\n",
            "      Successfully uninstalled charset-normalizer-3.3.2\n",
            "  changing mode of /usr/local/bin/normalizer to 755\n",
            "  Attempting uninstall: certifi\n",
            "    Found existing installation: certifi 2023.7.22\n",
            "    Uninstalling certifi-2023.7.22:\n",
            "      Removing file or directory /usr/local/lib/python3.10/dist-packages/certifi-2023.7.22.dist-info/\n",
            "      Removing file or directory /usr/local/lib/python3.10/dist-packages/certifi/\n",
            "      Successfully uninstalled certifi-2023.7.22\n",
            "  Attempting uninstall: requests\n",
            "    Found existing installation: requests 2.31.0\n",
            "    Uninstalling requests-2.31.0:\n",
            "      Removing file or directory /usr/local/lib/python3.10/dist-packages/requests-2.31.0.dist-info/\n",
            "      Removing file or directory /usr/local/lib/python3.10/dist-packages/requests/\n",
            "      Successfully uninstalled requests-2.31.0\n",
            "\u001b[31mERROR: pip's dependency resolver does not currently take into account all the packages that are installed. This behaviour is the source of the following dependency conflicts.\n",
            "lida 0.0.10 requires fastapi, which is not installed.\n",
            "lida 0.0.10 requires kaleido, which is not installed.\n",
            "lida 0.0.10 requires python-multipart, which is not installed.\n",
            "lida 0.0.10 requires uvicorn, which is not installed.\u001b[0m\u001b[31m\n",
            "\u001b[0mSuccessfully installed certifi-2023.11.17 charset-normalizer-3.3.2 idna-3.5 requests-2.31.0 urllib3-2.1.0 wikipedia-api-0.5.8\n"
          ]
        },
        {
          "output_type": "display_data",
          "data": {
            "application/vnd.colab-display-data+json": {
              "pip_warning": {
                "packages": [
                  "certifi",
                  "charset_normalizer",
                  "requests"
                ]
              }
            }
          },
          "metadata": {}
        }
      ]
    },
    {
      "cell_type": "code",
      "source": [
        "# Ahora si podemos importarlo\n",
        "import wikipediaapi\n",
        "\n",
        "# Chequear versión\n",
        "print(wikipediaapi.__version__)"
      ],
      "metadata": {
        "colab": {
          "base_uri": "https://localhost:8080/"
        },
        "id": "F7tIDP8kTRpE",
        "outputId": "a8e64bc8-cbe8-4563-9406-bd3b3cfb024b"
      },
      "execution_count": 14,
      "outputs": [
        {
          "output_type": "stream",
          "name": "stdout",
          "text": [
            "(0, 5, 8)\n"
          ]
        }
      ]
    },
    {
      "cell_type": "code",
      "source": [
        "# Instanciamos la clase wikipediaapi y utilizamos el metodo Wikipedia con el parametro de idioma\n",
        "IDIOMA = 'es'\n",
        "wiki_wiki = wikipediaapi.Wikipedia(IDIOMA)\n",
        "\n",
        "# Usamos el metodo page para y hacemos un pedido con una palabra clave\n",
        "PALABRA_CLAVE = 'programación'\n",
        "wikipedia_programacion = wiki_wiki.page(PALABRA_CLAVE)\n",
        "\n",
        "print(f'wikipedia_programacion es un objeto de tipo: \\n \\n{type(wikipedia_programacion)}')"
      ],
      "metadata": {
        "colab": {
          "base_uri": "https://localhost:8080/"
        },
        "id": "n1c9H7NPTVlD",
        "outputId": "6e715e61-8e2b-4cdc-c4e1-f9a36ab1b75c"
      },
      "execution_count": 15,
      "outputs": [
        {
          "output_type": "stream",
          "name": "stdout",
          "text": [
            "wikipedia_programacion es un objeto de tipo: \n",
            " \n",
            "<class 'wikipediaapi.WikipediaPage'>\n"
          ]
        }
      ]
    },
    {
      "cell_type": "code",
      "source": [
        "# Resumen\n",
        "print(wikipedia_programacion.title)\n",
        "print(' ')\n",
        "print(wikipedia_programacion.summary)\n",
        "print(' ')\n",
        "print(wikipedia_programacion.text)\n",
        "print(wikipedia_programacion.sections)"
      ],
      "metadata": {
        "colab": {
          "base_uri": "https://localhost:8080/"
        },
        "id": "k-6-RhyGTaLU",
        "outputId": "44925b60-2f9b-4282-c029-2bed783c4cfe"
      },
      "execution_count": 16,
      "outputs": [
        {
          "output_type": "stream",
          "name": "stdout",
          "text": [
            "programación\n",
            " \n",
            "La programación es el proceso de crear un conjunto de instrucciones que le dicen a una computadora como realizar algún tipo de tarea. Pero no solo la acción de escribir un código para que la computadora o el software lo ejecute. Incluye, además, todas las tareas necesarias para que el código funcione correctamente y cumpla el objetivo para el cual se escribió.[1]​\n",
            "En la actualidad, la noción de programación se encuentra muy asociada a la creación de aplicaciones de informática y videojuegos. En este sentido, es el proceso por el cual una persona desarrolla un programa, valiéndose de una herramienta que le permita escribir el código (el cual puede estar en uno o varios lenguajes, como C++, Java y Python, entre muchos otros) y de otra que sea capaz de “traducirlo” a lo que se conoce como lenguaje de máquina, que puede \"comprender\" el microprocesador.[2]​\n",
            " \n",
            "La programación es el proceso de crear un conjunto de instrucciones que le dicen a una computadora como realizar algún tipo de tarea. Pero no solo la acción de escribir un código para que la computadora o el software lo ejecute. Incluye, además, todas las tareas necesarias para que el código funcione correctamente y cumpla el objetivo para el cual se escribió.[1]​\n",
            "En la actualidad, la noción de programación se encuentra muy asociada a la creación de aplicaciones de informática y videojuegos. En este sentido, es el proceso por el cual una persona desarrolla un programa, valiéndose de una herramienta que le permita escribir el código (el cual puede estar en uno o varios lenguajes, como C++, Java y Python, entre muchos otros) y de otra que sea capaz de “traducirlo” a lo que se conoce como lenguaje de máquina, que puede \"comprender\" el microprocesador.[2]​\n",
            "\n",
            "Funcionamiento de un programa\n",
            "Para crear un programa y que la computadora lo interprete y ejecute, las instrucciones deben escribirse en un lenguaje de programación.\n",
            "El lenguaje entendido por una computadora se conoce como código máquina. Consiste en secuencias de instrucciones básicas que el procesador reconoce, codificadas como cadenas de números 1 y 0 (sistema binario). En los primeros tiempos de la computación se programaba directamente en código máquina. Escribir programas así resultaba demasiado complicado, también era difícil entenderlos y mantenerlos una vez escritos. Con el tiempo, se fueron desarrollando herramientas para facilitar el trabajo.\n",
            "Los primeros científicos que trabajaron en el área decidieron reemplazar las secuencias de unos y ceros por mnemónicos, que son abreviaturas en inglés de la función que cumple una instrucción de procesador. Por ejemplo, para sumar se podría usar la letra A de la palabra inglesa add (añadir). Crearon así una familia de lenguajes de mayor nivel, que se conocen como lenguaje ensamblador o simplemente ensamblador (en inglés, assembly). Con el tiempo los ensambladores incorporaron facilidades adicionales, pero siempre manteniendo una correspondencia directa con las instrucciones de procesador. A nivel conceptual, entonces, programar en ensamblador es muy similar a hacerlo en lenguaje máquina, solo que de una forma más amigable.\n",
            "A medida que la complejidad de las tareas que realizaban las computadoras aumentaba, el lenguaje ensamblador fue mostrando limitaciones. Para hacer un programa había que conocer en detalle el funcionamiento de la computadora donde se iba a ejecutar, qué instrucciones proveía y cómo emplearlas. A veces las instrucciones eran demasiado básicas, por ejemplo podía haber una para sumar dos números pero no para multiplicar, y entonces era necesario programar un algoritmo que realizara la multiplicación con base en instrucciones más básicas. Otras veces, la forma de emplear las instrucciones era engorrosa. Además, si se usaba otro modelo de computadora, en muchos casos había que reescribir el programa con otras instrucciones. El siguiente paso fue crear los lenguajes de alto nivel.\n",
            "Una vez que se termina de escribir un programa, es necesario de alguna forma traducirlo a lenguaje máquina, que es lo único que entiende el procesador. Esta tarea es automática, por medio de un programa adicional que toma el código escrito y lo procesa. Hay distintos enfoques para este procesamiento. El enfoque clásico se llama compilación: el programa toma el código en un lenguaje y genera código en el otro; al programa traductor se lo llama compilador. En general se habla de compilación y compiladores cuando el lenguaje de origen es de alto nivel; si la traducción es desde lenguaje ensamblador, se llama ensamblado y el programa se llama ensamblador (hay que distinguir el lenguaje ensamblador del programa ensamblador; en inglés es más claro, son assembly language y assembler respectivamente).[3]​\n",
            "Generalmente existe una fase posterior a la compilación denominada enlace o enlazado (linking en inglés). Los programas pueden escribirse en partes separadas y además pueden usar recursos provistos por bibliotecas. El enlazado, realizado por un programa llamado enlazador, combina todos los componentes y así genera un programa ejecutable completo.\n",
            "En algunos lenguajes de programación, puede usarse un enfoque diferente que no requiera compilación y enlace: un programa llamado intérprete va leyendo el código y realizando en el momento las acciones que haría el programa. Se evita generar código separado y la experiencia es que se está ejecutando el código en el lenguaje de alto nivel, a pesar de que el procesador no lo entienda de forma nativa.\n",
            "\n",
            "Léxico y programación\n",
            "La programación se rige por reglas y un conjunto más o menos reducido de órdenes, expresiones, instrucciones y comandos que tienden a asemejarse a una lengua natural acotada (en inglés); y que además tienen la particularidad de una reducida ambigüedad.\n",
            "En los lenguajes de programación se distinguen diversos elementos entre los que se incluyen el léxico propio del lenguaje y las reglas semánticas y sintácticas. Dentro del léxico, generalmente se utilizan símbolos y palabras con funciones específicas dentro del lenguaje. Estas palabras suelen tomarse del inglés y no se las puede utilizar de manera diferente: son las denominadas palabras reservadas. Otra particularidad de los lenguajes es el permitir a los programadores el uso de comentarios: frases o párrafos sin funcionalidad en el programa, que los compiladores o intérpretes descartan y solo están destinados a ser leídos por personas; así se pueden dejar explicaciones que ayuden a entender el código a quien lo lea.[4]​\n",
            "\n",
            "Programas y algoritmos\n",
            "Un algoritmo es una secuencia no ambigua, finita y ordenada de instrucciones que han de seguirse para resolver un determinado problema.[1]​ Un programa normalmente implementa y contiene uno o más algoritmos. Un algoritmo puede expresarse de distintas maneras: en forma gráfica, como un diagrama de flujo, en forma de código como en pseudocódigo o un lenguaje de programación, en forma explicativa.\n",
            "Los programas suelen subdividirse en partes menores, llamadas módulos, de modo que la complejidad algorítmica de cada una de las partes sea menor que la del programa completo, lo cual ayuda a simplificar el desarrollo del programa. Esta es una práctica muy utilizada y se conoce como \"refino progresivo\".\n",
            "Según Niklaus Wirth, un programa está formado por los algoritmos y estructuras de datos.\n",
            "La programación puede seguir muchos enfoques, o paradigmas, es decir, diversas maneras de formular la resolución de un problema dado. Algunos de los principales paradigmas de programación son:\n",
            "\n",
            "Programación declarativa\n",
            "Programación imperativa\n",
            "Programación estructurada\n",
            "Programación modular\n",
            "Programación orientada a objetos\n",
            "Programación orientada a eventos\n",
            "\n",
            "Compilación\n",
            "El programa escrito en un lenguaje de programación de alto nivel (fácilmente comprensible por el programador) es llamado programa fuente y no se puede ejecutar directamente en una computadora. La opción más común es compilar el programa obteniendo un módulo objeto, aunque también, si el lenguaje lo soporta, puede ejecutarse en forma directa pero solo a través de un intérprete. Algunos lenguajes, tal como BASIC, disponen de ambas formas de ejecución, lo cual facilita la tarea de depuración y prueba del programa.\n",
            "El código fuente del programa se debe someter a un proceso de traducción para convertirlo a lenguaje máquina o bien a un código intermedio, generando así un módulo denominado \"objeto\". A este proceso se le llama compilación.\n",
            "Habitualmente la creación de un programa ejecutable (un típico.exe para Microsoft Windows o DOS) conlleva dos pasos: el primer paso se llama compilación (propiamente dicho) y traduce el código fuente, escrito en un lenguaje de programación y almacenado en un archivo de texto, a código en bajo nivel (normalmente a código objeto, no directamente a lenguaje máquina). El segundo paso se llama enlazado en el cual se enlaza el código de bajo nivel generado de todos los ficheros y subprogramas que se han mandado a compilar y se añade el código de las funciones necesarias que residen en bibliotecas externas, para que el ejecutable pueda comunicarse directamente con el sistema operativo, traduciendo así finalmente el código objeto a código máquina, y generando un módulo ejecutable.\n",
            "Estos dos pasos se pueden hacer por separado, almacenando el resultado de la fase de compilación en archivos objetos (un típico.o para Unix,.obj para MS-Windows y DOS); para enlazarlos en fases posteriores, o crear directamente el ejecutable; con lo que la fase de compilación puede almacenarse de forma temporal. Un programa podría tener partes escritas en varios lenguajes, por ejemplo, Java, C, C++ y ensamblador, que se podrían compilar de forma independiente y luego combinarse para formar un único módulo ejecutable.\n",
            "\n",
            "Programación e ingeniería del software\n",
            "Existe una tendencia a identificar el proceso de creación de un programa informático con la programación, que es cierta cuando se trata de programas pequeños para uso personal, y que dista de la realidad cuando se trata de grandes proyectos.\n",
            "El proceso de creación de software, desde el punto de vista de la ingeniería, incluye mínimamente los siguientes pasos:\n",
            "\n",
            "Reconocer la necesidad de un programa para solucionar un problema o identificar la posibilidad de automatización de una tarea.\n",
            "Recolectar los requisitos del programa. Debe quedar claro qué es lo que debe hacer el programa y para qué se necesita.\n",
            "Realizar el análisis de los requisitos del programa. Debe quedar claro qué tareas debe realizar el programa. Las pruebas que comprueben la validez del programa se pueden especificar en esta fase.\n",
            "Diseñar la arquitectura del programa. Se debe descomponer el programa en partes de complejidad abordable.\n",
            "Implementar el programa. Consiste en realizar un diseño detallado, especificando completamente todo el funcionamiento del programa, tras lo cual la codificación (programación propiamente dicha) debería resultar inmediata.\n",
            "Probar el programa. Comprobar que pasan pruebas que se han definido en el análisis de requisitos.\n",
            "Implantar (instalar) el programa. Consiste en poner el programa en funcionamiento junto con los componentes que sean necesarios (bases de datos, redes de comunicaciones, etc.).La ingeniería del software se centra en los pasos de planificación y diseño del programa, mientras que antiguamente (programación artesanal) la realización de un programa consistía casi únicamente en escribir el código, bajo solo el conocimiento de los requisitos y con una modesta fase de análisis y diseño.\n",
            "\n",
            "Referencias históricas\n",
            "El trabajo de Ada Lovelace, hija de Anabella Milbanke Byron y Lord Byron, que realizó para la máquina de Babbage le hizo ganarse el título de primera programadora de computadoras del mundo, aunque Babbage nunca completó la construcción de la máquina. El nombre del lenguaje de programación Ada fue escogido como homenaje a esta programadora.\n",
            "\n",
            "Objetivos de la programación\n",
            "La programación debe perseguir la obtención de programas de calidad. Para ello se establece una serie de factores que determinan la calidad de un programa. Algunos de los factores de calidad más importantes son los siguientes:\n",
            "\n",
            "Correctitud. Un programa es correcto si hace lo que debe hacer tal y como se estableció en las fases previas a su desarrollo. Para determinar si un programa hace lo que debe, es muy importante especificar claramente qué debe hacer el programa antes de su desarrollo y, una vez acabado, compararlo con lo que realmente hace. Al verificar este comportamiento está cumpliendo dicho objetivo.\n",
            "Claridad. Es muy importante que el programa sea lo más claro y legible posible, para facilitar tanto su desarrollo como su posterior mantenimiento. Al elaborar un programa se debe intentar que su estructura sea sencilla y coherente, así como cuidar el estilo de programación. De esta forma se ve facilitado el trabajo del programador, tanto en la fase de creación como en las fases posteriores de corrección de errores, ampliaciones, modificaciones, etc. Fases que pueden ser realizadas incluso por otro programador, con lo cual la claridad es aún más necesaria para que otros puedan continuar el trabajo fácilmente. Algunos programadores llegan incluso a utilizar Arte ASCII para delimitar secciones de código; una práctica común es realizar aclaraciones en el mismo código fuente utilizando líneas de comentarios. Contrariamente, algunos programadores realizan acciones que tienden a introducir confusión para impedir un análisis cómodo a otros programadores, recurren al uso de código ofuscado,\n",
            "Eficiencia. Se trata de que el programa, además de realizar aquello para lo que fue creado (es decir, que sea correcto), lo haga gestionando de la mejor forma posible los recursos que utiliza. Normalmente, al hablar de eficiencia de un programa, se suele hacer referencia al tiempo que tarda en realizar la tarea para la que ha sido creado y a la cantidad de memoria que necesita, pero hay otros recursos que también pueden ser de consideración para mejorar la eficiencia de un programa, dependiendo de su naturaleza (espacio en disco que utiliza, tráfico en la red que genera, etc.).\n",
            "Portabilidad. Un programa es portable cuando tiene la capacidad de poder ejecutarse en una plataforma, ya sea hardware o software, diferente a aquella en la que se desarrolló. La portabilidad es una característica muy deseable para un programa, ya que permite, por ejemplo, a un programa que se ha elaborado para el sistema GNU/Linux que también pueda ejecutarse en la familia de sistemas operativos Windows. Consecuentemente el programa puede llegar a más usuarios.\n",
            "\n",
            "Ciclo de vida del software\n",
            "El término ciclo de vida del software describe el desarrollo de software, desde la fase inicial hasta la fase final, incluyendo su estado funcional. El propósito es definir las distintas fases intermedias que se requieren para validar el desarrollo de la aplicación, es decir, para garantizar que el software cumpla los requisitos para la aplicación y verificación de los procedimientos de desarrollo: se asegura que los métodos utilizados son apropiados. Estos métodos se originan en el hecho de que es muy costoso corregir los errores que se detectan tarde dentro de la fase de implementación (programación propiamente dicha), o peor aún, durante la fase funcional. En el modelo de ciclo de vida se intenta que los errores se detecten lo antes posible y por lo tanto, permite a los desarrolladores concentrarse en la calidad del software, en los plazos de implementación y en los costos asociados. El ciclo de vida básico de un software consta de, al menos, los siguientes procedimientos:\n",
            "\n",
            "Análisis de requisitos, viabilidad de diseño y especificación de funciones definidas en lenguaje de programación.\n",
            "Análisis de la arquitectura en la creación, desarrollo, corrección e implementación del sistema.\n",
            "Pruebas en la integración de módulos, y subprograma(s) con cada conjunto o subconjunto.\n",
            "Pruebas beta o de validación que garanticen que en el procedimiento de ejecución del software se cumple con todas las especificaciones originales.\n",
            "Mantenimiento de corrección de errores y restricciones.\n",
            "Documentación de toda la información.El orden y la presencia de cada uno de estos procedimientos dependen del tipo de modelo de ciclo de vida acordado entre el cliente y el equipo de desarrolladores. En el caso del software libre se tiene un ciclo de vida mucho más dinámico, puesto que muchos programadores trabajan en simultáneo desarrollando sus eliminaciones.\n",
            "\n",
            "Véase también\n",
            "Portal:Programación. Contenido relacionado con Programación.\n",
            "Wikiproyecto:Informática/Programación\n",
            "error de software\n",
            "filosofías del desarrollo de software\n",
            "historia de la ingeniería del software\n",
            "ingeniería en computación\n",
            "ingeniería en informática\n",
            "línea de código fuente\n",
            "lenguaje de programación\n",
            "programación automática\n",
            "programación dirigida por eventos\n",
            "programación estructurada\n",
            "programación extrema\n",
            "programación en pareja\n",
            "programación dinámica\n",
            "programación orientada a objetos\n",
            "pruebas de software\n",
            "software\n",
            "\n",
            "Referencias\n",
            "Enlaces externos\n",
            " Wikimedia Commons alberga una categoría multimedia sobre Programación.\n",
            " Wikcionario  tiene definiciones y otra información sobre programación.\n",
            " Wikilibros alberga un libro o manual sobre Fundamentos de programación.\n",
            "[Section: Funcionamiento de un programa (1):\n",
            "Para crear un programa y que la computadora lo interprete y ejecute, las instrucciones deben escribirse en un lenguaje de programación.\n",
            "El lenguaje entendido por una computadora se conoce como código máquina. Consiste en secuencias de instrucciones básicas que el procesador reconoce, codificadas como cadenas de números 1 y 0 (sistema binario). En los primeros tiempos de la computación se programaba directamente en código máquina. Escribir programas así resultaba demasiado complicado, también era difícil entenderlos y mantenerlos una vez escritos. Con el tiempo, se fueron desarrollando herramientas para facilitar el trabajo.\n",
            "Los primeros científicos que trabajaron en el área decidieron reemplazar las secuencias de unos y ceros por mnemónicos, que son abreviaturas en inglés de la función que cumple una instrucción de procesador. Por ejemplo, para sumar se podría usar la letra A de la palabra inglesa add (añadir). Crearon así una familia de lenguajes de mayor nivel, que se conocen como lenguaje ensamblador o simplemente ensamblador (en inglés, assembly). Con el tiempo los ensambladores incorporaron facilidades adicionales, pero siempre manteniendo una correspondencia directa con las instrucciones de procesador. A nivel conceptual, entonces, programar en ensamblador es muy similar a hacerlo en lenguaje máquina, solo que de una forma más amigable.\n",
            "A medida que la complejidad de las tareas que realizaban las computadoras aumentaba, el lenguaje ensamblador fue mostrando limitaciones. Para hacer un programa había que conocer en detalle el funcionamiento de la computadora donde se iba a ejecutar, qué instrucciones proveía y cómo emplearlas. A veces las instrucciones eran demasiado básicas, por ejemplo podía haber una para sumar dos números pero no para multiplicar, y entonces era necesario programar un algoritmo que realizara la multiplicación con base en instrucciones más básicas. Otras veces, la forma de emplear las instrucciones era engorrosa. Además, si se usaba otro modelo de computadora, en muchos casos había que reescribir el programa con otras instrucciones. El siguiente paso fue crear los lenguajes de alto nivel.\n",
            "Una vez que se termina de escribir un programa, es necesario de alguna forma traducirlo a lenguaje máquina, que es lo único que entiende el procesador. Esta tarea es automática, por medio de un programa adicional que toma el código escrito y lo procesa. Hay distintos enfoques para este procesamiento. El enfoque clásico se llama compilación: el programa toma el código en un lenguaje y genera código en el otro; al programa traductor se lo llama compilador. En general se habla de compilación y compiladores cuando el lenguaje de origen es de alto nivel; si la traducción es desde lenguaje ensamblador, se llama ensamblado y el programa se llama ensamblador (hay que distinguir el lenguaje ensamblador del programa ensamblador; en inglés es más claro, son assembly language y assembler respectivamente).[3]​\n",
            "Generalmente existe una fase posterior a la compilación denominada enlace o enlazado (linking en inglés). Los programas pueden escribirse en partes separadas y además pueden usar recursos provistos por bibliotecas. El enlazado, realizado por un programa llamado enlazador, combina todos los componentes y así genera un programa ejecutable completo.\n",
            "En algunos lenguajes de programación, puede usarse un enfoque diferente que no requiera compilación y enlace: un programa llamado intérprete va leyendo el código y realizando en el momento las acciones que haría el programa. Se evita generar código separado y la experiencia es que se está ejecutando el código en el lenguaje de alto nivel, a pesar de que el procesador no lo entienda de forma nativa.\n",
            "Subsections (0):\n",
            ", Section: Léxico y programación (1):\n",
            "La programación se rige por reglas y un conjunto más o menos reducido de órdenes, expresiones, instrucciones y comandos que tienden a asemejarse a una lengua natural acotada (en inglés); y que además tienen la particularidad de una reducida ambigüedad.\n",
            "En los lenguajes de programación se distinguen diversos elementos entre los que se incluyen el léxico propio del lenguaje y las reglas semánticas y sintácticas. Dentro del léxico, generalmente se utilizan símbolos y palabras con funciones específicas dentro del lenguaje. Estas palabras suelen tomarse del inglés y no se las puede utilizar de manera diferente: son las denominadas palabras reservadas. Otra particularidad de los lenguajes es el permitir a los programadores el uso de comentarios: frases o párrafos sin funcionalidad en el programa, que los compiladores o intérpretes descartan y solo están destinados a ser leídos por personas; así se pueden dejar explicaciones que ayuden a entender el código a quien lo lea.[4]​\n",
            "Subsections (0):\n",
            ", Section: Programas y algoritmos (1):\n",
            "Un algoritmo es una secuencia no ambigua, finita y ordenada de instrucciones que han de seguirse para resolver un determinado problema.[1]​ Un programa normalmente implementa y contiene uno o más algoritmos. Un algoritmo puede expresarse de distintas maneras: en forma gráfica, como un diagrama de flujo, en forma de código como en pseudocódigo o un lenguaje de programación, en forma explicativa.\n",
            "Los programas suelen subdividirse en partes menores, llamadas módulos, de modo que la complejidad algorítmica de cada una de las partes sea menor que la del programa completo, lo cual ayuda a simplificar el desarrollo del programa. Esta es una práctica muy utilizada y se conoce como \"refino progresivo\".\n",
            "Según Niklaus Wirth, un programa está formado por los algoritmos y estructuras de datos.\n",
            "La programación puede seguir muchos enfoques, o paradigmas, es decir, diversas maneras de formular la resolución de un problema dado. Algunos de los principales paradigmas de programación son:\n",
            "\n",
            "Programación declarativa\n",
            "Programación imperativa\n",
            "Programación estructurada\n",
            "Programación modular\n",
            "Programación orientada a objetos\n",
            "Programación orientada a eventos\n",
            "Subsections (0):\n",
            ", Section: Compilación (1):\n",
            "El programa escrito en un lenguaje de programación de alto nivel (fácilmente comprensible por el programador) es llamado programa fuente y no se puede ejecutar directamente en una computadora. La opción más común es compilar el programa obteniendo un módulo objeto, aunque también, si el lenguaje lo soporta, puede ejecutarse en forma directa pero solo a través de un intérprete. Algunos lenguajes, tal como BASIC, disponen de ambas formas de ejecución, lo cual facilita la tarea de depuración y prueba del programa.\n",
            "El código fuente del programa se debe someter a un proceso de traducción para convertirlo a lenguaje máquina o bien a un código intermedio, generando así un módulo denominado \"objeto\". A este proceso se le llama compilación.\n",
            "Habitualmente la creación de un programa ejecutable (un típico.exe para Microsoft Windows o DOS) conlleva dos pasos: el primer paso se llama compilación (propiamente dicho) y traduce el código fuente, escrito en un lenguaje de programación y almacenado en un archivo de texto, a código en bajo nivel (normalmente a código objeto, no directamente a lenguaje máquina). El segundo paso se llama enlazado en el cual se enlaza el código de bajo nivel generado de todos los ficheros y subprogramas que se han mandado a compilar y se añade el código de las funciones necesarias que residen en bibliotecas externas, para que el ejecutable pueda comunicarse directamente con el sistema operativo, traduciendo así finalmente el código objeto a código máquina, y generando un módulo ejecutable.\n",
            "Estos dos pasos se pueden hacer por separado, almacenando el resultado de la fase de compilación en archivos objetos (un típico.o para Unix,.obj para MS-Windows y DOS); para enlazarlos en fases posteriores, o crear directamente el ejecutable; con lo que la fase de compilación puede almacenarse de forma temporal. Un programa podría tener partes escritas en varios lenguajes, por ejemplo, Java, C, C++ y ensamblador, que se podrían compilar de forma independiente y luego combinarse para formar un único módulo ejecutable.\n",
            "Subsections (0):\n",
            ", Section: Programación e ingeniería del software (1):\n",
            "Existe una tendencia a identificar el proceso de creación de un programa informático con la programación, que es cierta cuando se trata de programas pequeños para uso personal, y que dista de la realidad cuando se trata de grandes proyectos.\n",
            "El proceso de creación de software, desde el punto de vista de la ingeniería, incluye mínimamente los siguientes pasos:\n",
            "\n",
            "Reconocer la necesidad de un programa para solucionar un problema o identificar la posibilidad de automatización de una tarea.\n",
            "Recolectar los requisitos del programa. Debe quedar claro qué es lo que debe hacer el programa y para qué se necesita.\n",
            "Realizar el análisis de los requisitos del programa. Debe quedar claro qué tareas debe realizar el programa. Las pruebas que comprueben la validez del programa se pueden especificar en esta fase.\n",
            "Diseñar la arquitectura del programa. Se debe descomponer el programa en partes de complejidad abordable.\n",
            "Implementar el programa. Consiste en realizar un diseño detallado, especificando completamente todo el funcionamiento del programa, tras lo cual la codificación (programación propiamente dicha) debería resultar inmediata.\n",
            "Probar el programa. Comprobar que pasan pruebas que se han definido en el análisis de requisitos.\n",
            "Implantar (instalar) el programa. Consiste en poner el programa en funcionamiento junto con los componentes que sean necesarios (bases de datos, redes de comunicaciones, etc.).La ingeniería del software se centra en los pasos de planificación y diseño del programa, mientras que antiguamente (programación artesanal) la realización de un programa consistía casi únicamente en escribir el código, bajo solo el conocimiento de los requisitos y con una modesta fase de análisis y diseño.\n",
            "Subsections (0):\n",
            ", Section: Referencias históricas (1):\n",
            "El trabajo de Ada Lovelace, hija de Anabella Milbanke Byron y Lord Byron, que realizó para la máquina de Babbage le hizo ganarse el título de primera programadora de computadoras del mundo, aunque Babbage nunca completó la construcción de la máquina. El nombre del lenguaje de programación Ada fue escogido como homenaje a esta programadora.\n",
            "Subsections (0):\n",
            ", Section: Objetivos de la programación (1):\n",
            "La programación debe perseguir la obtención de programas de calidad. Para ello se establece una serie de factores que determinan la calidad de un programa. Algunos de los factores de calidad más importantes son los siguientes:\n",
            "\n",
            "Correctitud. Un programa es correcto si hace lo que debe hacer tal y como se estableció en las fases previas a su desarrollo. Para determinar si un programa hace lo que debe, es muy importante especificar claramente qué debe hacer el programa antes de su desarrollo y, una vez acabado, compararlo con lo que realmente hace. Al verificar este comportamiento está cumpliendo dicho objetivo.\n",
            "Claridad. Es muy importante que el programa sea lo más claro y legible posible, para facilitar tanto su desarrollo como su posterior mantenimiento. Al elaborar un programa se debe intentar que su estructura sea sencilla y coherente, así como cuidar el estilo de programación. De esta forma se ve facilitado el trabajo del programador, tanto en la fase de creación como en las fases posteriores de corrección de errores, ampliaciones, modificaciones, etc. Fases que pueden ser realizadas incluso por otro programador, con lo cual la claridad es aún más necesaria para que otros puedan continuar el trabajo fácilmente. Algunos programadores llegan incluso a utilizar Arte ASCII para delimitar secciones de código; una práctica común es realizar aclaraciones en el mismo código fuente utilizando líneas de comentarios. Contrariamente, algunos programadores realizan acciones que tienden a introducir confusión para impedir un análisis cómodo a otros programadores, recurren al uso de código ofuscado,\n",
            "Eficiencia. Se trata de que el programa, además de realizar aquello para lo que fue creado (es decir, que sea correcto), lo haga gestionando de la mejor forma posible los recursos que utiliza. Normalmente, al hablar de eficiencia de un programa, se suele hacer referencia al tiempo que tarda en realizar la tarea para la que ha sido creado y a la cantidad de memoria que necesita, pero hay otros recursos que también pueden ser de consideración para mejorar la eficiencia de un programa, dependiendo de su naturaleza (espacio en disco que utiliza, tráfico en la red que genera, etc.).\n",
            "Portabilidad. Un programa es portable cuando tiene la capacidad de poder ejecutarse en una plataforma, ya sea hardware o software, diferente a aquella en la que se desarrolló. La portabilidad es una característica muy deseable para un programa, ya que permite, por ejemplo, a un programa que se ha elaborado para el sistema GNU/Linux que también pueda ejecutarse en la familia de sistemas operativos Windows. Consecuentemente el programa puede llegar a más usuarios.\n",
            "Subsections (0):\n",
            ", Section: Ciclo de vida del software (1):\n",
            "El término ciclo de vida del software describe el desarrollo de software, desde la fase inicial hasta la fase final, incluyendo su estado funcional. El propósito es definir las distintas fases intermedias que se requieren para validar el desarrollo de la aplicación, es decir, para garantizar que el software cumpla los requisitos para la aplicación y verificación de los procedimientos de desarrollo: se asegura que los métodos utilizados son apropiados. Estos métodos se originan en el hecho de que es muy costoso corregir los errores que se detectan tarde dentro de la fase de implementación (programación propiamente dicha), o peor aún, durante la fase funcional. En el modelo de ciclo de vida se intenta que los errores se detecten lo antes posible y por lo tanto, permite a los desarrolladores concentrarse en la calidad del software, en los plazos de implementación y en los costos asociados. El ciclo de vida básico de un software consta de, al menos, los siguientes procedimientos:\n",
            "\n",
            "Análisis de requisitos, viabilidad de diseño y especificación de funciones definidas en lenguaje de programación.\n",
            "Análisis de la arquitectura en la creación, desarrollo, corrección e implementación del sistema.\n",
            "Pruebas en la integración de módulos, y subprograma(s) con cada conjunto o subconjunto.\n",
            "Pruebas beta o de validación que garanticen que en el procedimiento de ejecución del software se cumple con todas las especificaciones originales.\n",
            "Mantenimiento de corrección de errores y restricciones.\n",
            "Documentación de toda la información.El orden y la presencia de cada uno de estos procedimientos dependen del tipo de modelo de ciclo de vida acordado entre el cliente y el equipo de desarrolladores. En el caso del software libre se tiene un ciclo de vida mucho más dinámico, puesto que muchos programadores trabajan en simultáneo desarrollando sus eliminaciones.\n",
            "Subsections (0):\n",
            ", Section: Véase también (1):\n",
            "Portal:Programación. Contenido relacionado con Programación.\n",
            "Wikiproyecto:Informática/Programación\n",
            "error de software\n",
            "filosofías del desarrollo de software\n",
            "historia de la ingeniería del software\n",
            "ingeniería en computación\n",
            "ingeniería en informática\n",
            "línea de código fuente\n",
            "lenguaje de programación\n",
            "programación automática\n",
            "programación dirigida por eventos\n",
            "programación estructurada\n",
            "programación extrema\n",
            "programación en pareja\n",
            "programación dinámica\n",
            "programación orientada a objetos\n",
            "pruebas de software\n",
            "software\n",
            "Subsections (0):\n",
            ", Section: Referencias (1):\n",
            "\n",
            "Subsections (0):\n",
            ", Section: Enlaces externos (1):\n",
            " Wikimedia Commons alberga una categoría multimedia sobre Programación.\n",
            " Wikcionario  tiene definiciones y otra información sobre programación.\n",
            " Wikilibros alberga un libro o manual sobre Fundamentos de programación.\n",
            "Subsections (0):\n",
            "]\n"
          ]
        }
      ]
    },
    {
      "cell_type": "code",
      "source": [
        "def print_categories(page):\n",
        "        categories = wikipedia_programacion.categories\n",
        "        for title in sorted(categories.keys()):\n",
        "            print(\"%s: %s\" % (title, categories[title]))\n",
        "\n",
        "\n",
        "print(\"Categories\")\n",
        "print_categories(wikipedia_programacion)"
      ],
      "metadata": {
        "colab": {
          "base_uri": "https://localhost:8080/"
        },
        "id": "XVlNj23KT_Bm",
        "outputId": "a46f9432-274b-4b92-eb35-3d55bc634612"
      },
      "execution_count": 17,
      "outputs": [
        {
          "output_type": "stream",
          "name": "stdout",
          "text": [
            "Categories\n",
            "Categoría:Programación: Categoría:Programación (id: ??, ns: 14)\n",
            "Categoría:Wikipedia:Artículos con identificadores AAT: Categoría:Wikipedia:Artículos con identificadores AAT (id: ??, ns: 14)\n",
            "Categoría:Wikipedia:Artículos con identificadores BNE: Categoría:Wikipedia:Artículos con identificadores BNE (id: ??, ns: 14)\n",
            "Categoría:Wikipedia:Artículos con identificadores BNF: Categoría:Wikipedia:Artículos con identificadores BNF (id: ??, ns: 14)\n",
            "Categoría:Wikipedia:Artículos con identificadores GND: Categoría:Wikipedia:Artículos con identificadores GND (id: ??, ns: 14)\n",
            "Categoría:Wikipedia:Artículos con identificadores LCCN: Categoría:Wikipedia:Artículos con identificadores LCCN (id: ??, ns: 14)\n",
            "Categoría:Wikipedia:Artículos que necesitan referencias adicionales: Categoría:Wikipedia:Artículos que necesitan referencias adicionales (id: ??, ns: 14)\n",
            "Categoría:Wikipedia:Páginas con referencias con parámetros obsoletos: Categoría:Wikipedia:Páginas con referencias con parámetros obsoletos (id: ??, ns: 14)\n",
            "Categoría:Wikipedia:Referenciar (aún sin clasificar): Categoría:Wikipedia:Referenciar (aún sin clasificar) (id: ??, ns: 14)\n"
          ]
        }
      ]
    },
    {
      "cell_type": "code",
      "source": [
        "# Url completa\n",
        "print(wikipedia_programacion.fullurl)"
      ],
      "metadata": {
        "colab": {
          "base_uri": "https://localhost:8080/"
        },
        "id": "t--1KjCbAs2k",
        "outputId": "7d849871-d2a6-43c7-b0f9-440cd1cc83fc"
      },
      "execution_count": 18,
      "outputs": [
        {
          "output_type": "stream",
          "name": "stdout",
          "text": [
            "https://es.wikipedia.org/wiki/Programaci%C3%B3n\n"
          ]
        }
      ]
    },
    {
      "cell_type": "markdown",
      "source": [
        "# **BeautifulSoup**\n",
        "Documentación oficial: https://beautiful-soup-4.readthedocs.io/en/latest/\n"
      ],
      "metadata": {
        "id": "ggQ5kZHZBSds"
      }
    },
    {
      "cell_type": "markdown",
      "source": [
        "## **Generalidades**\n",
        "\n",
        "Vamos a practicar con https://scrapepark.org/spanish/\n"
      ],
      "metadata": {
        "id": "raNqbcfZBUl9"
      }
    },
    {
      "cell_type": "code",
      "source": [
        "from bs4 import BeautifulSoup\n",
        "import requests"
      ],
      "metadata": {
        "id": "e7GiMoYlBXFc"
      },
      "execution_count": 19,
      "outputs": []
    },
    {
      "cell_type": "code",
      "source": [
        "# Versiones\n",
        "import bs4 # Solo para el chequeo\n",
        "print(\"Versión de BeautifulSoup:\",bs4.__version__)\n",
        "print(\"Versión de requests:\", requests.__version__)"
      ],
      "metadata": {
        "colab": {
          "base_uri": "https://localhost:8080/"
        },
        "id": "2R-JX-wsBZg9",
        "outputId": "bfcfb146-32c6-47e3-c145-45381b91a5c4"
      },
      "execution_count": 20,
      "outputs": [
        {
          "output_type": "stream",
          "name": "stdout",
          "text": [
            "Versión de BeautifulSoup: 4.11.2\n",
            "Versión de requests: 2.31.0\n"
          ]
        }
      ]
    },
    {
      "cell_type": "code",
      "source": [
        "# Empezamos el scraping\n",
        "\n",
        "# 1. Obtener el HTML\n",
        "URL_BASE = 'https://scrapepark.org/courses/spanish/'\n",
        "pedido_obtenido = requests.get(URL_BASE)\n",
        "html_obtenido = pedido_obtenido.text\n",
        "\n",
        "# 2. \"Parsear\" ese HTML\n",
        "soup = BeautifulSoup(html_obtenido, \"html.parser\")\n",
        "print(type(soup))"
      ],
      "metadata": {
        "colab": {
          "base_uri": "https://localhost:8080/"
        },
        "id": "-0dvc1n4BeXe",
        "outputId": "d1eb9e98-75ff-4083-a832-6d673d3b1afb"
      },
      "execution_count": 21,
      "outputs": [
        {
          "output_type": "stream",
          "name": "stdout",
          "text": [
            "<class 'bs4.BeautifulSoup'>\n"
          ]
        }
      ]
    },
    {
      "cell_type": "markdown",
      "source": [
        "## **El método `find()`**\n",
        "\n",
        "Nos permite quedarnos con la información asociada a una etiqueta de HTML"
      ],
      "metadata": {
        "id": "3TWh9Lx1B7HZ"
      }
    },
    {
      "cell_type": "code",
      "source": [
        "primer_h2 = soup.find('h2')\n",
        "print(primer_h2)"
      ],
      "metadata": {
        "colab": {
          "base_uri": "https://localhost:8080/"
        },
        "id": "mmHADvolB4iN",
        "outputId": "f9548366-4594-47df-aac2-5d69ed83c422"
      },
      "execution_count": 22,
      "outputs": [
        {
          "output_type": "stream",
          "name": "stdout",
          "text": [
            "<h2>¿Por qué comprar con nosotros?</h2>\n"
          ]
        }
      ]
    },
    {
      "cell_type": "code",
      "source": [
        "# Solo el texto\n",
        "print(primer_h2.text)\n",
        "\n",
        "# equivalente a:\n",
        "print(soup.h2.text)"
      ],
      "metadata": {
        "colab": {
          "base_uri": "https://localhost:8080/"
        },
        "id": "xsj7Gxy8CEUj",
        "outputId": "3764ca7a-a68a-457c-e2e4-adf6d668538e"
      },
      "execution_count": 23,
      "outputs": [
        {
          "output_type": "stream",
          "name": "stdout",
          "text": [
            "¿Por qué comprar con nosotros?\n",
            "¿Por qué comprar con nosotros?\n"
          ]
        }
      ]
    },
    {
      "cell_type": "markdown",
      "source": [
        "## **El método `find_all()`**\n",
        "\n",
        "Busca **TODOS** los elementos de la página con esa etiqueta y devuelve una \"lista\" que los contiene (en realidad devuelve un objeto de la clase *bs4.element.ResultSet*)."
      ],
      "metadata": {
        "id": "mqpFl7FUDQiT"
      }
    },
    {
      "cell_type": "code",
      "source": [
        "h2_todos = soup.find_all('h2')\n",
        "print(h2_todos)"
      ],
      "metadata": {
        "colab": {
          "base_uri": "https://localhost:8080/"
        },
        "id": "M7bKlefnDRTU",
        "outputId": "de754657-9ab7-47b2-e115-d812c5de5365"
      },
      "execution_count": 24,
      "outputs": [
        {
          "output_type": "stream",
          "name": "stdout",
          "text": [
            "[<h2>¿Por qué comprar con nosotros?</h2>, <h2>\r\n",
            "                  #Novedades\r\n",
            "                </h2>, <h2>\r\n",
            "            Nuestros <span>productos</span>\n",
            "</h2>, <h2>\r\n",
            "            Testimonios de clientes\r\n",
            "          </h2>, <h2 class=\"heading-container\">\r\n",
            "          Tabla de precios\r\n",
            "        </h2>]\n"
          ]
        }
      ]
    },
    {
      "cell_type": "code",
      "source": [
        "# ARGUMENTOS\n",
        "# Si usamos el parametro limit = 1, emulamos al metodo find\n",
        "h2_uno_solo = soup.find_all('h2',limit=1)\n",
        "print(h2_uno_solo)"
      ],
      "metadata": {
        "colab": {
          "base_uri": "https://localhost:8080/"
        },
        "id": "M08NbXMoDfSr",
        "outputId": "f92ef43b-5a72-423d-f0e9-34a779e12245"
      },
      "execution_count": 25,
      "outputs": [
        {
          "output_type": "stream",
          "name": "stdout",
          "text": [
            "[<h2>¿Por qué comprar con nosotros?</h2>]\n"
          ]
        }
      ]
    },
    {
      "cell_type": "code",
      "source": [
        "# Podemos iterar sobre el objeto\n",
        "for seccion in h2_todos:\n",
        "  print(seccion.text)"
      ],
      "metadata": {
        "colab": {
          "base_uri": "https://localhost:8080/"
        },
        "id": "LkWQCdfZDkNV",
        "outputId": "ce424e32-788e-4918-a847-43e9ea8baf56"
      },
      "execution_count": 26,
      "outputs": [
        {
          "output_type": "stream",
          "name": "stdout",
          "text": [
            "¿Por qué comprar con nosotros?\n",
            "\r\n",
            "                  #Novedades\r\n",
            "                \n",
            "\r\n",
            "            Nuestros productos\n",
            "\n",
            "\r\n",
            "            Testimonios de clientes\r\n",
            "          \n",
            "\r\n",
            "          Tabla de precios\r\n",
            "        \n"
          ]
        }
      ]
    },
    {
      "cell_type": "code",
      "source": [
        "# get_text() para más funcionalidades\n",
        "for seccion in h2_todos:\n",
        "  print(seccion.get_text(strip=True))"
      ],
      "metadata": {
        "colab": {
          "base_uri": "https://localhost:8080/"
        },
        "id": "X1XrX8jQDmrm",
        "outputId": "deb3db7b-f4d4-4823-a821-282077c9c0a6"
      },
      "execution_count": 27,
      "outputs": [
        {
          "output_type": "stream",
          "name": "stdout",
          "text": [
            "¿Por qué comprar con nosotros?\n",
            "#Novedades\n",
            "Nuestrosproductos\n",
            "Testimonios de clientes\n",
            "Tabla de precios\n"
          ]
        }
      ]
    },
    {
      "cell_type": "markdown",
      "source": [
        "## **Utilizando atributos de las etiquetas**"
      ],
      "metadata": {
        "id": "cbTUkDguDzMU"
      }
    },
    {
      "cell_type": "code",
      "source": [
        "divs = soup.find_all('div', class_= \"heading-container heading-center\")\n",
        "\n",
        "for div in divs:\n",
        "  print(div.get_text(strip=True))\n",
        "\n",
        "print(' ')\n",
        "\n",
        "for div in divs:\n",
        "  print(div.text)"
      ],
      "metadata": {
        "colab": {
          "base_uri": "https://localhost:8080/"
        },
        "id": "i_7zoiS1DylU",
        "outputId": "20f9ed5f-1f4a-435d-9836-32d15d3dd21e"
      },
      "execution_count": 28,
      "outputs": [
        {
          "output_type": "stream",
          "name": "stdout",
          "text": [
            "¿Por qué comprar con nosotros?\n",
            "Nuestrosproductos\n",
            "Suscríbete para obtener descuentos y ofertas\n",
            "Testimonios de clientes\n",
            " \n",
            "\n",
            "¿Por qué comprar con nosotros?\n",
            "\n",
            "\n",
            "\r\n",
            "            Nuestros productos\n",
            "\n",
            "\n",
            "\n",
            "Suscríbete para obtener descuentos y ofertas\n",
            "\n",
            "\n",
            "\r\n",
            "            Testimonios de clientes\r\n",
            "          \n",
            "\n"
          ]
        }
      ]
    },
    {
      "cell_type": "code",
      "source": [
        "# Todas las etiquetas que tengan el atributo \"src\"\n",
        "src_todos = soup.find_all(src=True)\n",
        "print(src_todos)\n",
        "print(' ')\n",
        "for elemento in src_todos:\n",
        "  if elemento['src'].endswith(\".js\"):\n",
        "    print(elemento)\n"
      ],
      "metadata": {
        "colab": {
          "base_uri": "https://localhost:8080/"
        },
        "id": "Ld2uZiRvFiRu",
        "outputId": "e5d25f0e-dbd4-402d-ce3c-aa91ecd2a5c5"
      },
      "execution_count": 29,
      "outputs": [
        {
          "output_type": "stream",
          "name": "stdout",
          "text": [
            "[<img alt=\"Logo de ScrapePark.org\" src=\"images/logo.svg\" width=\"250\"/>, <img alt=\"Parque de patinaje\" src=\"images/slider-bg.jpg\"/>, <img alt=\"Variedad de patinetas en la tienda\" src=\"images/arrival-bg-store.png\"/>, <img alt=\"Patineta 1\" src=\"images/p1.png\"/>, <img alt=\"Patineta 2\" src=\"images/p2.jpg\"/>, <img alt=\"Patineta 3\" src=\"images/p3.png\"/>, <img alt=\"Patineta 4\" src=\"images/p4.png\"/>, <img alt=\"Patineta 5\" src=\"images/p5.png\"/>, <img alt=\"Patineta 6\" src=\"images/p6.png\"/>, <img alt=\"Patineta 7\" src=\"images/p7.png\"/>, <img alt=\"Patineta 8\" src=\"images/p8.png\"/>, <img alt=\"Patineta 9\" src=\"images/p9.png\"/>, <img alt=\"Patineta 10\" src=\"images/p10.png\"/>, <img alt=\"Patineta 11\" src=\"images/p11.png\"/>, <img alt=\"Patineta 12\" src=\"images/p12.png\"/>, <img alt=\"Cliente 1\" src=\"images/client-one.png\"/>, <img alt=\"Cliente 2\" src=\"images/client-two.png\"/>, <img alt=\"Cliente 3\" src=\"images/client-three.png\"/>, <iframe src=\"table.html\" title=\"table_iframe\"></iframe>, <img alt=\"#\" src=\"images/logo.svg\" width=\"210\"/>, <img alt=\"Logo de freeCodeCamp\" class=\"freecodecamp-logo\" src=\"./images/freecodecamp-logo.png\"/>, <script src=\"js/jquery-3.4.1.min.js\"></script>, <script src=\"js/popper.min.js\"></script>, <script src=\"js/bootstrap.js\"></script>]\n",
            " \n",
            "<script src=\"js/jquery-3.4.1.min.js\"></script>\n",
            "<script src=\"js/popper.min.js\"></script>\n",
            "<script src=\"js/bootstrap.js\"></script>\n"
          ]
        }
      ]
    },
    {
      "cell_type": "markdown",
      "source": [
        "## Ejercicio: Bajar todas las imagenes!"
      ],
      "metadata": {
        "id": "3a5LpQM1G60_"
      }
    },
    {
      "cell_type": "code",
      "source": [
        "url_imagenes = []\n",
        "for i, imagen in enumerate(src_todos):\n",
        "  if imagen['src'].endswith('png'):\n",
        "    print(imagen['src'])\n",
        "\n",
        "    r = requests.get(f\" https://scrapepark.org/courses/spanish/{imagen['src']}\")\n",
        "    print(r)\n",
        "    with open(f'imagen_{i}.png', 'wb') as f: #Descarga las imagenes\n",
        "      f.write(r.content)"
      ],
      "metadata": {
        "colab": {
          "base_uri": "https://localhost:8080/"
        },
        "id": "O7aNja6_HDyM",
        "outputId": "1fa552e5-a320-4c33-a5e2-518ecc251aa6"
      },
      "execution_count": 30,
      "outputs": [
        {
          "output_type": "stream",
          "name": "stdout",
          "text": [
            "images/arrival-bg-store.png\n",
            "<Response [200]>\n",
            "images/p1.png\n",
            "<Response [200]>\n",
            "images/p3.png\n",
            "<Response [200]>\n",
            "images/p4.png\n",
            "<Response [200]>\n",
            "images/p5.png\n",
            "<Response [200]>\n",
            "images/p6.png\n",
            "<Response [200]>\n",
            "images/p7.png\n",
            "<Response [200]>\n",
            "images/p8.png\n",
            "<Response [200]>\n",
            "images/p9.png\n",
            "<Response [200]>\n",
            "images/p10.png\n",
            "<Response [200]>\n",
            "images/p11.png\n",
            "<Response [200]>\n",
            "images/p12.png\n",
            "<Response [200]>\n",
            "images/client-one.png\n",
            "<Response [200]>\n",
            "images/client-two.png\n",
            "<Response [200]>\n",
            "images/client-three.png\n",
            "<Response [200]>\n",
            "./images/freecodecamp-logo.png\n",
            "<Response [200]>\n"
          ]
        }
      ]
    },
    {
      "cell_type": "code",
      "source": [
        "soup.find_all('iframe')[0]['src']"
      ],
      "metadata": {
        "colab": {
          "base_uri": "https://localhost:8080/",
          "height": 36
        },
        "id": "9bf3YzpG41gA",
        "outputId": "a2d7ee41-339e-4e3b-db12-59ea72c23b65"
      },
      "execution_count": 31,
      "outputs": [
        {
          "output_type": "execute_result",
          "data": {
            "text/plain": [
              "'table.html'"
            ],
            "application/vnd.google.colaboratory.intrinsic+json": {
              "type": "string"
            }
          },
          "metadata": {},
          "execution_count": 31
        }
      ]
    },
    {
      "cell_type": "code",
      "source": [
        "# Información de tablas\n",
        "\n",
        "URL_BASE = 'https://scrapepark.org/courses/spanish'\n",
        "URL_TABLA = soup.find_all('iframe')[0]['src']\n",
        "\n",
        "request_tabla = requests.get(f'{URL_BASE}/{URL_TABLA}')\n",
        "\n",
        "html_tabla = request_tabla.text\n",
        "soup_tabla = BeautifulSoup(html_tabla, \"html.parser\")\n",
        "soup_tabla.find('table')\n",
        "\n",
        "productos_faltantes = soup_tabla.find_all(['th', 'td'], attrs={'style':'color: red;'})\n",
        "productos_faltantes = [talle.text for talle in productos_faltantes]\n",
        "\n",
        "print(productos_faltantes)"
      ],
      "metadata": {
        "colab": {
          "base_uri": "https://localhost:8080/"
        },
        "id": "k4G8E9i64-4N",
        "outputId": "a857a3f2-8ca5-44ee-d4a1-aa307c1d9113"
      },
      "execution_count": 33,
      "outputs": [
        {
          "output_type": "stream",
          "name": "stdout",
          "text": [
            "['Longboard', '$80', '$85', '$90', '$62', '$150']\n"
          ]
        }
      ]
    },
    {
      "cell_type": "code",
      "source": [
        "divs = soup.find_all('div', class_='detail-box')\n",
        "productos = []\n",
        "precios = []\n",
        "\n",
        "for div in divs:\n",
        "  if (div.h6 is not None) and ('Patineta' in div.h5.text):\n",
        "    producto = div.h5.get_text(strip=True)\n",
        "    precio = div.h6.get_text(strip=True).replace('$', '')\n",
        "    # Se puede agregar filtros\n",
        "    print(f'producto: {producto:<16} | precio: {precio}')\n",
        "    productos.append(producto)\n",
        "    precios.append(precio)\n",
        "print(precios)\n",
        "print(productos)"
      ],
      "metadata": {
        "colab": {
          "base_uri": "https://localhost:8080/"
        },
        "id": "-06iorD87ZoT",
        "outputId": "70140408-d2e4-456d-dca8-74f09a224d68"
      },
      "execution_count": 42,
      "outputs": [
        {
          "output_type": "stream",
          "name": "stdout",
          "text": [
            "producto: Patineta Nueva 1 | precio: 75\n",
            "producto: Patineta Usada 2 | precio: 80\n",
            "producto: Patineta Nueva 3 | precio: 68\n",
            "producto: Patineta Usada 4 | precio: 70\n",
            "producto: Patineta Nueva 5 | precio: 75\n",
            "producto: Patineta Nueva 6 | precio: 58\n",
            "producto: Patineta Nueva 7 | precio: 80\n",
            "producto: Patineta Nueva 8 | precio: 35\n",
            "producto: Patineta Nueva 9 | precio: 165\n",
            "producto: Patineta Usada 10 | precio: 54\n",
            "producto: Patineta Usada 11 | precio: 99\n",
            "producto: Patineta Nueva 12 | precio: 110\n",
            "['75', '80', '68', '70', '75', '58', '80', '35', '165', '54', '99', '110']\n",
            "['Patineta Nueva 1', 'Patineta Usada 2', 'Patineta Nueva 3', 'Patineta Usada 4', 'Patineta Nueva 5', 'Patineta Nueva 6', 'Patineta Nueva 7', 'Patineta Nueva 8', 'Patineta Nueva 9', 'Patineta Usada 10', 'Patineta Usada 11', 'Patineta Nueva 12']\n"
          ]
        }
      ]
    },
    {
      "cell_type": "code",
      "source": [
        "URL_BASE = \"https://scrapepark.org/courses/spanish/contact\"\n",
        "\n",
        "for i in range(1,3):\n",
        "  URL_FINAL = f\"{URL_BASE}{i}\"\n",
        "  print(URL_FINAL)\n",
        "  r = requests.get(URL_FINAL)\n",
        "  soup = BeautifulSoup(r.text, \"html.parser\")\n",
        "  print(soup.h5.text)"
      ],
      "metadata": {
        "colab": {
          "base_uri": "https://localhost:8080/"
        },
        "id": "lJBkxQ2b9UR4",
        "outputId": "c187ff7d-0bb2-421e-cc52-873f500f6bb0"
      },
      "execution_count": 47,
      "outputs": [
        {
          "output_type": "stream",
          "name": "stdout",
          "text": [
            "https://scrapepark.org/courses/spanish/contact1\n",
            "Texto que cambia entre páginas en contacto 1 :)\n",
            "https://scrapepark.org/courses/spanish/contact2\n",
            "Texto que cambia entre páginas en contacto 2 :)\n"
          ]
        }
      ]
    },
    {
      "cell_type": "markdown",
      "source": [
        "## **Datos que no sabemos en que parte de la página se encuentran**"
      ],
      "metadata": {
        "id": "JAVVZTobGZEO"
      }
    },
    {
      "cell_type": "code",
      "source": [
        "# Expresiones regulares\n",
        "import re\n",
        "\n",
        "# 1. Obtener el HTML\n",
        "URL_BASE = 'https://scrapepark.org/courses/spanish'\n",
        "pedido_obtenido = requests.get(URL_BASE)\n",
        "html_obtenido = pedido_obtenido.text\n",
        "\n",
        "# 2. \"Parsear\" ese HTML\n",
        "soup = BeautifulSoup(html_obtenido, \"html.parser\")\n",
        "\n",
        "telefonos = soup.find_all(string=re.compile(\"\\d+-\\d+-\\d+\")) # Expresion regular para obtener el numero de contacto de la pagina\n",
        "telefonos"
      ],
      "metadata": {
        "colab": {
          "base_uri": "https://localhost:8080/"
        },
        "id": "mcQRyD9AGZtu",
        "outputId": "e02e7189-b789-4b54-a16e-dcf0cd7d7a87"
      },
      "execution_count": 48,
      "outputs": [
        {
          "output_type": "execute_result",
          "data": {
            "text/plain": [
              "[' 4-444-4444']"
            ]
          },
          "metadata": {},
          "execution_count": 48
        }
      ]
    },
    {
      "cell_type": "markdown",
      "source": [
        "## **Moviéndonos por el árbol**\n",
        "\n",
        "Para saber más: https://www.crummy.com/software/BeautifulSoup/bs4/doc/#searching-the-tree"
      ],
      "metadata": {
        "id": "5mfvrDozIHdJ"
      }
    },
    {
      "cell_type": "code",
      "source": [
        "copyrights = soup.find_all(string=re.compile(\"©\")) #Encontrar donde hayan simbolos de copyrigth\n",
        "copyrights[0]"
      ],
      "metadata": {
        "colab": {
          "base_uri": "https://localhost:8080/",
          "height": 36
        },
        "id": "gkyZ1GPtIG6r",
        "outputId": "8fb45560-6e88-406a-decd-e877611e636b"
      },
      "execution_count": 49,
      "outputs": [
        {
          "output_type": "execute_result",
          "data": {
            "text/plain": [
              "'© 2022 '"
            ],
            "application/vnd.google.colaboratory.intrinsic+json": {
              "type": "string"
            }
          },
          "metadata": {},
          "execution_count": 49
        }
      ]
    },
    {
      "cell_type": "code",
      "source": [
        "primer_copyright = copyrights[0]\n",
        "primer_copyright.parent #Componente padre de donde esta el simbolo"
      ],
      "metadata": {
        "colab": {
          "base_uri": "https://localhost:8080/"
        },
        "id": "ciKYt5idIQeH",
        "outputId": "e856e6bb-cfae-4394-876c-723180ec3a53"
      },
      "execution_count": 50,
      "outputs": [
        {
          "output_type": "execute_result",
          "data": {
            "text/plain": [
              "<p>© 2022 <span>Todos los derechos reservados</span>.\n",
              "        <a href=\"https://html.design/\" rel=\"noopener noreferrer\" target=\"_blank\">Creado con Free Html Templates</a>.\n",
              "      </p>"
            ]
          },
          "metadata": {},
          "execution_count": 50
        }
      ]
    },
    {
      "cell_type": "code",
      "source": [
        "# # Otro ejemplo con elementos al mismo nivel\n",
        "menu = soup.find(string=re.compile(\"MENÚ\"))\n",
        "print(menu.parent) #Componente padre del componente donde esta la palabra menu\n",
        "print(' ')\n",
        "print(menu.parent.parent) #Componente padre del padre del componente donde esta la palabra menu\n",
        "print(' ')\n",
        "menu.parent.find_next_siblings() #Componente al mismo nivel del componente donde esta menu"
      ],
      "metadata": {
        "colab": {
          "base_uri": "https://localhost:8080/"
        },
        "id": "DQ6J2KvOIZJj",
        "outputId": "016f5f87-b7e6-46c7-9ee8-c0fec6ec3926"
      },
      "execution_count": 58,
      "outputs": [
        {
          "output_type": "stream",
          "name": "stdout",
          "text": [
            "<h3 class=\"menu\">MENÚ</h3>\n",
            " \n",
            "<div class=\"widget-menu\">\n",
            "<h3 class=\"menu\">MENÚ</h3>\n",
            "<ul>\n",
            "<li><a href=\"#\">Inicio</a></li>\n",
            "<li><a href=\"#\">Acerca</a></li>\n",
            "<li><a href=\"#\">Servicios</a></li>\n",
            "<li><a href=\"#\">Testimonios</a></li>\n",
            "<li><a href=\"#\">Contacto</a></li>\n",
            "</ul>\n",
            "</div>\n",
            " \n"
          ]
        },
        {
          "output_type": "execute_result",
          "data": {
            "text/plain": [
              "[<ul>\n",
              " <li><a href=\"#\">Inicio</a></li>\n",
              " <li><a href=\"#\">Acerca</a></li>\n",
              " <li><a href=\"#\">Servicios</a></li>\n",
              " <li><a href=\"#\">Testimonios</a></li>\n",
              " <li><a href=\"#\">Contacto</a></li>\n",
              " </ul>]"
            ]
          },
          "metadata": {},
          "execution_count": 58
        }
      ]
    },
    {
      "cell_type": "markdown",
      "source": [
        "## **Comentario sobre excepciones**\n",
        "https://docs.python.org/es/3/tutorial/errors.html"
      ],
      "metadata": {
        "id": "byu-wNmtKAjz"
      }
    },
    {
      "cell_type": "code",
      "source": [
        "strings_a_buscar = [\"MENÚ\", \"©\", \"carpincho\", \"Patineta\"]\n",
        "\n",
        "for string in strings_a_buscar:\n",
        "  try:\n",
        "    resultado = soup.find(string=re.compile(string))\n",
        "    print(resultado.text)\n",
        "  except AttributeError:\n",
        "    print(f\"El string '{string}' no fue encontrado\")\n",
        ""
      ],
      "metadata": {
        "colab": {
          "base_uri": "https://localhost:8080/"
        },
        "id": "m88uNoTEJ-l9",
        "outputId": "669b4c1b-2c54-424b-9c80-57fbe687e64e"
      },
      "execution_count": 59,
      "outputs": [
        {
          "output_type": "stream",
          "name": "stdout",
          "text": [
            "MENÚ\n",
            "© 2022 \n",
            "El string 'carpincho' no fue encontrado\n",
            "\r\n",
            "                  Patineta Nueva 1\r\n",
            "                \n"
          ]
        }
      ]
    },
    {
      "cell_type": "markdown",
      "source": [
        "## **Almacenamiento de los datos**"
      ],
      "metadata": {
        "id": "nPzCe2LrKVSa"
      }
    },
    {
      "cell_type": "code",
      "source": [
        "productos.insert(0, \"productos\")\n",
        "precios.insert(0, \"precios\")\n",
        "# datos = dict(zip(productos, precios))"
      ],
      "metadata": {
        "id": "-C4i2SDLKVAn"
      },
      "execution_count": 63,
      "outputs": []
    },
    {
      "cell_type": "code",
      "source": [
        "precios"
      ],
      "metadata": {
        "colab": {
          "base_uri": "https://localhost:8080/"
        },
        "id": "Josr1S21LVMt",
        "outputId": "8222379c-d531-45f1-b9d0-6012356cb5e9"
      },
      "execution_count": 66,
      "outputs": [
        {
          "output_type": "execute_result",
          "data": {
            "text/plain": [
              "['precios',\n",
              " '75',\n",
              " '80',\n",
              " '68',\n",
              " '70',\n",
              " '75',\n",
              " '58',\n",
              " '80',\n",
              " '35',\n",
              " '165',\n",
              " '54',\n",
              " '99',\n",
              " '110']"
            ]
          },
          "metadata": {},
          "execution_count": 66
        }
      ]
    },
    {
      "cell_type": "code",
      "source": [
        "productos"
      ],
      "metadata": {
        "colab": {
          "base_uri": "https://localhost:8080/"
        },
        "id": "ti0_b9yZLXQf",
        "outputId": "0946e7bb-4487-4840-a5bd-055bd8ffaeb5"
      },
      "execution_count": 67,
      "outputs": [
        {
          "output_type": "execute_result",
          "data": {
            "text/plain": [
              "['productos',\n",
              " 'Patineta Nueva 1',\n",
              " 'Patineta Usada 2',\n",
              " 'Patineta Nueva 3',\n",
              " 'Patineta Usada 4',\n",
              " 'Patineta Nueva 5',\n",
              " 'Patineta Nueva 6',\n",
              " 'Patineta Nueva 7',\n",
              " 'Patineta Nueva 8',\n",
              " 'Patineta Nueva 9',\n",
              " 'Patineta Usada 10',\n",
              " 'Patineta Usada 11',\n",
              " 'Patineta Nueva 12']"
            ]
          },
          "metadata": {},
          "execution_count": 67
        }
      ]
    },
    {
      "cell_type": "code",
      "source": [
        "datos = dict(zip(productos, precios))"
      ],
      "metadata": {
        "id": "rYnVrVvFLO9p"
      },
      "execution_count": 68,
      "outputs": []
    },
    {
      "cell_type": "code",
      "source": [
        "datos.items()"
      ],
      "metadata": {
        "colab": {
          "base_uri": "https://localhost:8080/"
        },
        "id": "ts0gKIV1LP3r",
        "outputId": "c9ab98a8-75c6-4961-d16a-94c42ce306fe"
      },
      "execution_count": 69,
      "outputs": [
        {
          "output_type": "execute_result",
          "data": {
            "text/plain": [
              "dict_items([('productos', 'precios'), ('Patineta Nueva 1', '75'), ('Patineta Usada 2', '80'), ('Patineta Nueva 3', '68'), ('Patineta Usada 4', '70'), ('Patineta Nueva 5', '75'), ('Patineta Nueva 6', '58'), ('Patineta Nueva 7', '80'), ('Patineta Nueva 8', '35'), ('Patineta Nueva 9', '165'), ('Patineta Usada 10', '54'), ('Patineta Usada 11', '99'), ('Patineta Nueva 12', '110')])"
            ]
          },
          "metadata": {},
          "execution_count": 69
        }
      ]
    },
    {
      "cell_type": "code",
      "source": [
        "import csv\n",
        "\n",
        "with open('datos.csv','w') as f:\n",
        "    w = csv.writer(f)\n",
        "    w.writerows(datos.items())"
      ],
      "metadata": {
        "id": "djMD1CiiLQyV"
      },
      "execution_count": 70,
      "outputs": []
    },
    {
      "cell_type": "code",
      "source": [
        "import pandas as pd\n",
        "\n",
        "productos.remove(\"productos\")\n",
        "precios.remove(\"precios\")\n",
        "\n",
        "df = pd.DataFrame()\n",
        "\n",
        "df['Productos'] = productos\n",
        "df['Precios'] = precios\n",
        "print(df)"
      ],
      "metadata": {
        "colab": {
          "base_uri": "https://localhost:8080/"
        },
        "id": "eBwo6gB5MB4H",
        "outputId": "57d79c39-a660-4c9b-abf4-86a7cb068357"
      },
      "execution_count": 73,
      "outputs": [
        {
          "output_type": "stream",
          "name": "stdout",
          "text": [
            "            Productos Precios\n",
            "0    Patineta Nueva 1      75\n",
            "1    Patineta Usada 2      80\n",
            "2    Patineta Nueva 3      68\n",
            "3    Patineta Usada 4      70\n",
            "4    Patineta Nueva 5      75\n",
            "5    Patineta Nueva 6      58\n",
            "6    Patineta Nueva 7      80\n",
            "7    Patineta Nueva 8      35\n",
            "8    Patineta Nueva 9     165\n",
            "9   Patineta Usada 10      54\n",
            "10  Patineta Usada 11      99\n",
            "11  Patineta Nueva 12     110\n"
          ]
        }
      ]
    },
    {
      "cell_type": "markdown",
      "source": [
        "Algunos ejercicios para seguir practicando:\n",
        "\n",
        "1. Las patinetas que salgan menos que $68\n",
        "2. Las patinetas que en su nombre tengan un numero mayor a 3\n",
        "3. Traer cualquier texto de la pagina que tenga la palabra descuento u oferta.\n",
        "5. Generar un archivo .csv con dos columnas: Una conteniendo el nombre del cliente y otra su testimonio."
      ],
      "metadata": {
        "id": "jilbbh7mMm3y"
      }
    },
    {
      "cell_type": "markdown",
      "source": [
        "Las patinetas que salgan menos que $68"
      ],
      "metadata": {
        "id": "0sS4fviiMpVi"
      }
    },
    {
      "cell_type": "code",
      "source": [
        "divs = soup.find_all('div', class_='detail-box')\n",
        "\n",
        "for div in divs:\n",
        "  if (div.h6 is not None) and ('Patineta' in div.h5.text):\n",
        "    producto = div.h5.get_text(strip=True)\n",
        "    precio = div.h6.get_text(strip=True).replace('$', '')\n",
        "    if int(precio) < 68:\n",
        "       print(\"Producto:\",producto, \"Precio: \",precio,\"$\")"
      ],
      "metadata": {
        "colab": {
          "base_uri": "https://localhost:8080/"
        },
        "id": "534C7BmwMncA",
        "outputId": "6ef57346-220f-4fe9-fa68-cdae6e8e74ff"
      },
      "execution_count": 87,
      "outputs": [
        {
          "output_type": "stream",
          "name": "stdout",
          "text": [
            "Producto: Patineta Nueva 6 Precio:  58 $\n",
            "Producto: Patineta Nueva 8 Precio:  35 $\n",
            "Producto: Patineta Usada 10 Precio:  54 $\n"
          ]
        }
      ]
    },
    {
      "cell_type": "markdown",
      "source": [
        "Las patinetas que en su nombre tengan un numero mayor a 3"
      ],
      "metadata": {
        "id": "9bdukjnFUULP"
      }
    },
    {
      "cell_type": "code",
      "source": [
        "divs = soup.find_all('div', class_='detail-box')\n",
        "for div in divs:\n",
        "  try:\n",
        "    if (div.h5 is not None) and ('Patineta' in div.h5.text):\n",
        "        producto = div.h5.get_text(strip=True)\n",
        "        if re.search(\"[4-9]\", producto):\n",
        "          print(producto)\n",
        "  except AttributeError as e:\n",
        "    print(e)"
      ],
      "metadata": {
        "colab": {
          "base_uri": "https://localhost:8080/"
        },
        "id": "7JMn6XboSjrw",
        "outputId": "edd9de65-662c-499e-974e-1f03d02060de"
      },
      "execution_count": 113,
      "outputs": [
        {
          "output_type": "stream",
          "name": "stdout",
          "text": [
            "Patineta Usada 4\n",
            "Patineta Nueva 5\n",
            "Patineta Nueva 6\n",
            "Patineta Nueva 7\n",
            "Patineta Nueva 8\n",
            "Patineta Nueva 9\n"
          ]
        }
      ]
    },
    {
      "cell_type": "markdown",
      "source": [
        "Traer cualquier texto de la pagina que tenga la palabra descuento u oferta."
      ],
      "metadata": {
        "id": "aikLVEutUp2O"
      }
    },
    {
      "cell_type": "code",
      "source": [
        "strings_a_buscar = [\"descuento\", \"oferta\"]\n",
        "URL_BASE = 'https://scrapepark.org/courses/spanish'\n",
        "pedido_obtenido = requests.get(URL_BASE)\n",
        "html_obtenido = pedido_obtenido.text\n",
        "\n",
        "# 2. \"Parsear\" ese HTML\n",
        "soup = BeautifulSoup(html_obtenido, \"html.parser\")\n",
        "\n",
        "\n",
        "for string in strings_a_buscar:\n",
        "  try:\n",
        "    resultado = soup.find(string=re.compile(string))\n",
        "    print(resultado.text)\n",
        "  except AttributeError:\n",
        "    print(f\"El string '{string}' no fue encontrado\")"
      ],
      "metadata": {
        "colab": {
          "base_uri": "https://localhost:8080/"
        },
        "id": "Z_XaxyPOUqoI",
        "outputId": "47c7cee0-7b4b-4197-c2b5-25c4af738b11"
      },
      "execution_count": 120,
      "outputs": [
        {
          "output_type": "stream",
          "name": "stdout",
          "text": [
            "Suscríbete para obtener descuentos y ofertas\n",
            "\r\n",
            "                        Aprovechá nuestras ofertas.\r\n",
            "                      \n"
          ]
        }
      ]
    },
    {
      "cell_type": "markdown",
      "source": [
        "Generar un archivo .csv con dos columnas: Una conteniendo el nombre del cliente y otra su testimonio."
      ],
      "metadata": {
        "id": "gJPJOBrhViFf"
      }
    },
    {
      "cell_type": "code",
      "source": [
        "divs = soup.find_all('div', class_='detail-box')\n",
        "clientes = []\n",
        "testimonios = []\n",
        "for div in divs:\n",
        "  if (div.h5 is not None) and ('Cliente' in div.h5.text) and (div.p is not None):\n",
        "    cliente = div.h5.get_text(strip=True)\n",
        "    testimonio = div.p.get_text(strip=True)\n",
        "    clientes.append(cliente)\n",
        "    testimonios.append(testimonio)\n",
        "print(clientes)\n",
        "print(testimonios)"
      ],
      "metadata": {
        "colab": {
          "base_uri": "https://localhost:8080/"
        },
        "id": "zUF86EU2Wkxb",
        "outputId": "cd114dbb-cc97-414f-d21d-b37ef34ef33e"
      },
      "execution_count": 123,
      "outputs": [
        {
          "output_type": "stream",
          "name": "stdout",
          "text": [
            "['Cliente 1', 'Cliente 2', 'Cliente 3']\n",
            "['Los productos me encantaron y los precios son muy buenos. Lo recomiendo.', '¡La calidad y variedad de patinetas es impresionante! Definitivamente volveré a comprar.', 'Estoy muy conforme. Hay muchas patinetas y los diseños son fantásticos.']\n"
          ]
        }
      ]
    },
    {
      "cell_type": "code",
      "source": [
        "clientes.insert(0, \"clientes\")\n",
        "testimonios.insert(0, \"testimonios\")\n",
        "datosClientesTestimonios = dict(zip(clientes, testimonios))"
      ],
      "metadata": {
        "id": "BHCMtE87XdS_"
      },
      "execution_count": 124,
      "outputs": []
    },
    {
      "cell_type": "code",
      "source": [
        "datosClientesTestimonios.items()"
      ],
      "metadata": {
        "colab": {
          "base_uri": "https://localhost:8080/"
        },
        "id": "q2RJuKtlXnYS",
        "outputId": "3b95f771-1dcb-49f9-c5c0-7e9aec6aadb1"
      },
      "execution_count": 125,
      "outputs": [
        {
          "output_type": "execute_result",
          "data": {
            "text/plain": [
              "dict_items([('clientes', 'testimonios'), ('Cliente 1', 'Los productos me encantaron y los precios son muy buenos. Lo recomiendo.'), ('Cliente 2', '¡La calidad y variedad de patinetas es impresionante! Definitivamente volveré a comprar.'), ('Cliente 3', 'Estoy muy conforme. Hay muchas patinetas y los diseños son fantásticos.')])"
            ]
          },
          "metadata": {},
          "execution_count": 125
        }
      ]
    },
    {
      "cell_type": "code",
      "source": [
        "import csv\n",
        "\n",
        "with open('datosClientesTestimonios.csv','w') as f:\n",
        "    w = csv.writer(f)\n",
        "    w.writerows(datosClientesTestimonios.items())"
      ],
      "metadata": {
        "id": "HkS3BIZuVhoH"
      },
      "execution_count": 127,
      "outputs": []
    }
  ]
}