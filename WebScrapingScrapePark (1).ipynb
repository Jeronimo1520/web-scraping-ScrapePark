{
  "nbformat": 4,
  "nbformat_minor": 0,
  "metadata": {
    "colab": {
      "provenance": []
    },
    "kernelspec": {
      "name": "python3",
      "display_name": "Python 3"
    },
    "language_info": {
      "name": "python"
    }
  },
  "cells": [
    {
      "cell_type": "markdown",
      "source": [
        "# **Web scraping con Python**\n",
        "\n",
        "## *Material complementario del curso dictado por [Gustavo Juantorena](https://github.com/GEJ1) para **freeCodecamp** en español.*\n",
        "\n",
        "### **Link a la web de práctica: https://scrapepark.org/courses/spanish/**\n",
        "\n",
        "Práctica realizada por Jerónimo Bedoya"
      ],
      "metadata": {
        "id": "nyiItlD9OkLd"
      }
    },
    {
      "cell_type": "markdown",
      "source": [
        "# **Hoja de ruta**\n",
        "\n",
        "## 1. Pedidos HTTP con **Requests**\n",
        "## 2. Uso basico de **APIs**\n",
        "## 3. Web Scraping con **Beautiful Soup**\n",
        "\n",
        "\n"
      ],
      "metadata": {
        "id": "TlsL6lQ5O1Yk"
      }
    },
    {
      "cell_type": "markdown",
      "source": [
        "# **Pedidos HTTP con requests**\n"
      ],
      "metadata": {
        "id": "i1_y0iSPO4qd"
      }
    },
    {
      "cell_type": "code",
      "execution_count": 2,
      "metadata": {
        "id": "AHUaF3UPOIEO"
      },
      "outputs": [],
      "source": [
        "import requests\n",
        "import json"
      ]
    },
    {
      "cell_type": "code",
      "source": [
        "# Hacemos un pedido a la página de wikipedia\n",
        "URL = 'https://es.wikipedia.org/'\n",
        "\n",
        "# Guardamos el objeto que nos devuelve\n",
        "\n",
        "response = requests.get(URL)\n",
        "\n",
        "print(f'Tipo de Objeto: {type(response)} \\n')\n",
        "print(f'Código de estado: {response.status_code} \\n') #Exitoso\n",
        "print(f'Data: {response.text} \\n')"
      ],
      "metadata": {
        "id": "SvKFA3zcPi7d"
      },
      "execution_count": null,
      "outputs": []
    },
    {
      "cell_type": "markdown",
      "source": [
        "# **Uso basico de APIs con Python**"
      ],
      "metadata": {
        "id": "xWJhqCkHQKDO"
      }
    },
    {
      "cell_type": "markdown",
      "source": [
        "### Uso de API de manera directa"
      ],
      "metadata": {
        "id": "0k_mJa1nQPbO"
      }
    },
    {
      "cell_type": "markdown",
      "source": [
        "[Sunset and sunrise times API](https://sunrise-sunset.org/api)\n",
        "\n",
        "**Sirve para obtener la hora del amanecer y el ocaso de un determinado día**\n",
        "\n",
        "*Parámetros:*\n",
        "\n",
        "\n",
        "*  **lat** (float): Latitud en grados decimales(Obligatorio)\n",
        "*  **lng** (float): Longitud en grados decimales (obligatorio)\n",
        "*  **date** (string): Fecha en formato AAAA-MM-DD (opcional, por defecto usa el día actual)\n",
        "\n",
        "*Estructura de la query:*\n",
        "\n",
        "`https://api.sunrise-sunset.org/json?`\n",
        "\n",
        "`lat=36.7201600`\n",
        "\n",
        "`&`\n",
        "\n",
        "`lng=-4.4203400`\n",
        "\n",
        "`&`\n",
        "\n",
        "`date=2023-11-22`"
      ],
      "metadata": {
        "id": "o5sQHD9aQRWW"
      }
    },
    {
      "cell_type": "code",
      "source": [
        "# Definimos los parametros de nuestra query\n",
        "latitud = -34.6\n",
        "longitud = -58.4\n",
        "fecha = '2023-11-22' # AAAA-MM-DD"
      ],
      "metadata": {
        "id": "-g5YWn0wQHTL"
      },
      "execution_count": 4,
      "outputs": []
    },
    {
      "cell_type": "code",
      "source": [
        "# Hacemos el pedido y guardamos la respuesta en una nueva variable\n",
        "response_sunset = requests.get(f'https://api.sunrise-sunset.org/json?lat={latitud}%lng={longitud}%date={fecha}')"
      ],
      "metadata": {
        "id": "3Ipt_mABQc99"
      },
      "execution_count": 5,
      "outputs": []
    },
    {
      "cell_type": "code",
      "source": [
        "print(f'Tipo de Objeto: {type(response_sunset)} \\n')\n",
        "print(f'Código de estado: {response_sunset.status_code} \\n') #Exitoso"
      ],
      "metadata": {
        "colab": {
          "base_uri": "https://localhost:8080/"
        },
        "id": "SSOhEgP4QtqU",
        "outputId": "70cb4a69-ccea-418c-a3d0-e557d0750dc3"
      },
      "execution_count": 6,
      "outputs": [
        {
          "output_type": "stream",
          "name": "stdout",
          "text": [
            "Tipo de Objeto: <class 'requests.models.Response'> \n",
            "\n",
            "Código de estado: 200 \n",
            "\n"
          ]
        }
      ]
    },
    {
      "cell_type": "code",
      "source": [
        "# Para des-serializar el objeto (que era tipo 'HTTPResponse') y cargarlo como json\n",
        "datos_sunset = response_sunset.json()\n",
        "print(datos_sunset)"
      ],
      "metadata": {
        "colab": {
          "base_uri": "https://localhost:8080/"
        },
        "id": "bIYLmLHvQ2TH",
        "outputId": "36ed93c2-dc4a-4dcb-9a9b-e878c25f438d"
      },
      "execution_count": 7,
      "outputs": [
        {
          "output_type": "stream",
          "name": "stdout",
          "text": [
            "{'results': {'sunrise': '4:40:42 AM', 'sunset': '6:52:29 PM', 'solar_noon': '11:46:36 AM', 'day_length': '14:11:47', 'civil_twilight_begin': '4:13:44 AM', 'civil_twilight_end': '7:19:27 PM', 'nautical_twilight_begin': '3:39:01 AM', 'nautical_twilight_end': '7:54:10 PM', 'astronomical_twilight_begin': '3:01:33 AM', 'astronomical_twilight_end': '8:31:38 PM'}, 'status': 'OK'}\n"
          ]
        }
      ]
    },
    {
      "cell_type": "code",
      "source": [
        "print(type(datos_sunset))\n",
        "datos_sunset.keys()"
      ],
      "metadata": {
        "colab": {
          "base_uri": "https://localhost:8080/"
        },
        "id": "JBGjIR0XRHuV",
        "outputId": "a83ca679-16be-4914-e641-28795bd55a86"
      },
      "execution_count": 8,
      "outputs": [
        {
          "output_type": "stream",
          "name": "stdout",
          "text": [
            "<class 'dict'>\n"
          ]
        },
        {
          "output_type": "execute_result",
          "data": {
            "text/plain": [
              "dict_keys(['results', 'status'])"
            ]
          },
          "metadata": {},
          "execution_count": 8
        }
      ]
    },
    {
      "cell_type": "code",
      "source": [
        "# Evaluamos el status del pedido\n",
        "sunset_status = datos_sunset['status']\n",
        "print(f'Status: {sunset_status}')"
      ],
      "metadata": {
        "colab": {
          "base_uri": "https://localhost:8080/"
        },
        "id": "Sxs3kTI-RPjU",
        "outputId": "5b7bd3d4-6c89-4e2f-fe2f-7786da233489"
      },
      "execution_count": 9,
      "outputs": [
        {
          "output_type": "stream",
          "name": "stdout",
          "text": [
            "Status: OK\n"
          ]
        }
      ]
    },
    {
      "cell_type": "code",
      "source": [
        "datos_sunset['results']['sunset']"
      ],
      "metadata": {
        "colab": {
          "base_uri": "https://localhost:8080/",
          "height": 36
        },
        "id": "Rwcujq2cRLFG",
        "outputId": "b324387c-5cb1-4f42-c793-976a8b2570dd"
      },
      "execution_count": 10,
      "outputs": [
        {
          "output_type": "execute_result",
          "data": {
            "text/plain": [
              "'6:52:29 PM'"
            ],
            "application/vnd.google.colaboratory.intrinsic+json": {
              "type": "string"
            }
          },
          "metadata": {},
          "execution_count": 10
        }
      ]
    },
    {
      "cell_type": "code",
      "source": [
        "# Podemos ver su contenido ya que  son diccionarios anidados:\n",
        "sunset = datos_sunset['results']['sunset']\n",
        "print(f'El {fecha} el sol se ocultó a las {sunset} (UTC)')"
      ],
      "metadata": {
        "colab": {
          "base_uri": "https://localhost:8080/"
        },
        "id": "ToRpavQ_RW9G",
        "outputId": "de4378c7-88db-4443-dd12-a2ca281578a6"
      },
      "execution_count": 11,
      "outputs": [
        {
          "output_type": "stream",
          "name": "stdout",
          "text": [
            "El 2023-11-22 el sol se ocultó a las 6:52:29 PM (UTC)\n"
          ]
        }
      ]
    },
    {
      "cell_type": "code",
      "source": [
        "# tambien podriamos iterar sobre sus claves\n",
        "print(\"Iterando data_sunset['results']:\")\n",
        "for elemento in datos_sunset['results']:\n",
        "  print(elemento)"
      ],
      "metadata": {
        "colab": {
          "base_uri": "https://localhost:8080/"
        },
        "id": "3x7b7wBxRedT",
        "outputId": "af240300-e1c4-4c96-ec82-d1d6fbd5e4b1"
      },
      "execution_count": 12,
      "outputs": [
        {
          "output_type": "stream",
          "name": "stdout",
          "text": [
            "Iterando data_sunset['results']:\n",
            "sunrise\n",
            "sunset\n",
            "solar_noon\n",
            "day_length\n",
            "civil_twilight_begin\n",
            "civil_twilight_end\n",
            "nautical_twilight_begin\n",
            "nautical_twilight_end\n",
            "astronomical_twilight_begin\n",
            "astronomical_twilight_end\n"
          ]
        }
      ]
    },
    {
      "cell_type": "markdown",
      "source": [
        "### **Uso de API por medio de una librería: Wikipedia**\n",
        "\n",
        "Wikipedia-API es un *wrapper* de Python fácil de usar para la API de Wikipedia. Admite la extracción de textos, secciones, enlaces, categorías, traducciones, etc.\n",
        "\n",
        "Repositorio: https://github.com/martin-majlis/Wikipedia-API\n",
        "\n",
        "Documentación: https://wikipedia-api.readthedocs.io/en/latest/README.html\n",
        "\n",
        "\n",
        "\n",
        "\n"
      ],
      "metadata": {
        "id": "WGJOPc1qTAIO"
      }
    },
    {
      "cell_type": "code",
      "source": [
        "# Instalamos el paquete porque no viene con Colab\n",
        "!pip3 install --force-reinstall -v  \"wikipedia-api==0.5.8\""
      ],
      "metadata": {
        "id": "yDZdav-lTFCs"
      },
      "execution_count": null,
      "outputs": []
    },
    {
      "cell_type": "code",
      "source": [
        "# Ahora si podemos importarlo\n",
        "import wikipediaapi\n",
        "\n",
        "# Chequear versión\n",
        "print(wikipediaapi.__version__)"
      ],
      "metadata": {
        "colab": {
          "base_uri": "https://localhost:8080/"
        },
        "id": "F7tIDP8kTRpE",
        "outputId": "a8e64bc8-cbe8-4563-9406-bd3b3cfb024b"
      },
      "execution_count": 14,
      "outputs": [
        {
          "output_type": "stream",
          "name": "stdout",
          "text": [
            "(0, 5, 8)\n"
          ]
        }
      ]
    },
    {
      "cell_type": "code",
      "source": [
        "# Instanciamos la clase wikipediaapi y utilizamos el metodo Wikipedia con el parametro de idioma\n",
        "IDIOMA = 'es'\n",
        "wiki_wiki = wikipediaapi.Wikipedia(IDIOMA)\n",
        "\n",
        "# Usamos el metodo page para y hacemos un pedido con una palabra clave\n",
        "PALABRA_CLAVE = 'programación'\n",
        "wikipedia_programacion = wiki_wiki.page(PALABRA_CLAVE)\n",
        "\n",
        "print(f'wikipedia_programacion es un objeto de tipo: \\n \\n{type(wikipedia_programacion)}')"
      ],
      "metadata": {
        "colab": {
          "base_uri": "https://localhost:8080/"
        },
        "id": "n1c9H7NPTVlD",
        "outputId": "6e715e61-8e2b-4cdc-c4e1-f9a36ab1b75c"
      },
      "execution_count": 15,
      "outputs": [
        {
          "output_type": "stream",
          "name": "stdout",
          "text": [
            "wikipedia_programacion es un objeto de tipo: \n",
            " \n",
            "<class 'wikipediaapi.WikipediaPage'>\n"
          ]
        }
      ]
    },
    {
      "cell_type": "code",
      "source": [
        "# Resumen\n",
        "print(wikipedia_programacion.title)\n",
        "print(' ')\n",
        "print(wikipedia_programacion.summary)\n",
        "print(' ')\n",
        "print(wikipedia_programacion.text)\n",
        "print(wikipedia_programacion.sections)"
      ],
      "metadata": {
        "id": "k-6-RhyGTaLU"
      },
      "execution_count": null,
      "outputs": []
    },
    {
      "cell_type": "code",
      "source": [
        "def print_categories(page):\n",
        "        categories = wikipedia_programacion.categories\n",
        "        for title in sorted(categories.keys()):\n",
        "            print(\"%s: %s\" % (title, categories[title]))\n",
        "\n",
        "\n",
        "print(\"Categories\")\n",
        "print_categories(wikipedia_programacion)"
      ],
      "metadata": {
        "colab": {
          "base_uri": "https://localhost:8080/"
        },
        "id": "XVlNj23KT_Bm",
        "outputId": "a46f9432-274b-4b92-eb35-3d55bc634612"
      },
      "execution_count": 17,
      "outputs": [
        {
          "output_type": "stream",
          "name": "stdout",
          "text": [
            "Categories\n",
            "Categoría:Programación: Categoría:Programación (id: ??, ns: 14)\n",
            "Categoría:Wikipedia:Artículos con identificadores AAT: Categoría:Wikipedia:Artículos con identificadores AAT (id: ??, ns: 14)\n",
            "Categoría:Wikipedia:Artículos con identificadores BNE: Categoría:Wikipedia:Artículos con identificadores BNE (id: ??, ns: 14)\n",
            "Categoría:Wikipedia:Artículos con identificadores BNF: Categoría:Wikipedia:Artículos con identificadores BNF (id: ??, ns: 14)\n",
            "Categoría:Wikipedia:Artículos con identificadores GND: Categoría:Wikipedia:Artículos con identificadores GND (id: ??, ns: 14)\n",
            "Categoría:Wikipedia:Artículos con identificadores LCCN: Categoría:Wikipedia:Artículos con identificadores LCCN (id: ??, ns: 14)\n",
            "Categoría:Wikipedia:Artículos que necesitan referencias adicionales: Categoría:Wikipedia:Artículos que necesitan referencias adicionales (id: ??, ns: 14)\n",
            "Categoría:Wikipedia:Páginas con referencias con parámetros obsoletos: Categoría:Wikipedia:Páginas con referencias con parámetros obsoletos (id: ??, ns: 14)\n",
            "Categoría:Wikipedia:Referenciar (aún sin clasificar): Categoría:Wikipedia:Referenciar (aún sin clasificar) (id: ??, ns: 14)\n"
          ]
        }
      ]
    },
    {
      "cell_type": "code",
      "source": [
        "# Url completa\n",
        "print(wikipedia_programacion.fullurl)"
      ],
      "metadata": {
        "colab": {
          "base_uri": "https://localhost:8080/"
        },
        "id": "t--1KjCbAs2k",
        "outputId": "7d849871-d2a6-43c7-b0f9-440cd1cc83fc"
      },
      "execution_count": 18,
      "outputs": [
        {
          "output_type": "stream",
          "name": "stdout",
          "text": [
            "https://es.wikipedia.org/wiki/Programaci%C3%B3n\n"
          ]
        }
      ]
    },
    {
      "cell_type": "markdown",
      "source": [
        "# **BeautifulSoup**\n",
        "Documentación oficial: https://beautiful-soup-4.readthedocs.io/en/latest/\n"
      ],
      "metadata": {
        "id": "ggQ5kZHZBSds"
      }
    },
    {
      "cell_type": "markdown",
      "source": [
        "## **Generalidades**\n",
        "\n",
        "Vamos a practicar con https://scrapepark.org/spanish/\n"
      ],
      "metadata": {
        "id": "raNqbcfZBUl9"
      }
    },
    {
      "cell_type": "code",
      "source": [
        "from bs4 import BeautifulSoup\n",
        "import requests"
      ],
      "metadata": {
        "id": "e7GiMoYlBXFc"
      },
      "execution_count": 19,
      "outputs": []
    },
    {
      "cell_type": "code",
      "source": [
        "# Versiones\n",
        "import bs4 # Solo para el chequeo\n",
        "print(\"Versión de BeautifulSoup:\",bs4.__version__)\n",
        "print(\"Versión de requests:\", requests.__version__)"
      ],
      "metadata": {
        "colab": {
          "base_uri": "https://localhost:8080/"
        },
        "id": "2R-JX-wsBZg9",
        "outputId": "bfcfb146-32c6-47e3-c145-45381b91a5c4"
      },
      "execution_count": 20,
      "outputs": [
        {
          "output_type": "stream",
          "name": "stdout",
          "text": [
            "Versión de BeautifulSoup: 4.11.2\n",
            "Versión de requests: 2.31.0\n"
          ]
        }
      ]
    },
    {
      "cell_type": "code",
      "source": [
        "# Empezamos el scraping\n",
        "\n",
        "# 1. Obtener el HTML\n",
        "URL_BASE = 'https://scrapepark.org/courses/spanish/'\n",
        "pedido_obtenido = requests.get(URL_BASE)\n",
        "html_obtenido = pedido_obtenido.text\n",
        "\n",
        "# 2. \"Parsear\" ese HTML\n",
        "soup = BeautifulSoup(html_obtenido, \"html.parser\")\n",
        "print(type(soup))"
      ],
      "metadata": {
        "colab": {
          "base_uri": "https://localhost:8080/"
        },
        "id": "-0dvc1n4BeXe",
        "outputId": "d1eb9e98-75ff-4083-a832-6d673d3b1afb"
      },
      "execution_count": 21,
      "outputs": [
        {
          "output_type": "stream",
          "name": "stdout",
          "text": [
            "<class 'bs4.BeautifulSoup'>\n"
          ]
        }
      ]
    },
    {
      "cell_type": "markdown",
      "source": [
        "## **El método `find()`**\n",
        "\n",
        "Nos permite quedarnos con la información asociada a una etiqueta de HTML"
      ],
      "metadata": {
        "id": "3TWh9Lx1B7HZ"
      }
    },
    {
      "cell_type": "code",
      "source": [
        "primer_h2 = soup.find('h2')\n",
        "print(primer_h2)"
      ],
      "metadata": {
        "colab": {
          "base_uri": "https://localhost:8080/"
        },
        "id": "mmHADvolB4iN",
        "outputId": "f9548366-4594-47df-aac2-5d69ed83c422"
      },
      "execution_count": 22,
      "outputs": [
        {
          "output_type": "stream",
          "name": "stdout",
          "text": [
            "<h2>¿Por qué comprar con nosotros?</h2>\n"
          ]
        }
      ]
    },
    {
      "cell_type": "code",
      "source": [
        "# Solo el texto\n",
        "print(primer_h2.text)\n",
        "\n",
        "# equivalente a:\n",
        "print(soup.h2.text)"
      ],
      "metadata": {
        "colab": {
          "base_uri": "https://localhost:8080/"
        },
        "id": "xsj7Gxy8CEUj",
        "outputId": "3764ca7a-a68a-457c-e2e4-adf6d668538e"
      },
      "execution_count": 23,
      "outputs": [
        {
          "output_type": "stream",
          "name": "stdout",
          "text": [
            "¿Por qué comprar con nosotros?\n",
            "¿Por qué comprar con nosotros?\n"
          ]
        }
      ]
    },
    {
      "cell_type": "markdown",
      "source": [
        "## **El método `find_all()`**\n",
        "\n",
        "Busca **TODOS** los elementos de la página con esa etiqueta y devuelve una \"lista\" que los contiene (en realidad devuelve un objeto de la clase *bs4.element.ResultSet*)."
      ],
      "metadata": {
        "id": "mqpFl7FUDQiT"
      }
    },
    {
      "cell_type": "code",
      "source": [
        "h2_todos = soup.find_all('h2')\n",
        "print(h2_todos)"
      ],
      "metadata": {
        "colab": {
          "base_uri": "https://localhost:8080/"
        },
        "id": "M7bKlefnDRTU",
        "outputId": "de754657-9ab7-47b2-e115-d812c5de5365"
      },
      "execution_count": 24,
      "outputs": [
        {
          "output_type": "stream",
          "name": "stdout",
          "text": [
            "[<h2>¿Por qué comprar con nosotros?</h2>, <h2>\r\n",
            "                  #Novedades\r\n",
            "                </h2>, <h2>\r\n",
            "            Nuestros <span>productos</span>\n",
            "</h2>, <h2>\r\n",
            "            Testimonios de clientes\r\n",
            "          </h2>, <h2 class=\"heading-container\">\r\n",
            "          Tabla de precios\r\n",
            "        </h2>]\n"
          ]
        }
      ]
    },
    {
      "cell_type": "code",
      "source": [
        "# ARGUMENTOS\n",
        "# Si usamos el parametro limit = 1, emulamos al metodo find\n",
        "h2_uno_solo = soup.find_all('h2',limit=1)\n",
        "print(h2_uno_solo)"
      ],
      "metadata": {
        "colab": {
          "base_uri": "https://localhost:8080/"
        },
        "id": "M08NbXMoDfSr",
        "outputId": "f92ef43b-5a72-423d-f0e9-34a779e12245"
      },
      "execution_count": 25,
      "outputs": [
        {
          "output_type": "stream",
          "name": "stdout",
          "text": [
            "[<h2>¿Por qué comprar con nosotros?</h2>]\n"
          ]
        }
      ]
    },
    {
      "cell_type": "code",
      "source": [
        "# Podemos iterar sobre el objeto\n",
        "for seccion in h2_todos:\n",
        "  print(seccion.text)"
      ],
      "metadata": {
        "colab": {
          "base_uri": "https://localhost:8080/"
        },
        "id": "LkWQCdfZDkNV",
        "outputId": "ce424e32-788e-4918-a847-43e9ea8baf56"
      },
      "execution_count": 26,
      "outputs": [
        {
          "output_type": "stream",
          "name": "stdout",
          "text": [
            "¿Por qué comprar con nosotros?\n",
            "\r\n",
            "                  #Novedades\r\n",
            "                \n",
            "\r\n",
            "            Nuestros productos\n",
            "\n",
            "\r\n",
            "            Testimonios de clientes\r\n",
            "          \n",
            "\r\n",
            "          Tabla de precios\r\n",
            "        \n"
          ]
        }
      ]
    },
    {
      "cell_type": "code",
      "source": [
        "# get_text() para más funcionalidades\n",
        "for seccion in h2_todos:\n",
        "  print(seccion.get_text(strip=True))"
      ],
      "metadata": {
        "colab": {
          "base_uri": "https://localhost:8080/"
        },
        "id": "X1XrX8jQDmrm",
        "outputId": "deb3db7b-f4d4-4823-a821-282077c9c0a6"
      },
      "execution_count": 27,
      "outputs": [
        {
          "output_type": "stream",
          "name": "stdout",
          "text": [
            "¿Por qué comprar con nosotros?\n",
            "#Novedades\n",
            "Nuestrosproductos\n",
            "Testimonios de clientes\n",
            "Tabla de precios\n"
          ]
        }
      ]
    },
    {
      "cell_type": "markdown",
      "source": [
        "## **Utilizando atributos de las etiquetas**"
      ],
      "metadata": {
        "id": "cbTUkDguDzMU"
      }
    },
    {
      "cell_type": "code",
      "source": [
        "divs = soup.find_all('div', class_= \"heading-container heading-center\")\n",
        "\n",
        "for div in divs:\n",
        "  print(div.get_text(strip=True))\n",
        "\n",
        "print(' ')\n",
        "\n",
        "for div in divs:\n",
        "  print(div.text)"
      ],
      "metadata": {
        "colab": {
          "base_uri": "https://localhost:8080/"
        },
        "id": "i_7zoiS1DylU",
        "outputId": "20f9ed5f-1f4a-435d-9836-32d15d3dd21e"
      },
      "execution_count": 28,
      "outputs": [
        {
          "output_type": "stream",
          "name": "stdout",
          "text": [
            "¿Por qué comprar con nosotros?\n",
            "Nuestrosproductos\n",
            "Suscríbete para obtener descuentos y ofertas\n",
            "Testimonios de clientes\n",
            " \n",
            "\n",
            "¿Por qué comprar con nosotros?\n",
            "\n",
            "\n",
            "\r\n",
            "            Nuestros productos\n",
            "\n",
            "\n",
            "\n",
            "Suscríbete para obtener descuentos y ofertas\n",
            "\n",
            "\n",
            "\r\n",
            "            Testimonios de clientes\r\n",
            "          \n",
            "\n"
          ]
        }
      ]
    },
    {
      "cell_type": "code",
      "source": [
        "# Todas las etiquetas que tengan el atributo \"src\"\n",
        "src_todos = soup.find_all(src=True)\n",
        "print(src_todos)\n",
        "print(' ')\n",
        "for elemento in src_todos:\n",
        "  if elemento['src'].endswith(\".js\"):\n",
        "    print(elemento)\n"
      ],
      "metadata": {
        "colab": {
          "base_uri": "https://localhost:8080/"
        },
        "id": "Ld2uZiRvFiRu",
        "outputId": "e5d25f0e-dbd4-402d-ce3c-aa91ecd2a5c5"
      },
      "execution_count": 29,
      "outputs": [
        {
          "output_type": "stream",
          "name": "stdout",
          "text": [
            "[<img alt=\"Logo de ScrapePark.org\" src=\"images/logo.svg\" width=\"250\"/>, <img alt=\"Parque de patinaje\" src=\"images/slider-bg.jpg\"/>, <img alt=\"Variedad de patinetas en la tienda\" src=\"images/arrival-bg-store.png\"/>, <img alt=\"Patineta 1\" src=\"images/p1.png\"/>, <img alt=\"Patineta 2\" src=\"images/p2.jpg\"/>, <img alt=\"Patineta 3\" src=\"images/p3.png\"/>, <img alt=\"Patineta 4\" src=\"images/p4.png\"/>, <img alt=\"Patineta 5\" src=\"images/p5.png\"/>, <img alt=\"Patineta 6\" src=\"images/p6.png\"/>, <img alt=\"Patineta 7\" src=\"images/p7.png\"/>, <img alt=\"Patineta 8\" src=\"images/p8.png\"/>, <img alt=\"Patineta 9\" src=\"images/p9.png\"/>, <img alt=\"Patineta 10\" src=\"images/p10.png\"/>, <img alt=\"Patineta 11\" src=\"images/p11.png\"/>, <img alt=\"Patineta 12\" src=\"images/p12.png\"/>, <img alt=\"Cliente 1\" src=\"images/client-one.png\"/>, <img alt=\"Cliente 2\" src=\"images/client-two.png\"/>, <img alt=\"Cliente 3\" src=\"images/client-three.png\"/>, <iframe src=\"table.html\" title=\"table_iframe\"></iframe>, <img alt=\"#\" src=\"images/logo.svg\" width=\"210\"/>, <img alt=\"Logo de freeCodeCamp\" class=\"freecodecamp-logo\" src=\"./images/freecodecamp-logo.png\"/>, <script src=\"js/jquery-3.4.1.min.js\"></script>, <script src=\"js/popper.min.js\"></script>, <script src=\"js/bootstrap.js\"></script>]\n",
            " \n",
            "<script src=\"js/jquery-3.4.1.min.js\"></script>\n",
            "<script src=\"js/popper.min.js\"></script>\n",
            "<script src=\"js/bootstrap.js\"></script>\n"
          ]
        }
      ]
    },
    {
      "cell_type": "markdown",
      "source": [
        "## Ejercicio: Bajar todas las imagenes!"
      ],
      "metadata": {
        "id": "3a5LpQM1G60_"
      }
    },
    {
      "cell_type": "code",
      "source": [
        "url_imagenes = []\n",
        "for i, imagen in enumerate(src_todos):\n",
        "  if imagen['src'].endswith('png'):\n",
        "    print(imagen['src'])\n",
        "\n",
        "    r = requests.get(f\" https://scrapepark.org/courses/spanish/{imagen['src']}\")\n",
        "    print(r)\n",
        "    with open(f'imagen_{i}.png', 'wb') as f: #Descarga las imagenes\n",
        "      f.write(r.content)"
      ],
      "metadata": {
        "colab": {
          "base_uri": "https://localhost:8080/"
        },
        "id": "O7aNja6_HDyM",
        "outputId": "1fa552e5-a320-4c33-a5e2-518ecc251aa6"
      },
      "execution_count": 30,
      "outputs": [
        {
          "output_type": "stream",
          "name": "stdout",
          "text": [
            "images/arrival-bg-store.png\n",
            "<Response [200]>\n",
            "images/p1.png\n",
            "<Response [200]>\n",
            "images/p3.png\n",
            "<Response [200]>\n",
            "images/p4.png\n",
            "<Response [200]>\n",
            "images/p5.png\n",
            "<Response [200]>\n",
            "images/p6.png\n",
            "<Response [200]>\n",
            "images/p7.png\n",
            "<Response [200]>\n",
            "images/p8.png\n",
            "<Response [200]>\n",
            "images/p9.png\n",
            "<Response [200]>\n",
            "images/p10.png\n",
            "<Response [200]>\n",
            "images/p11.png\n",
            "<Response [200]>\n",
            "images/p12.png\n",
            "<Response [200]>\n",
            "images/client-one.png\n",
            "<Response [200]>\n",
            "images/client-two.png\n",
            "<Response [200]>\n",
            "images/client-three.png\n",
            "<Response [200]>\n",
            "./images/freecodecamp-logo.png\n",
            "<Response [200]>\n"
          ]
        }
      ]
    },
    {
      "cell_type": "code",
      "source": [
        "soup.find_all('iframe')[0]['src']"
      ],
      "metadata": {
        "colab": {
          "base_uri": "https://localhost:8080/",
          "height": 36
        },
        "id": "9bf3YzpG41gA",
        "outputId": "a2d7ee41-339e-4e3b-db12-59ea72c23b65"
      },
      "execution_count": 31,
      "outputs": [
        {
          "output_type": "execute_result",
          "data": {
            "text/plain": [
              "'table.html'"
            ],
            "application/vnd.google.colaboratory.intrinsic+json": {
              "type": "string"
            }
          },
          "metadata": {},
          "execution_count": 31
        }
      ]
    },
    {
      "cell_type": "code",
      "source": [
        "# Información de tablas\n",
        "\n",
        "URL_BASE = 'https://scrapepark.org/courses/spanish'\n",
        "URL_TABLA = soup.find_all('iframe')[0]['src']\n",
        "\n",
        "request_tabla = requests.get(f'{URL_BASE}/{URL_TABLA}')\n",
        "\n",
        "html_tabla = request_tabla.text\n",
        "soup_tabla = BeautifulSoup(html_tabla, \"html.parser\")\n",
        "soup_tabla.find('table')\n",
        "\n",
        "productos_faltantes = soup_tabla.find_all(['th', 'td'], attrs={'style':'color: red;'})\n",
        "productos_faltantes = [talle.text for talle in productos_faltantes]\n",
        "\n",
        "print(productos_faltantes)"
      ],
      "metadata": {
        "colab": {
          "base_uri": "https://localhost:8080/"
        },
        "id": "k4G8E9i64-4N",
        "outputId": "a857a3f2-8ca5-44ee-d4a1-aa307c1d9113"
      },
      "execution_count": 33,
      "outputs": [
        {
          "output_type": "stream",
          "name": "stdout",
          "text": [
            "['Longboard', '$80', '$85', '$90', '$62', '$150']\n"
          ]
        }
      ]
    },
    {
      "cell_type": "code",
      "source": [
        "divs = soup.find_all('div', class_='detail-box')\n",
        "productos = []\n",
        "precios = []\n",
        "\n",
        "for div in divs:\n",
        "  if (div.h6 is not None) and ('Patineta' in div.h5.text):\n",
        "    producto = div.h5.get_text(strip=True)\n",
        "    precio = div.h6.get_text(strip=True).replace('$', '')\n",
        "    # Se puede agregar filtros\n",
        "    print(f'producto: {producto:<16} | precio: {precio}')\n",
        "    productos.append(producto)\n",
        "    precios.append(precio)\n",
        "print(precios)\n",
        "print(productos)"
      ],
      "metadata": {
        "colab": {
          "base_uri": "https://localhost:8080/"
        },
        "id": "-06iorD87ZoT",
        "outputId": "70140408-d2e4-456d-dca8-74f09a224d68"
      },
      "execution_count": 42,
      "outputs": [
        {
          "output_type": "stream",
          "name": "stdout",
          "text": [
            "producto: Patineta Nueva 1 | precio: 75\n",
            "producto: Patineta Usada 2 | precio: 80\n",
            "producto: Patineta Nueva 3 | precio: 68\n",
            "producto: Patineta Usada 4 | precio: 70\n",
            "producto: Patineta Nueva 5 | precio: 75\n",
            "producto: Patineta Nueva 6 | precio: 58\n",
            "producto: Patineta Nueva 7 | precio: 80\n",
            "producto: Patineta Nueva 8 | precio: 35\n",
            "producto: Patineta Nueva 9 | precio: 165\n",
            "producto: Patineta Usada 10 | precio: 54\n",
            "producto: Patineta Usada 11 | precio: 99\n",
            "producto: Patineta Nueva 12 | precio: 110\n",
            "['75', '80', '68', '70', '75', '58', '80', '35', '165', '54', '99', '110']\n",
            "['Patineta Nueva 1', 'Patineta Usada 2', 'Patineta Nueva 3', 'Patineta Usada 4', 'Patineta Nueva 5', 'Patineta Nueva 6', 'Patineta Nueva 7', 'Patineta Nueva 8', 'Patineta Nueva 9', 'Patineta Usada 10', 'Patineta Usada 11', 'Patineta Nueva 12']\n"
          ]
        }
      ]
    },
    {
      "cell_type": "code",
      "source": [
        "URL_BASE = \"https://scrapepark.org/courses/spanish/contact\"\n",
        "\n",
        "for i in range(1,3):\n",
        "  URL_FINAL = f\"{URL_BASE}{i}\"\n",
        "  print(URL_FINAL)\n",
        "  r = requests.get(URL_FINAL)\n",
        "  soup = BeautifulSoup(r.text, \"html.parser\")\n",
        "  print(soup.h5.text)"
      ],
      "metadata": {
        "colab": {
          "base_uri": "https://localhost:8080/"
        },
        "id": "lJBkxQ2b9UR4",
        "outputId": "c187ff7d-0bb2-421e-cc52-873f500f6bb0"
      },
      "execution_count": 47,
      "outputs": [
        {
          "output_type": "stream",
          "name": "stdout",
          "text": [
            "https://scrapepark.org/courses/spanish/contact1\n",
            "Texto que cambia entre páginas en contacto 1 :)\n",
            "https://scrapepark.org/courses/spanish/contact2\n",
            "Texto que cambia entre páginas en contacto 2 :)\n"
          ]
        }
      ]
    },
    {
      "cell_type": "markdown",
      "source": [
        "## **Datos que no sabemos en que parte de la página se encuentran**"
      ],
      "metadata": {
        "id": "JAVVZTobGZEO"
      }
    },
    {
      "cell_type": "code",
      "source": [
        "# Expresiones regulares\n",
        "import re\n",
        "\n",
        "# 1. Obtener el HTML\n",
        "URL_BASE = 'https://scrapepark.org/courses/spanish'\n",
        "pedido_obtenido = requests.get(URL_BASE)\n",
        "html_obtenido = pedido_obtenido.text\n",
        "\n",
        "# 2. \"Parsear\" ese HTML\n",
        "soup = BeautifulSoup(html_obtenido, \"html.parser\")\n",
        "\n",
        "telefonos = soup.find_all(string=re.compile(\"\\d+-\\d+-\\d+\")) # Expresion regular para obtener el numero de contacto de la pagina\n",
        "telefonos"
      ],
      "metadata": {
        "colab": {
          "base_uri": "https://localhost:8080/"
        },
        "id": "mcQRyD9AGZtu",
        "outputId": "e02e7189-b789-4b54-a16e-dcf0cd7d7a87"
      },
      "execution_count": 48,
      "outputs": [
        {
          "output_type": "execute_result",
          "data": {
            "text/plain": [
              "[' 4-444-4444']"
            ]
          },
          "metadata": {},
          "execution_count": 48
        }
      ]
    },
    {
      "cell_type": "markdown",
      "source": [
        "## **Moviéndonos por el árbol**\n",
        "\n",
        "Para saber más: https://www.crummy.com/software/BeautifulSoup/bs4/doc/#searching-the-tree"
      ],
      "metadata": {
        "id": "5mfvrDozIHdJ"
      }
    },
    {
      "cell_type": "code",
      "source": [
        "copyrights = soup.find_all(string=re.compile(\"©\")) #Encontrar donde hayan simbolos de copyrigth\n",
        "copyrights[0]"
      ],
      "metadata": {
        "colab": {
          "base_uri": "https://localhost:8080/",
          "height": 36
        },
        "id": "gkyZ1GPtIG6r",
        "outputId": "8fb45560-6e88-406a-decd-e877611e636b"
      },
      "execution_count": 49,
      "outputs": [
        {
          "output_type": "execute_result",
          "data": {
            "text/plain": [
              "'© 2022 '"
            ],
            "application/vnd.google.colaboratory.intrinsic+json": {
              "type": "string"
            }
          },
          "metadata": {},
          "execution_count": 49
        }
      ]
    },
    {
      "cell_type": "code",
      "source": [
        "primer_copyright = copyrights[0]\n",
        "primer_copyright.parent #Componente padre de donde esta el simbolo"
      ],
      "metadata": {
        "colab": {
          "base_uri": "https://localhost:8080/"
        },
        "id": "ciKYt5idIQeH",
        "outputId": "e856e6bb-cfae-4394-876c-723180ec3a53"
      },
      "execution_count": 50,
      "outputs": [
        {
          "output_type": "execute_result",
          "data": {
            "text/plain": [
              "<p>© 2022 <span>Todos los derechos reservados</span>.\n",
              "        <a href=\"https://html.design/\" rel=\"noopener noreferrer\" target=\"_blank\">Creado con Free Html Templates</a>.\n",
              "      </p>"
            ]
          },
          "metadata": {},
          "execution_count": 50
        }
      ]
    },
    {
      "cell_type": "code",
      "source": [
        "# # Otro ejemplo con elementos al mismo nivel\n",
        "menu = soup.find(string=re.compile(\"MENÚ\"))\n",
        "print(menu.parent) #Componente padre del componente donde esta la palabra menu\n",
        "print(' ')\n",
        "print(menu.parent.parent) #Componente padre del padre del componente donde esta la palabra menu\n",
        "print(' ')\n",
        "menu.parent.find_next_siblings() #Componente al mismo nivel del componente donde esta menu"
      ],
      "metadata": {
        "colab": {
          "base_uri": "https://localhost:8080/"
        },
        "id": "DQ6J2KvOIZJj",
        "outputId": "016f5f87-b7e6-46c7-9ee8-c0fec6ec3926"
      },
      "execution_count": 58,
      "outputs": [
        {
          "output_type": "stream",
          "name": "stdout",
          "text": [
            "<h3 class=\"menu\">MENÚ</h3>\n",
            " \n",
            "<div class=\"widget-menu\">\n",
            "<h3 class=\"menu\">MENÚ</h3>\n",
            "<ul>\n",
            "<li><a href=\"#\">Inicio</a></li>\n",
            "<li><a href=\"#\">Acerca</a></li>\n",
            "<li><a href=\"#\">Servicios</a></li>\n",
            "<li><a href=\"#\">Testimonios</a></li>\n",
            "<li><a href=\"#\">Contacto</a></li>\n",
            "</ul>\n",
            "</div>\n",
            " \n"
          ]
        },
        {
          "output_type": "execute_result",
          "data": {
            "text/plain": [
              "[<ul>\n",
              " <li><a href=\"#\">Inicio</a></li>\n",
              " <li><a href=\"#\">Acerca</a></li>\n",
              " <li><a href=\"#\">Servicios</a></li>\n",
              " <li><a href=\"#\">Testimonios</a></li>\n",
              " <li><a href=\"#\">Contacto</a></li>\n",
              " </ul>]"
            ]
          },
          "metadata": {},
          "execution_count": 58
        }
      ]
    },
    {
      "cell_type": "markdown",
      "source": [
        "## **Comentario sobre excepciones**\n",
        "https://docs.python.org/es/3/tutorial/errors.html"
      ],
      "metadata": {
        "id": "byu-wNmtKAjz"
      }
    },
    {
      "cell_type": "code",
      "source": [
        "strings_a_buscar = [\"MENÚ\", \"©\", \"carpincho\", \"Patineta\"]\n",
        "\n",
        "for string in strings_a_buscar:\n",
        "  try:\n",
        "    resultado = soup.find(string=re.compile(string))\n",
        "    print(resultado.text)\n",
        "  except AttributeError:\n",
        "    print(f\"El string '{string}' no fue encontrado\")\n",
        ""
      ],
      "metadata": {
        "colab": {
          "base_uri": "https://localhost:8080/"
        },
        "id": "m88uNoTEJ-l9",
        "outputId": "669b4c1b-2c54-424b-9c80-57fbe687e64e"
      },
      "execution_count": 59,
      "outputs": [
        {
          "output_type": "stream",
          "name": "stdout",
          "text": [
            "MENÚ\n",
            "© 2022 \n",
            "El string 'carpincho' no fue encontrado\n",
            "\r\n",
            "                  Patineta Nueva 1\r\n",
            "                \n"
          ]
        }
      ]
    },
    {
      "cell_type": "markdown",
      "source": [
        "## **Almacenamiento de los datos**"
      ],
      "metadata": {
        "id": "nPzCe2LrKVSa"
      }
    },
    {
      "cell_type": "code",
      "source": [
        "productos.insert(0, \"productos\")\n",
        "precios.insert(0, \"precios\")\n",
        "# datos = dict(zip(productos, precios))"
      ],
      "metadata": {
        "id": "-C4i2SDLKVAn"
      },
      "execution_count": 63,
      "outputs": []
    },
    {
      "cell_type": "code",
      "source": [
        "precios"
      ],
      "metadata": {
        "colab": {
          "base_uri": "https://localhost:8080/"
        },
        "id": "Josr1S21LVMt",
        "outputId": "8222379c-d531-45f1-b9d0-6012356cb5e9"
      },
      "execution_count": 66,
      "outputs": [
        {
          "output_type": "execute_result",
          "data": {
            "text/plain": [
              "['precios',\n",
              " '75',\n",
              " '80',\n",
              " '68',\n",
              " '70',\n",
              " '75',\n",
              " '58',\n",
              " '80',\n",
              " '35',\n",
              " '165',\n",
              " '54',\n",
              " '99',\n",
              " '110']"
            ]
          },
          "metadata": {},
          "execution_count": 66
        }
      ]
    },
    {
      "cell_type": "code",
      "source": [
        "productos"
      ],
      "metadata": {
        "colab": {
          "base_uri": "https://localhost:8080/"
        },
        "id": "ti0_b9yZLXQf",
        "outputId": "0946e7bb-4487-4840-a5bd-055bd8ffaeb5"
      },
      "execution_count": 67,
      "outputs": [
        {
          "output_type": "execute_result",
          "data": {
            "text/plain": [
              "['productos',\n",
              " 'Patineta Nueva 1',\n",
              " 'Patineta Usada 2',\n",
              " 'Patineta Nueva 3',\n",
              " 'Patineta Usada 4',\n",
              " 'Patineta Nueva 5',\n",
              " 'Patineta Nueva 6',\n",
              " 'Patineta Nueva 7',\n",
              " 'Patineta Nueva 8',\n",
              " 'Patineta Nueva 9',\n",
              " 'Patineta Usada 10',\n",
              " 'Patineta Usada 11',\n",
              " 'Patineta Nueva 12']"
            ]
          },
          "metadata": {},
          "execution_count": 67
        }
      ]
    },
    {
      "cell_type": "code",
      "source": [
        "datos = dict(zip(productos, precios))"
      ],
      "metadata": {
        "id": "rYnVrVvFLO9p"
      },
      "execution_count": 68,
      "outputs": []
    },
    {
      "cell_type": "code",
      "source": [
        "datos.items()"
      ],
      "metadata": {
        "colab": {
          "base_uri": "https://localhost:8080/"
        },
        "id": "ts0gKIV1LP3r",
        "outputId": "c9ab98a8-75c6-4961-d16a-94c42ce306fe"
      },
      "execution_count": 69,
      "outputs": [
        {
          "output_type": "execute_result",
          "data": {
            "text/plain": [
              "dict_items([('productos', 'precios'), ('Patineta Nueva 1', '75'), ('Patineta Usada 2', '80'), ('Patineta Nueva 3', '68'), ('Patineta Usada 4', '70'), ('Patineta Nueva 5', '75'), ('Patineta Nueva 6', '58'), ('Patineta Nueva 7', '80'), ('Patineta Nueva 8', '35'), ('Patineta Nueva 9', '165'), ('Patineta Usada 10', '54'), ('Patineta Usada 11', '99'), ('Patineta Nueva 12', '110')])"
            ]
          },
          "metadata": {},
          "execution_count": 69
        }
      ]
    },
    {
      "cell_type": "code",
      "source": [
        "import csv\n",
        "\n",
        "with open('datos.csv','w') as f:\n",
        "    w = csv.writer(f)\n",
        "    w.writerows(datos.items())"
      ],
      "metadata": {
        "id": "djMD1CiiLQyV"
      },
      "execution_count": 70,
      "outputs": []
    },
    {
      "cell_type": "code",
      "source": [
        "import pandas as pd\n",
        "\n",
        "productos.remove(\"productos\")\n",
        "precios.remove(\"precios\")\n",
        "\n",
        "df = pd.DataFrame()\n",
        "\n",
        "df['Productos'] = productos\n",
        "df['Precios'] = precios\n",
        "print(df)"
      ],
      "metadata": {
        "colab": {
          "base_uri": "https://localhost:8080/"
        },
        "id": "eBwo6gB5MB4H",
        "outputId": "57d79c39-a660-4c9b-abf4-86a7cb068357"
      },
      "execution_count": 73,
      "outputs": [
        {
          "output_type": "stream",
          "name": "stdout",
          "text": [
            "            Productos Precios\n",
            "0    Patineta Nueva 1      75\n",
            "1    Patineta Usada 2      80\n",
            "2    Patineta Nueva 3      68\n",
            "3    Patineta Usada 4      70\n",
            "4    Patineta Nueva 5      75\n",
            "5    Patineta Nueva 6      58\n",
            "6    Patineta Nueva 7      80\n",
            "7    Patineta Nueva 8      35\n",
            "8    Patineta Nueva 9     165\n",
            "9   Patineta Usada 10      54\n",
            "10  Patineta Usada 11      99\n",
            "11  Patineta Nueva 12     110\n"
          ]
        }
      ]
    },
    {
      "cell_type": "markdown",
      "source": [
        "Algunos ejercicios para seguir practicando:\n",
        "\n",
        "1. Las patinetas que salgan menos que $68\n",
        "2. Las patinetas que en su nombre tengan un numero mayor a 3\n",
        "3. Traer cualquier texto de la pagina que tenga la palabra descuento u oferta.\n",
        "5. Generar un archivo .csv con dos columnas: Una conteniendo el nombre del cliente y otra su testimonio."
      ],
      "metadata": {
        "id": "jilbbh7mMm3y"
      }
    },
    {
      "cell_type": "markdown",
      "source": [
        "Las patinetas que salgan menos que $68"
      ],
      "metadata": {
        "id": "0sS4fviiMpVi"
      }
    },
    {
      "cell_type": "code",
      "source": [
        "divs = soup.find_all('div', class_='detail-box')\n",
        "\n",
        "for div in divs:\n",
        "  if (div.h6 is not None) and ('Patineta' in div.h5.text):\n",
        "    producto = div.h5.get_text(strip=True)\n",
        "    precio = div.h6.get_text(strip=True).replace('$', '')\n",
        "    if int(precio) < 68:\n",
        "       print(\"Producto:\",producto, \"Precio: \",precio,\"$\")"
      ],
      "metadata": {
        "colab": {
          "base_uri": "https://localhost:8080/"
        },
        "id": "534C7BmwMncA",
        "outputId": "6ef57346-220f-4fe9-fa68-cdae6e8e74ff"
      },
      "execution_count": 87,
      "outputs": [
        {
          "output_type": "stream",
          "name": "stdout",
          "text": [
            "Producto: Patineta Nueva 6 Precio:  58 $\n",
            "Producto: Patineta Nueva 8 Precio:  35 $\n",
            "Producto: Patineta Usada 10 Precio:  54 $\n"
          ]
        }
      ]
    },
    {
      "cell_type": "markdown",
      "source": [
        "Las patinetas que en su nombre tengan un numero mayor a 3"
      ],
      "metadata": {
        "id": "9bdukjnFUULP"
      }
    },
    {
      "cell_type": "code",
      "source": [
        "divs = soup.find_all('div', class_='detail-box')\n",
        "for div in divs:\n",
        "  try:\n",
        "    if (div.h5 is not None) and ('Patineta' in div.h5.text):\n",
        "        producto = div.h5.get_text(strip=True)\n",
        "        if re.search(\"[4-9]\", producto):\n",
        "          print(producto)\n",
        "  except AttributeError as e:\n",
        "    print(e)"
      ],
      "metadata": {
        "colab": {
          "base_uri": "https://localhost:8080/"
        },
        "id": "7JMn6XboSjrw",
        "outputId": "edd9de65-662c-499e-974e-1f03d02060de"
      },
      "execution_count": 113,
      "outputs": [
        {
          "output_type": "stream",
          "name": "stdout",
          "text": [
            "Patineta Usada 4\n",
            "Patineta Nueva 5\n",
            "Patineta Nueva 6\n",
            "Patineta Nueva 7\n",
            "Patineta Nueva 8\n",
            "Patineta Nueva 9\n"
          ]
        }
      ]
    },
    {
      "cell_type": "markdown",
      "source": [
        "Traer cualquier texto de la pagina que tenga la palabra descuento u oferta."
      ],
      "metadata": {
        "id": "aikLVEutUp2O"
      }
    },
    {
      "cell_type": "code",
      "source": [
        "strings_a_buscar = [\"descuento\", \"oferta\"]\n",
        "URL_BASE = 'https://scrapepark.org/courses/spanish'\n",
        "pedido_obtenido = requests.get(URL_BASE)\n",
        "html_obtenido = pedido_obtenido.text\n",
        "\n",
        "# 2. \"Parsear\" ese HTML\n",
        "soup = BeautifulSoup(html_obtenido, \"html.parser\")\n",
        "\n",
        "\n",
        "for string in strings_a_buscar:\n",
        "  try:\n",
        "    resultado = soup.find(string=re.compile(string))\n",
        "    print(resultado.text)\n",
        "  except AttributeError:\n",
        "    print(f\"El string '{string}' no fue encontrado\")"
      ],
      "metadata": {
        "colab": {
          "base_uri": "https://localhost:8080/"
        },
        "id": "Z_XaxyPOUqoI",
        "outputId": "47c7cee0-7b4b-4197-c2b5-25c4af738b11"
      },
      "execution_count": 120,
      "outputs": [
        {
          "output_type": "stream",
          "name": "stdout",
          "text": [
            "Suscríbete para obtener descuentos y ofertas\n",
            "\r\n",
            "                        Aprovechá nuestras ofertas.\r\n",
            "                      \n"
          ]
        }
      ]
    },
    {
      "cell_type": "markdown",
      "source": [
        "Generar un archivo .csv con dos columnas: Una conteniendo el nombre del cliente y otra su testimonio."
      ],
      "metadata": {
        "id": "gJPJOBrhViFf"
      }
    },
    {
      "cell_type": "code",
      "source": [
        "divs = soup.find_all('div', class_='detail-box')\n",
        "clientes = []\n",
        "testimonios = []\n",
        "for div in divs:\n",
        "  if (div.h5 is not None) and ('Cliente' in div.h5.text) and (div.p is not None):\n",
        "    cliente = div.h5.get_text(strip=True)\n",
        "    testimonio = div.p.get_text(strip=True)\n",
        "    clientes.append(cliente)\n",
        "    testimonios.append(testimonio)\n",
        "print(clientes)\n",
        "print(testimonios)"
      ],
      "metadata": {
        "colab": {
          "base_uri": "https://localhost:8080/"
        },
        "id": "zUF86EU2Wkxb",
        "outputId": "cd114dbb-cc97-414f-d21d-b37ef34ef33e"
      },
      "execution_count": 123,
      "outputs": [
        {
          "output_type": "stream",
          "name": "stdout",
          "text": [
            "['Cliente 1', 'Cliente 2', 'Cliente 3']\n",
            "['Los productos me encantaron y los precios son muy buenos. Lo recomiendo.', '¡La calidad y variedad de patinetas es impresionante! Definitivamente volveré a comprar.', 'Estoy muy conforme. Hay muchas patinetas y los diseños son fantásticos.']\n"
          ]
        }
      ]
    },
    {
      "cell_type": "code",
      "source": [
        "clientes.insert(0, \"clientes\")\n",
        "testimonios.insert(0, \"testimonios\")\n",
        "datosClientesTestimonios = dict(zip(clientes, testimonios))"
      ],
      "metadata": {
        "id": "BHCMtE87XdS_"
      },
      "execution_count": 124,
      "outputs": []
    },
    {
      "cell_type": "code",
      "source": [
        "datosClientesTestimonios.items()"
      ],
      "metadata": {
        "colab": {
          "base_uri": "https://localhost:8080/"
        },
        "id": "q2RJuKtlXnYS",
        "outputId": "3b95f771-1dcb-49f9-c5c0-7e9aec6aadb1"
      },
      "execution_count": 125,
      "outputs": [
        {
          "output_type": "execute_result",
          "data": {
            "text/plain": [
              "dict_items([('clientes', 'testimonios'), ('Cliente 1', 'Los productos me encantaron y los precios son muy buenos. Lo recomiendo.'), ('Cliente 2', '¡La calidad y variedad de patinetas es impresionante! Definitivamente volveré a comprar.'), ('Cliente 3', 'Estoy muy conforme. Hay muchas patinetas y los diseños son fantásticos.')])"
            ]
          },
          "metadata": {},
          "execution_count": 125
        }
      ]
    },
    {
      "cell_type": "code",
      "source": [
        "import csv\n",
        "\n",
        "with open('datosClientesTestimonios.csv','w') as f:\n",
        "    w = csv.writer(f)\n",
        "    w.writerows(datosClientesTestimonios.items())"
      ],
      "metadata": {
        "id": "HkS3BIZuVhoH"
      },
      "execution_count": 127,
      "outputs": []
    }
  ]
}